{
 "cells": [
  {
   "cell_type": "code",
   "execution_count": 1,
   "id": "initial_id",
   "metadata": {
    "ExecuteTime": {
     "end_time": "2024-04-23T17:41:50.946691Z",
     "start_time": "2024-04-23T17:41:49.612647Z"
    }
   },
   "outputs": [],
   "source": [
    "import pickle\n",
    "\n",
    "import pandas as pd\n",
    "import numpy as np\n",
    "from sklearn.model_selection import train_test_split\n",
    "import autosklearn.regression"
   ]
  },
  {
   "cell_type": "code",
   "execution_count": 2,
   "id": "b23a9dda-d89a-4bc9-93a8-0ade6afba3f4",
   "metadata": {},
   "outputs": [],
   "source": [
    "net_name='net_95_v1'"
   ]
  },
  {
   "cell_type": "code",
   "execution_count": 3,
   "id": "8003b9514dd6505b",
   "metadata": {
    "ExecuteTime": {
     "end_time": "2024-02-25T18:27:53.851791Z",
     "start_time": "2024-02-25T18:27:53.832536Z"
    },
    "collapsed": false,
    "jupyter": {
     "outputs_hidden": false
    }
   },
   "outputs": [],
   "source": [
    "alt_x = np.load(f'./simulations_net95/{net_name}/measured_data_x_alt.npy')\n",
    "alt_y = np.load(f'./simulations_net95/{net_name}/data_y_alt.npy')\n",
    "data_x = alt_x\n",
    "data_y = alt_y\n",
    "\n",
    "split_train = int(0.8 * data_x.shape[0])\n",
    "train_x = data_x[:split_train, :]\n",
    "train_y = data_y[:split_train, :]\n",
    "\n",
    "train_x, val_x, train_y, val_y = train_test_split(train_x, train_y, test_size=0.2, shuffle=True, random_state=42)\n",
    "\n",
    "train_x, test_x, train_y, test_y = train_test_split(train_x, train_y, test_size=0.3, shuffle=True, random_state=42)\n"
   ]
  },
  {
   "cell_type": "code",
   "execution_count": 4,
   "id": "815b96bd2fa485ea",
   "metadata": {
    "ExecuteTime": {
     "end_time": "2024-02-25T18:28:04.957392Z",
     "start_time": "2024-02-25T18:28:04.953994Z"
    },
    "collapsed": false,
    "jupyter": {
     "outputs_hidden": false
    }
   },
   "outputs": [],
   "source": [
    "num_input = 206\n",
    "num_output = 95\n",
    "\n",
    "in_columns = [str(i) for i in range(num_input)]\n",
    "out_columns = [str(i) for i in range(num_input, num_input + num_output)]"
   ]
  },
  {
   "cell_type": "code",
   "execution_count": 10,
   "id": "d1e1333565ba3f6b",
   "metadata": {
    "ExecuteTime": {
     "start_time": "2024-02-25T18:41:30.257998Z"
    },
    "collapsed": false,
    "is_executing": true,
    "jupyter": {
     "outputs_hidden": false
    }
   },
   "outputs": [
    {
     "name": "stdout",
     "output_type": "stream",
     "text": [
      "Training for output #0\n",
      "[WARNING] [2024-07-03 18:25:55,947:Client-AutoML(1):ec380c45-3958-11ef-acec-374faab243a8] Capping the per_run_time_limit to 29.0 to have time for a least 2 models in each process.\n"
     ]
    },
    {
     "name": "stderr",
     "output_type": "stream",
     "text": [
      "/home/aless/progetti/ML-techniques-for-State-Estimation/venv/lib/python3.8/site-packages/distributed/node.py:182: UserWarning: Port 8787 is already in use.\n",
      "Perhaps you already have a cluster running?\n",
      "Hosting the HTTP server on port 36781 instead\n",
      "  warnings.warn(\n"
     ]
    },
    {
     "name": "stdout",
     "output_type": "stream",
     "text": [
      "[WARNING] [2024-07-03 18:25:57,334:Client-EnsembleBuilder] No runs were available to build an ensemble from\n",
      "[WARNING] [2024-07-03 18:25:58,364:Client-EnsembleBuilder] No runs were available to build an ensemble from\n",
      "[WARNING] [2024-07-03 18:25:58,577:Client-EnsembleBuilder] No runs were available to build an ensemble from\n",
      "[WARNING] [2024-07-03 18:25:58,923:Client-EnsembleBuilder] No runs were available to build an ensemble from\n",
      "[WARNING] [2024-07-03 18:25:59,223:Client-EnsembleBuilder] No runs were available to build an ensemble from\n",
      "[WARNING] [2024-07-03 18:25:59,894:Client-EnsembleBuilder] No runs were available to build an ensemble from\n",
      "[WARNING] [2024-07-03 18:26:00,367:Client-EnsembleBuilder] No runs were available to build an ensemble from\n",
      "[WARNING] [2024-07-03 18:26:00,830:Client-EnsembleBuilder] No runs were available to build an ensemble from\n",
      "[WARNING] [2024-07-03 18:26:01,592:Client-EnsembleBuilder] No runs were available to build an ensemble from\n",
      "[WARNING] [2024-07-03 18:26:03,212:Client-EnsembleBuilder] No runs were available to build an ensemble from\n",
      "[WARNING] [2024-07-03 18:26:03,879:Client-EnsembleBuilder] No runs were available to build an ensemble from\n",
      "[WARNING] [2024-07-03 18:26:04,729:Client-EnsembleBuilder] No runs were available to build an ensemble from\n",
      "[WARNING] [2024-07-03 18:26:05,327:Client-EnsembleBuilder] No runs were available to build an ensemble from\n",
      "[WARNING] [2024-07-03 18:26:05,475:Client-EnsembleBuilder] No runs were available to build an ensemble from\n",
      "[WARNING] [2024-07-03 18:26:07,138:Client-EnsembleBuilder] No runs were available to build an ensemble from\n",
      "[WARNING] [2024-07-03 18:26:07,756:Client-EnsembleBuilder] No runs were available to build an ensemble from\n",
      "[WARNING] [2024-07-03 18:26:13,673:Client-EnsembleBuilder] No runs were available to build an ensemble from\n",
      "[WARNING] [2024-07-03 18:26:14,198:Client-EnsembleBuilder] No runs were available to build an ensemble from\n",
      "[WARNING] [2024-07-03 18:26:15,859:Client-EnsembleBuilder] No runs were available to build an ensemble from\n",
      "Training for output #1\n",
      "[WARNING] [2024-07-03 18:26:52,583:Client-AutoML(1):0de51725-3959-11ef-acec-374faab243a8] Capping the per_run_time_limit to 29.0 to have time for a least 2 models in each process.\n"
     ]
    },
    {
     "name": "stderr",
     "output_type": "stream",
     "text": [
      "/home/aless/progetti/ML-techniques-for-State-Estimation/venv/lib/python3.8/site-packages/distributed/node.py:182: UserWarning: Port 8787 is already in use.\n",
      "Perhaps you already have a cluster running?\n",
      "Hosting the HTTP server on port 37273 instead\n",
      "  warnings.warn(\n"
     ]
    },
    {
     "name": "stdout",
     "output_type": "stream",
     "text": [
      "[WARNING] [2024-07-03 18:26:53,978:Client-EnsembleBuilder] No runs were available to build an ensemble from\n",
      "[WARNING] [2024-07-03 18:26:54,996:Client-EnsembleBuilder] No runs were available to build an ensemble from\n",
      "[WARNING] [2024-07-03 18:26:55,075:Client-EnsembleBuilder] No runs were available to build an ensemble from\n",
      "[WARNING] [2024-07-03 18:26:55,210:Client-EnsembleBuilder] No runs were available to build an ensemble from\n",
      "[WARNING] [2024-07-03 18:26:55,574:Client-EnsembleBuilder] No runs were available to build an ensemble from\n",
      "[WARNING] [2024-07-03 18:26:55,826:Client-EnsembleBuilder] No runs were available to build an ensemble from\n",
      "[WARNING] [2024-07-03 18:26:56,783:Client-EnsembleBuilder] No runs were available to build an ensemble from\n",
      "[WARNING] [2024-07-03 18:26:57,289:Client-EnsembleBuilder] No runs were available to build an ensemble from\n",
      "[WARNING] [2024-07-03 18:26:58,441:Client-EnsembleBuilder] No runs were available to build an ensemble from\n",
      "[WARNING] [2024-07-03 18:26:59,517:Client-EnsembleBuilder] No runs were available to build an ensemble from\n",
      "[WARNING] [2024-07-03 18:27:00,193:Client-EnsembleBuilder] No runs were available to build an ensemble from\n",
      "[WARNING] [2024-07-03 18:27:01,575:Client-EnsembleBuilder] No runs were available to build an ensemble from\n",
      "[WARNING] [2024-07-03 18:27:01,885:Client-EnsembleBuilder] No runs were available to build an ensemble from\n",
      "[WARNING] [2024-07-03 18:27:02,244:Client-EnsembleBuilder] No runs were available to build an ensemble from\n",
      "[WARNING] [2024-07-03 18:27:03,793:Client-EnsembleBuilder] No runs were available to build an ensemble from\n",
      "[WARNING] [2024-07-03 18:27:04,392:Client-EnsembleBuilder] No runs were available to build an ensemble from\n",
      "[WARNING] [2024-07-03 18:27:08,906:Client-EnsembleBuilder] No runs were available to build an ensemble from\n",
      "[WARNING] [2024-07-03 18:27:09,417:Client-EnsembleBuilder] No runs were available to build an ensemble from\n",
      "[WARNING] [2024-07-03 18:27:11,027:Client-EnsembleBuilder] No runs were available to build an ensemble from\n",
      "Training for output #2\n",
      "[WARNING] [2024-07-03 18:27:49,731:Client-AutoML(1):2ffafceb-3959-11ef-acec-374faab243a8] Capping the per_run_time_limit to 29.0 to have time for a least 2 models in each process.\n"
     ]
    },
    {
     "name": "stderr",
     "output_type": "stream",
     "text": [
      "/home/aless/progetti/ML-techniques-for-State-Estimation/venv/lib/python3.8/site-packages/distributed/node.py:182: UserWarning: Port 8787 is already in use.\n",
      "Perhaps you already have a cluster running?\n",
      "Hosting the HTTP server on port 43863 instead\n",
      "  warnings.warn(\n"
     ]
    },
    {
     "name": "stdout",
     "output_type": "stream",
     "text": [
      "[WARNING] [2024-07-03 18:27:51,164:Client-EnsembleBuilder] No runs were available to build an ensemble from\n",
      "[WARNING] [2024-07-03 18:27:52,312:Client-EnsembleBuilder] No runs were available to build an ensemble from\n",
      "[WARNING] [2024-07-03 18:27:52,426:Client-EnsembleBuilder] No runs were available to build an ensemble from\n",
      "[WARNING] [2024-07-03 18:27:52,742:Client-EnsembleBuilder] No runs were available to build an ensemble from\n",
      "[WARNING] [2024-07-03 18:27:53,173:Client-EnsembleBuilder] No runs were available to build an ensemble from\n",
      "[WARNING] [2024-07-03 18:27:53,787:Client-EnsembleBuilder] No runs were available to build an ensemble from\n",
      "[WARNING] [2024-07-03 18:27:54,089:Client-EnsembleBuilder] No runs were available to build an ensemble from\n",
      "[WARNING] [2024-07-03 18:27:54,609:Client-EnsembleBuilder] No runs were available to build an ensemble from\n",
      "[WARNING] [2024-07-03 18:27:55,411:Client-EnsembleBuilder] No runs were available to build an ensemble from\n",
      "[WARNING] [2024-07-03 18:27:56,996:Client-EnsembleBuilder] No runs were available to build an ensemble from\n",
      "[WARNING] [2024-07-03 18:27:57,462:Client-EnsembleBuilder] No runs were available to build an ensemble from\n",
      "[WARNING] [2024-07-03 18:27:58,627:Client-EnsembleBuilder] No runs were available to build an ensemble from\n",
      "[WARNING] [2024-07-03 18:27:59,238:Client-EnsembleBuilder] No runs were available to build an ensemble from\n",
      "[WARNING] [2024-07-03 18:28:00,845:Client-EnsembleBuilder] No runs were available to build an ensemble from\n",
      "[WARNING] [2024-07-03 18:28:01,564:Client-EnsembleBuilder] No runs were available to build an ensemble from\n",
      "[WARNING] [2024-07-03 18:28:06,565:Client-EnsembleBuilder] No runs were available to build an ensemble from\n",
      "[WARNING] [2024-07-03 18:28:07,113:Client-EnsembleBuilder] No runs were available to build an ensemble from\n",
      "[WARNING] [2024-07-03 18:28:08,723:Client-EnsembleBuilder] No runs were available to build an ensemble from\n",
      "Training for output #3\n",
      "[WARNING] [2024-07-03 18:28:48,546:Client-AutoML(1):532065b2-3959-11ef-acec-374faab243a8] Capping the per_run_time_limit to 29.0 to have time for a least 2 models in each process.\n"
     ]
    },
    {
     "name": "stderr",
     "output_type": "stream",
     "text": [
      "/home/aless/progetti/ML-techniques-for-State-Estimation/venv/lib/python3.8/site-packages/distributed/node.py:182: UserWarning: Port 8787 is already in use.\n",
      "Perhaps you already have a cluster running?\n",
      "Hosting the HTTP server on port 34863 instead\n",
      "  warnings.warn(\n"
     ]
    },
    {
     "name": "stdout",
     "output_type": "stream",
     "text": [
      "[WARNING] [2024-07-03 18:28:49,964:Client-EnsembleBuilder] No runs were available to build an ensemble from\n",
      "[WARNING] [2024-07-03 18:28:51,009:Client-EnsembleBuilder] No runs were available to build an ensemble from\n",
      "[WARNING] [2024-07-03 18:28:51,108:Client-EnsembleBuilder] No runs were available to build an ensemble from\n",
      "[WARNING] [2024-07-03 18:28:51,366:Client-EnsembleBuilder] No runs were available to build an ensemble from\n",
      "[WARNING] [2024-07-03 18:28:51,513:Client-EnsembleBuilder] No runs were available to build an ensemble from\n",
      "[WARNING] [2024-07-03 18:28:52,084:Client-EnsembleBuilder] No runs were available to build an ensemble from\n",
      "[WARNING] [2024-07-03 18:28:52,752:Client-EnsembleBuilder] No runs were available to build an ensemble from\n",
      "[WARNING] [2024-07-03 18:28:53,281:Client-EnsembleBuilder] No runs were available to build an ensemble from\n",
      "[WARNING] [2024-07-03 18:28:54,394:Client-EnsembleBuilder] No runs were available to build an ensemble from\n",
      "[WARNING] [2024-07-03 18:28:55,793:Client-EnsembleBuilder] No runs were available to build an ensemble from\n",
      "[WARNING] [2024-07-03 18:28:56,165:Client-EnsembleBuilder] No runs were available to build an ensemble from\n",
      "[WARNING] [2024-07-03 18:28:57,588:Client-EnsembleBuilder] No runs were available to build an ensemble from\n",
      "[WARNING] [2024-07-03 18:28:57,784:Client-EnsembleBuilder] No runs were available to build an ensemble from\n",
      "[WARNING] [2024-07-03 18:28:58,362:Client-EnsembleBuilder] No runs were available to build an ensemble from\n",
      "[WARNING] [2024-07-03 18:28:59,844:Client-EnsembleBuilder] No runs were available to build an ensemble from\n",
      "[WARNING] [2024-07-03 18:29:00,461:Client-EnsembleBuilder] No runs were available to build an ensemble from\n",
      "[WARNING] [2024-07-03 18:29:05,062:Client-EnsembleBuilder] No runs were available to build an ensemble from\n",
      "[WARNING] [2024-07-03 18:29:05,552:Client-EnsembleBuilder] No runs were available to build an ensemble from\n",
      "[WARNING] [2024-07-03 18:29:07,163:Client-EnsembleBuilder] No runs were available to build an ensemble from\n",
      "Training for output #4\n",
      "[WARNING] [2024-07-03 18:29:45,660:Client-AutoML(1):7524dd6f-3959-11ef-acec-374faab243a8] Capping the per_run_time_limit to 29.0 to have time for a least 2 models in each process.\n"
     ]
    },
    {
     "name": "stderr",
     "output_type": "stream",
     "text": [
      "/home/aless/progetti/ML-techniques-for-State-Estimation/venv/lib/python3.8/site-packages/distributed/node.py:182: UserWarning: Port 8787 is already in use.\n",
      "Perhaps you already have a cluster running?\n",
      "Hosting the HTTP server on port 34251 instead\n",
      "  warnings.warn(\n"
     ]
    },
    {
     "name": "stdout",
     "output_type": "stream",
     "text": [
      "[WARNING] [2024-07-03 18:29:47,084:Client-EnsembleBuilder] No runs were available to build an ensemble from\n",
      "[WARNING] [2024-07-03 18:29:48,119:Client-EnsembleBuilder] No runs were available to build an ensemble from\n",
      "[WARNING] [2024-07-03 18:29:48,334:Client-EnsembleBuilder] No runs were available to build an ensemble from\n",
      "[WARNING] [2024-07-03 18:29:48,670:Client-EnsembleBuilder] No runs were available to build an ensemble from\n",
      "[WARNING] [2024-07-03 18:29:48,980:Client-EnsembleBuilder] No runs were available to build an ensemble from\n",
      "[WARNING] [2024-07-03 18:29:49,566:Client-EnsembleBuilder] No runs were available to build an ensemble from\n",
      "[WARNING] [2024-07-03 18:29:49,918:Client-EnsembleBuilder] No runs were available to build an ensemble from\n",
      "[WARNING] [2024-07-03 18:29:50,458:Client-EnsembleBuilder] No runs were available to build an ensemble from\n",
      "[WARNING] [2024-07-03 18:29:51,239:Client-EnsembleBuilder] No runs were available to build an ensemble from\n",
      "[WARNING] [2024-07-03 18:29:52,678:Client-EnsembleBuilder] No runs were available to build an ensemble from\n",
      "[WARNING] [2024-07-03 18:29:53,109:Client-EnsembleBuilder] No runs were available to build an ensemble from\n",
      "[WARNING] [2024-07-03 18:29:54,113:Client-EnsembleBuilder] No runs were available to build an ensemble from\n",
      "[WARNING] [2024-07-03 18:29:54,706:Client-EnsembleBuilder] No runs were available to build an ensemble from\n",
      "[WARNING] [2024-07-03 18:29:56,274:Client-EnsembleBuilder] No runs were available to build an ensemble from\n",
      "[WARNING] [2024-07-03 18:29:56,971:Client-EnsembleBuilder] No runs were available to build an ensemble from\n",
      "[WARNING] [2024-07-03 18:30:02,528:Client-EnsembleBuilder] No runs were available to build an ensemble from\n",
      "[WARNING] [2024-07-03 18:30:03,067:Client-EnsembleBuilder] No runs were available to build an ensemble from\n",
      "[WARNING] [2024-07-03 18:30:04,656:Client-EnsembleBuilder] No runs were available to build an ensemble from\n",
      "Training for output #5\n",
      "[WARNING] [2024-07-03 18:30:43,534:Client-AutoML(1):97b6e79e-3959-11ef-acec-374faab243a8] Capping the per_run_time_limit to 29.0 to have time for a least 2 models in each process.\n"
     ]
    },
    {
     "name": "stderr",
     "output_type": "stream",
     "text": [
      "/home/aless/progetti/ML-techniques-for-State-Estimation/venv/lib/python3.8/site-packages/distributed/node.py:182: UserWarning: Port 8787 is already in use.\n",
      "Perhaps you already have a cluster running?\n",
      "Hosting the HTTP server on port 39079 instead\n",
      "  warnings.warn(\n"
     ]
    },
    {
     "name": "stdout",
     "output_type": "stream",
     "text": [
      "[WARNING] [2024-07-03 18:30:45,008:Client-EnsembleBuilder] No runs were available to build an ensemble from\n",
      "[WARNING] [2024-07-03 18:30:46,160:Client-EnsembleBuilder] No runs were available to build an ensemble from\n",
      "[WARNING] [2024-07-03 18:30:46,231:Client-EnsembleBuilder] No runs were available to build an ensemble from\n",
      "[WARNING] [2024-07-03 18:30:46,390:Client-EnsembleBuilder] No runs were available to build an ensemble from\n",
      "[WARNING] [2024-07-03 18:30:46,611:Client-EnsembleBuilder] No runs were available to build an ensemble from\n",
      "[WARNING] [2024-07-03 18:30:47,073:Client-EnsembleBuilder] No runs were available to build an ensemble from\n",
      "[WARNING] [2024-07-03 18:30:47,743:Client-EnsembleBuilder] No runs were available to build an ensemble from\n",
      "[WARNING] [2024-07-03 18:30:47,992:Client-EnsembleBuilder] No runs were available to build an ensemble from\n",
      "[WARNING] [2024-07-03 18:30:48,496:Client-EnsembleBuilder] No runs were available to build an ensemble from\n",
      "[WARNING] [2024-07-03 18:30:49,401:Client-EnsembleBuilder] No runs were available to build an ensemble from\n",
      "[WARNING] [2024-07-03 18:30:50,872:Client-EnsembleBuilder] No runs were available to build an ensemble from\n",
      "[WARNING] [2024-07-03 18:30:51,191:Client-EnsembleBuilder] No runs were available to build an ensemble from\n",
      "[WARNING] [2024-07-03 18:30:52,354:Client-EnsembleBuilder] No runs were available to build an ensemble from\n",
      "[WARNING] [2024-07-03 18:30:52,951:Client-EnsembleBuilder] No runs were available to build an ensemble from\n",
      "[WARNING] [2024-07-03 18:30:54,547:Client-EnsembleBuilder] No runs were available to build an ensemble from\n",
      "[WARNING] [2024-07-03 18:30:55,165:Client-EnsembleBuilder] No runs were available to build an ensemble from\n",
      "[WARNING] [2024-07-03 18:31:00,701:Client-EnsembleBuilder] No runs were available to build an ensemble from\n",
      "[WARNING] [2024-07-03 18:31:01,232:Client-EnsembleBuilder] No runs were available to build an ensemble from\n",
      "[WARNING] [2024-07-03 18:31:02,860:Client-EnsembleBuilder] No runs were available to build an ensemble from\n",
      "Training for output #6\n",
      "[WARNING] [2024-07-03 18:31:39,785:Client-AutoML(1):b937b708-3959-11ef-acec-374faab243a8] Capping the per_run_time_limit to 29.0 to have time for a least 2 models in each process.\n"
     ]
    },
    {
     "name": "stderr",
     "output_type": "stream",
     "text": [
      "/home/aless/progetti/ML-techniques-for-State-Estimation/venv/lib/python3.8/site-packages/distributed/node.py:182: UserWarning: Port 8787 is already in use.\n",
      "Perhaps you already have a cluster running?\n",
      "Hosting the HTTP server on port 32781 instead\n",
      "  warnings.warn(\n"
     ]
    },
    {
     "name": "stdout",
     "output_type": "stream",
     "text": [
      "[WARNING] [2024-07-03 18:31:41,299:Client-EnsembleBuilder] No runs were available to build an ensemble from\n",
      "[WARNING] [2024-07-03 18:31:42,294:Client-EnsembleBuilder] No runs were available to build an ensemble from\n",
      "[WARNING] [2024-07-03 18:31:42,531:Client-EnsembleBuilder] No runs were available to build an ensemble from\n",
      "[WARNING] [2024-07-03 18:31:42,886:Client-EnsembleBuilder] No runs were available to build an ensemble from\n",
      "[WARNING] [2024-07-03 18:31:43,136:Client-EnsembleBuilder] No runs were available to build an ensemble from\n",
      "[WARNING] [2024-07-03 18:31:43,733:Client-EnsembleBuilder] No runs were available to build an ensemble from\n",
      "[WARNING] [2024-07-03 18:31:44,026:Client-EnsembleBuilder] No runs were available to build an ensemble from\n",
      "[WARNING] [2024-07-03 18:31:44,569:Client-EnsembleBuilder] No runs were available to build an ensemble from\n",
      "[WARNING] [2024-07-03 18:31:45,344:Client-EnsembleBuilder] No runs were available to build an ensemble from\n",
      "[WARNING] [2024-07-03 18:31:47,053:Client-EnsembleBuilder] No runs were available to build an ensemble from\n",
      "[WARNING] [2024-07-03 18:31:47,673:Client-EnsembleBuilder] No runs were available to build an ensemble from\n",
      "[WARNING] [2024-07-03 18:31:48,693:Client-EnsembleBuilder] No runs were available to build an ensemble from\n",
      "[WARNING] [2024-07-03 18:31:49,305:Client-EnsembleBuilder] No runs were available to build an ensemble from\n",
      "[WARNING] [2024-07-03 18:31:50,906:Client-EnsembleBuilder] No runs were available to build an ensemble from\n",
      "[WARNING] [2024-07-03 18:31:51,570:Client-EnsembleBuilder] No runs were available to build an ensemble from\n",
      "[WARNING] [2024-07-03 18:31:57,843:Client-EnsembleBuilder] No runs were available to build an ensemble from\n",
      "[WARNING] [2024-07-03 18:31:58,455:Client-EnsembleBuilder] No runs were available to build an ensemble from\n",
      "[WARNING] [2024-07-03 18:32:00,212:Client-EnsembleBuilder] No runs were available to build an ensemble from\n",
      "Training for output #7\n",
      "[WARNING] [2024-07-03 18:32:40,639:Client-AutoML(1):da635761-3959-11ef-acec-374faab243a8] Capping the per_run_time_limit to 29.0 to have time for a least 2 models in each process.\n"
     ]
    },
    {
     "name": "stderr",
     "output_type": "stream",
     "text": [
      "/home/aless/progetti/ML-techniques-for-State-Estimation/venv/lib/python3.8/site-packages/distributed/node.py:182: UserWarning: Port 8787 is already in use.\n",
      "Perhaps you already have a cluster running?\n",
      "Hosting the HTTP server on port 46051 instead\n",
      "  warnings.warn(\n"
     ]
    },
    {
     "name": "stdout",
     "output_type": "stream",
     "text": [
      "[WARNING] [2024-07-03 18:32:42,191:Client-EnsembleBuilder] No runs were available to build an ensemble from\n",
      "[WARNING] [2024-07-03 18:32:43,190:Client-EnsembleBuilder] No runs were available to build an ensemble from\n",
      "[WARNING] [2024-07-03 18:32:43,349:Client-EnsembleBuilder] No runs were available to build an ensemble from\n",
      "[WARNING] [2024-07-03 18:32:43,781:Client-EnsembleBuilder] No runs were available to build an ensemble from\n",
      "[WARNING] [2024-07-03 18:32:44,113:Client-EnsembleBuilder] No runs were available to build an ensemble from\n",
      "[WARNING] [2024-07-03 18:32:44,748:Client-EnsembleBuilder] No runs were available to build an ensemble from\n",
      "[WARNING] [2024-07-03 18:32:44,944:Client-EnsembleBuilder] No runs were available to build an ensemble from\n",
      "[WARNING] [2024-07-03 18:32:45,444:Client-EnsembleBuilder] No runs were available to build an ensemble from\n",
      "[WARNING] [2024-07-03 18:32:46,427:Client-EnsembleBuilder] No runs were available to build an ensemble from\n",
      "[WARNING] [2024-07-03 18:32:48,002:Client-EnsembleBuilder] No runs were available to build an ensemble from\n",
      "[WARNING] [2024-07-03 18:32:49,130:Client-EnsembleBuilder] No runs were available to build an ensemble from\n",
      "[WARNING] [2024-07-03 18:32:49,747:Client-EnsembleBuilder] No runs were available to build an ensemble from\n",
      "[WARNING] [2024-07-03 18:32:50,467:Client-EnsembleBuilder] No runs were available to build an ensemble from\n",
      "[WARNING] [2024-07-03 18:32:50,760:Client-EnsembleBuilder] No runs were available to build an ensemble from\n",
      "[WARNING] [2024-07-03 18:32:52,336:Client-EnsembleBuilder] No runs were available to build an ensemble from\n",
      "[WARNING] [2024-07-03 18:32:52,957:Client-EnsembleBuilder] No runs were available to build an ensemble from\n",
      "[WARNING] [2024-07-03 18:32:59,417:Client-EnsembleBuilder] No runs were available to build an ensemble from\n",
      "[WARNING] [2024-07-03 18:33:00,020:Client-EnsembleBuilder] No runs were available to build an ensemble from\n",
      "[WARNING] [2024-07-03 18:33:01,678:Client-EnsembleBuilder] No runs were available to build an ensemble from\n",
      "Training for output #8\n",
      "[WARNING] [2024-07-03 18:33:37,225:Client-AutoML(1):ff31f06a-3959-11ef-acec-374faab243a8] Capping the per_run_time_limit to 29.0 to have time for a least 2 models in each process.\n"
     ]
    },
    {
     "name": "stderr",
     "output_type": "stream",
     "text": [
      "/home/aless/progetti/ML-techniques-for-State-Estimation/venv/lib/python3.8/site-packages/distributed/node.py:182: UserWarning: Port 8787 is already in use.\n",
      "Perhaps you already have a cluster running?\n",
      "Hosting the HTTP server on port 45725 instead\n",
      "  warnings.warn(\n"
     ]
    },
    {
     "name": "stdout",
     "output_type": "stream",
     "text": [
      "[WARNING] [2024-07-03 18:33:38,627:Client-EnsembleBuilder] No runs were available to build an ensemble from\n",
      "[WARNING] [2024-07-03 18:33:39,601:Client-EnsembleBuilder] No runs were available to build an ensemble from\n",
      "[WARNING] [2024-07-03 18:33:39,677:Client-EnsembleBuilder] No runs were available to build an ensemble from\n",
      "[WARNING] [2024-07-03 18:33:39,839:Client-EnsembleBuilder] No runs were available to build an ensemble from\n",
      "[WARNING] [2024-07-03 18:33:40,215:Client-EnsembleBuilder] No runs were available to build an ensemble from\n",
      "[WARNING] [2024-07-03 18:33:40,480:Client-EnsembleBuilder] No runs were available to build an ensemble from\n",
      "[WARNING] [2024-07-03 18:33:41,149:Client-EnsembleBuilder] No runs were available to build an ensemble from\n",
      "[WARNING] [2024-07-03 18:33:41,401:Client-EnsembleBuilder] No runs were available to build an ensemble from\n",
      "[WARNING] [2024-07-03 18:33:41,909:Client-EnsembleBuilder] No runs were available to build an ensemble from\n",
      "[WARNING] [2024-07-03 18:33:42,780:Client-EnsembleBuilder] No runs were available to build an ensemble from\n",
      "[WARNING] [2024-07-03 18:33:44,218:Client-EnsembleBuilder] No runs were available to build an ensemble from\n",
      "[WARNING] [2024-07-03 18:33:44,737:Client-EnsembleBuilder] No runs were available to build an ensemble from\n",
      "[WARNING] [2024-07-03 18:33:45,687:Client-EnsembleBuilder] No runs were available to build an ensemble from\n",
      "[WARNING] [2024-07-03 18:33:46,499:Client-EnsembleBuilder] No runs were available to build an ensemble from\n",
      "[WARNING] [2024-07-03 18:33:48,038:Client-EnsembleBuilder] No runs were available to build an ensemble from\n",
      "[WARNING] [2024-07-03 18:33:48,629:Client-EnsembleBuilder] No runs were available to build an ensemble from\n",
      "[WARNING] [2024-07-03 18:33:53,672:Client-EnsembleBuilder] No runs were available to build an ensemble from\n",
      "[WARNING] [2024-07-03 18:33:54,336:Client-EnsembleBuilder] No runs were available to build an ensemble from\n",
      "[WARNING] [2024-07-03 18:33:55,914:Client-EnsembleBuilder] No runs were available to build an ensemble from\n",
      "Training for output #9\n",
      "[WARNING] [2024-07-03 18:34:33,414:Client-AutoML(1):2057d367-395a-11ef-acec-374faab243a8] Capping the per_run_time_limit to 29.0 to have time for a least 2 models in each process.\n"
     ]
    },
    {
     "name": "stderr",
     "output_type": "stream",
     "text": [
      "/home/aless/progetti/ML-techniques-for-State-Estimation/venv/lib/python3.8/site-packages/distributed/node.py:182: UserWarning: Port 8787 is already in use.\n",
      "Perhaps you already have a cluster running?\n",
      "Hosting the HTTP server on port 35359 instead\n",
      "  warnings.warn(\n"
     ]
    },
    {
     "name": "stdout",
     "output_type": "stream",
     "text": [
      "[WARNING] [2024-07-03 18:34:34,857:Client-EnsembleBuilder] No runs were available to build an ensemble from\n",
      "[WARNING] [2024-07-03 18:34:35,910:Client-EnsembleBuilder] No runs were available to build an ensemble from\n",
      "[WARNING] [2024-07-03 18:34:36,062:Client-EnsembleBuilder] No runs were available to build an ensemble from\n",
      "[WARNING] [2024-07-03 18:34:36,459:Client-EnsembleBuilder] No runs were available to build an ensemble from\n",
      "[WARNING] [2024-07-03 18:34:36,693:Client-EnsembleBuilder] No runs were available to build an ensemble from\n",
      "[WARNING] [2024-07-03 18:34:37,351:Client-EnsembleBuilder] No runs were available to build an ensemble from\n",
      "[WARNING] [2024-07-03 18:34:37,624:Client-EnsembleBuilder] No runs were available to build an ensemble from\n",
      "[WARNING] [2024-07-03 18:34:38,149:Client-EnsembleBuilder] No runs were available to build an ensemble from\n",
      "[WARNING] [2024-07-03 18:34:39,133:Client-EnsembleBuilder] No runs were available to build an ensemble from\n",
      "[WARNING] [2024-07-03 18:34:40,565:Client-EnsembleBuilder] No runs were available to build an ensemble from\n",
      "[WARNING] [2024-07-03 18:34:41,368:Client-EnsembleBuilder] No runs were available to build an ensemble from\n",
      "[WARNING] [2024-07-03 18:34:42,067:Client-EnsembleBuilder] No runs were available to build an ensemble from\n",
      "[WARNING] [2024-07-03 18:34:42,812:Client-EnsembleBuilder] No runs were available to build an ensemble from\n",
      "[WARNING] [2024-07-03 18:34:43,001:Client-EnsembleBuilder] No runs were available to build an ensemble from\n",
      "[WARNING] [2024-07-03 18:34:44,512:Client-EnsembleBuilder] No runs were available to build an ensemble from\n",
      "[WARNING] [2024-07-03 18:34:45,102:Client-EnsembleBuilder] No runs were available to build an ensemble from\n",
      "[WARNING] [2024-07-03 18:34:52,118:Client-EnsembleBuilder] No runs were available to build an ensemble from\n",
      "[WARNING] [2024-07-03 18:34:52,773:Client-EnsembleBuilder] No runs were available to build an ensemble from\n",
      "[WARNING] [2024-07-03 18:34:54,392:Client-EnsembleBuilder] No runs were available to build an ensemble from\n",
      "Training for output #10\n",
      "[WARNING] [2024-07-03 18:35:29,225:Client-AutoML(1):41d66232-395a-11ef-acec-374faab243a8] Capping the per_run_time_limit to 29.0 to have time for a least 2 models in each process.\n"
     ]
    },
    {
     "name": "stderr",
     "output_type": "stream",
     "text": [
      "/home/aless/progetti/ML-techniques-for-State-Estimation/venv/lib/python3.8/site-packages/distributed/node.py:182: UserWarning: Port 8787 is already in use.\n",
      "Perhaps you already have a cluster running?\n",
      "Hosting the HTTP server on port 34771 instead\n",
      "  warnings.warn(\n"
     ]
    },
    {
     "name": "stdout",
     "output_type": "stream",
     "text": [
      "[WARNING] [2024-07-03 18:35:30,736:Client-EnsembleBuilder] No runs were available to build an ensemble from\n",
      "[WARNING] [2024-07-03 18:35:31,807:Client-EnsembleBuilder] No runs were available to build an ensemble from\n",
      "[WARNING] [2024-07-03 18:35:32,072:Client-EnsembleBuilder] No runs were available to build an ensemble from\n",
      "[WARNING] [2024-07-03 18:35:32,361:Client-EnsembleBuilder] No runs were available to build an ensemble from\n",
      "[WARNING] [2024-07-03 18:35:32,833:Client-EnsembleBuilder] No runs were available to build an ensemble from\n",
      "[WARNING] [2024-07-03 18:35:33,559:Client-EnsembleBuilder] No runs were available to build an ensemble from\n",
      "[WARNING] [2024-07-03 18:35:33,747:Client-EnsembleBuilder] No runs were available to build an ensemble from\n",
      "[WARNING] [2024-07-03 18:35:34,284:Client-EnsembleBuilder] No runs were available to build an ensemble from\n",
      "[WARNING] [2024-07-03 18:35:35,590:Client-EnsembleBuilder] No runs were available to build an ensemble from\n",
      "[WARNING] [2024-07-03 18:35:37,013:Client-EnsembleBuilder] No runs were available to build an ensemble from\n",
      "[WARNING] [2024-07-03 18:35:38,787:Client-EnsembleBuilder] No runs were available to build an ensemble from\n",
      "[WARNING] [2024-07-03 18:35:39,394:Client-EnsembleBuilder] No runs were available to build an ensemble from\n",
      "[WARNING] [2024-07-03 18:35:40,152:Client-EnsembleBuilder] No runs were available to build an ensemble from\n",
      "[WARNING] [2024-07-03 18:35:40,526:Client-EnsembleBuilder] No runs were available to build an ensemble from\n",
      "[WARNING] [2024-07-03 18:35:42,370:Client-EnsembleBuilder] No runs were available to build an ensemble from\n",
      "[WARNING] [2024-07-03 18:35:43,372:Client-EnsembleBuilder] No runs were available to build an ensemble from\n",
      "[WARNING] [2024-07-03 18:35:55,729:Client-EnsembleBuilder] No runs were available to build an ensemble from\n",
      "[WARNING] [2024-07-03 18:35:56,553:Client-EnsembleBuilder] No runs were available to build an ensemble from\n",
      "[WARNING] [2024-07-03 18:35:58,383:Client-EnsembleBuilder] No runs were available to build an ensemble from\n",
      "[WARNING] [2024-07-03 18:36:00,285:Client-EnsembleBuilder] No runs were available to build an ensemble from\n",
      "Training for output #11\n",
      "[WARNING] [2024-07-03 18:36:27,330:Client-AutoML(1):643c533e-395a-11ef-acec-374faab243a8] Capping the per_run_time_limit to 29.0 to have time for a least 2 models in each process.\n"
     ]
    },
    {
     "name": "stderr",
     "output_type": "stream",
     "text": [
      "/home/aless/progetti/ML-techniques-for-State-Estimation/venv/lib/python3.8/site-packages/distributed/node.py:182: UserWarning: Port 8787 is already in use.\n",
      "Perhaps you already have a cluster running?\n",
      "Hosting the HTTP server on port 38887 instead\n",
      "  warnings.warn(\n"
     ]
    },
    {
     "name": "stdout",
     "output_type": "stream",
     "text": [
      "[WARNING] [2024-07-03 18:36:28,900:Client-EnsembleBuilder] No runs were available to build an ensemble from\n",
      "[WARNING] [2024-07-03 18:36:29,894:Client-EnsembleBuilder] No runs were available to build an ensemble from\n",
      "[WARNING] [2024-07-03 18:36:30,109:Client-EnsembleBuilder] No runs were available to build an ensemble from\n",
      "[WARNING] [2024-07-03 18:36:30,550:Client-EnsembleBuilder] No runs were available to build an ensemble from\n",
      "[WARNING] [2024-07-03 18:36:30,867:Client-EnsembleBuilder] No runs were available to build an ensemble from\n",
      "[WARNING] [2024-07-03 18:36:31,590:Client-EnsembleBuilder] No runs were available to build an ensemble from\n",
      "[WARNING] [2024-07-03 18:36:31,764:Client-EnsembleBuilder] No runs were available to build an ensemble from\n",
      "[WARNING] [2024-07-03 18:36:32,270:Client-EnsembleBuilder] No runs were available to build an ensemble from\n",
      "[WARNING] [2024-07-03 18:36:33,343:Client-EnsembleBuilder] No runs were available to build an ensemble from\n",
      "[WARNING] [2024-07-03 18:36:34,846:Client-EnsembleBuilder] No runs were available to build an ensemble from\n",
      "[WARNING] [2024-07-03 18:36:35,264:Client-EnsembleBuilder] No runs were available to build an ensemble from\n",
      "[WARNING] [2024-07-03 18:36:36,489:Client-EnsembleBuilder] No runs were available to build an ensemble from\n",
      "[WARNING] [2024-07-03 18:36:36,891:Client-EnsembleBuilder] No runs were available to build an ensemble from\n",
      "[WARNING] [2024-07-03 18:36:37,317:Client-EnsembleBuilder] No runs were available to build an ensemble from\n",
      "[WARNING] [2024-07-03 18:36:38,931:Client-EnsembleBuilder] No runs were available to build an ensemble from\n",
      "[WARNING] [2024-07-03 18:36:39,601:Client-EnsembleBuilder] No runs were available to build an ensemble from\n",
      "[WARNING] [2024-07-03 18:36:46,564:Client-EnsembleBuilder] No runs were available to build an ensemble from\n",
      "[WARNING] [2024-07-03 18:36:47,155:Client-EnsembleBuilder] No runs were available to build an ensemble from\n",
      "[WARNING] [2024-07-03 18:36:48,904:Client-EnsembleBuilder] No runs were available to build an ensemble from\n",
      "Training for output #12\n",
      "[WARNING] [2024-07-03 18:37:22,853:Client-AutoML(1):85a24368-395a-11ef-acec-374faab243a8] Capping the per_run_time_limit to 29.0 to have time for a least 2 models in each process.\n"
     ]
    },
    {
     "name": "stderr",
     "output_type": "stream",
     "text": [
      "/home/aless/progetti/ML-techniques-for-State-Estimation/venv/lib/python3.8/site-packages/distributed/node.py:182: UserWarning: Port 8787 is already in use.\n",
      "Perhaps you already have a cluster running?\n",
      "Hosting the HTTP server on port 36361 instead\n",
      "  warnings.warn(\n"
     ]
    },
    {
     "name": "stdout",
     "output_type": "stream",
     "text": [
      "[WARNING] [2024-07-03 18:37:24,419:Client-EnsembleBuilder] No runs were available to build an ensemble from\n",
      "[WARNING] [2024-07-03 18:37:25,409:Client-EnsembleBuilder] No runs were available to build an ensemble from\n",
      "[WARNING] [2024-07-03 18:37:25,619:Client-EnsembleBuilder] No runs were available to build an ensemble from\n",
      "[WARNING] [2024-07-03 18:37:26,091:Client-EnsembleBuilder] No runs were available to build an ensemble from\n",
      "[WARNING] [2024-07-03 18:37:26,301:Client-EnsembleBuilder] No runs were available to build an ensemble from\n",
      "[WARNING] [2024-07-03 18:37:26,987:Client-EnsembleBuilder] No runs were available to build an ensemble from\n",
      "[WARNING] [2024-07-03 18:37:27,201:Client-EnsembleBuilder] No runs were available to build an ensemble from\n",
      "[WARNING] [2024-07-03 18:37:27,815:Client-EnsembleBuilder] No runs were available to build an ensemble from\n",
      "[WARNING] [2024-07-03 18:37:28,738:Client-EnsembleBuilder] No runs were available to build an ensemble from\n",
      "[WARNING] [2024-07-03 18:37:30,621:Client-EnsembleBuilder] No runs were available to build an ensemble from\n",
      "[WARNING] [2024-07-03 18:37:31,543:Client-EnsembleBuilder] No runs were available to build an ensemble from\n",
      "[WARNING] [2024-07-03 18:37:32,023:Client-EnsembleBuilder] No runs were available to build an ensemble from\n",
      "[WARNING] [2024-07-03 18:37:32,697:Client-EnsembleBuilder] No runs were available to build an ensemble from\n",
      "[WARNING] [2024-07-03 18:37:33,239:Client-EnsembleBuilder] No runs were available to build an ensemble from\n",
      "[WARNING] [2024-07-03 18:37:34,790:Client-EnsembleBuilder] No runs were available to build an ensemble from\n",
      "[WARNING] [2024-07-03 18:37:35,537:Client-EnsembleBuilder] No runs were available to build an ensemble from\n",
      "[WARNING] [2024-07-03 18:37:41,929:Client-EnsembleBuilder] No runs were available to build an ensemble from\n",
      "[WARNING] [2024-07-03 18:37:42,494:Client-EnsembleBuilder] No runs were available to build an ensemble from\n",
      "[WARNING] [2024-07-03 18:37:44,210:Client-EnsembleBuilder] No runs were available to build an ensemble from\n",
      "Training for output #13\n",
      "[WARNING] [2024-07-03 18:38:22,791:Client-AutoML(1):a7e56994-395a-11ef-acec-374faab243a8] Capping the per_run_time_limit to 29.0 to have time for a least 2 models in each process.\n"
     ]
    },
    {
     "name": "stderr",
     "output_type": "stream",
     "text": [
      "/home/aless/progetti/ML-techniques-for-State-Estimation/venv/lib/python3.8/site-packages/distributed/node.py:182: UserWarning: Port 8787 is already in use.\n",
      "Perhaps you already have a cluster running?\n",
      "Hosting the HTTP server on port 43861 instead\n",
      "  warnings.warn(\n"
     ]
    },
    {
     "name": "stdout",
     "output_type": "stream",
     "text": [
      "[WARNING] [2024-07-03 18:38:24,463:Client-EnsembleBuilder] No runs were available to build an ensemble from\n",
      "[WARNING] [2024-07-03 18:38:25,504:Client-EnsembleBuilder] No runs were available to build an ensemble from\n",
      "[WARNING] [2024-07-03 18:38:25,730:Client-EnsembleBuilder] No runs were available to build an ensemble from\n",
      "[WARNING] [2024-07-03 18:38:26,109:Client-EnsembleBuilder] No runs were available to build an ensemble from\n",
      "[WARNING] [2024-07-03 18:38:26,373:Client-EnsembleBuilder] No runs were available to build an ensemble from\n",
      "[WARNING] [2024-07-03 18:38:27,157:Client-EnsembleBuilder] No runs were available to build an ensemble from\n",
      "[WARNING] [2024-07-03 18:38:27,355:Client-EnsembleBuilder] No runs were available to build an ensemble from\n",
      "[WARNING] [2024-07-03 18:38:27,923:Client-EnsembleBuilder] No runs were available to build an ensemble from\n",
      "[WARNING] [2024-07-03 18:38:28,968:Client-EnsembleBuilder] No runs were available to build an ensemble from\n",
      "[WARNING] [2024-07-03 18:38:30,568:Client-EnsembleBuilder] No runs were available to build an ensemble from\n",
      "[WARNING] [2024-07-03 18:38:31,493:Client-EnsembleBuilder] No runs were available to build an ensemble from\n",
      "[WARNING] [2024-07-03 18:38:31,971:Client-EnsembleBuilder] No runs were available to build an ensemble from\n",
      "[WARNING] [2024-07-03 18:38:32,652:Client-EnsembleBuilder] No runs were available to build an ensemble from\n",
      "[WARNING] [2024-07-03 18:38:33,160:Client-EnsembleBuilder] No runs were available to build an ensemble from\n",
      "[WARNING] [2024-07-03 18:38:34,754:Client-EnsembleBuilder] No runs were available to build an ensemble from\n",
      "[WARNING] [2024-07-03 18:38:35,473:Client-EnsembleBuilder] No runs were available to build an ensemble from\n",
      "[WARNING] [2024-07-03 18:38:41,352:Client-EnsembleBuilder] No runs were available to build an ensemble from\n",
      "[WARNING] [2024-07-03 18:38:41,926:Client-EnsembleBuilder] No runs were available to build an ensemble from\n",
      "[WARNING] [2024-07-03 18:38:43,598:Client-EnsembleBuilder] No runs were available to build an ensemble from\n",
      "Training for output #14\n",
      "[WARNING] [2024-07-03 18:39:19,321:Client-AutoML(1):cb1f99d6-395a-11ef-acec-374faab243a8] Capping the per_run_time_limit to 29.0 to have time for a least 2 models in each process.\n"
     ]
    },
    {
     "name": "stderr",
     "output_type": "stream",
     "text": [
      "/home/aless/progetti/ML-techniques-for-State-Estimation/venv/lib/python3.8/site-packages/distributed/node.py:182: UserWarning: Port 8787 is already in use.\n",
      "Perhaps you already have a cluster running?\n",
      "Hosting the HTTP server on port 39733 instead\n",
      "  warnings.warn(\n"
     ]
    },
    {
     "name": "stdout",
     "output_type": "stream",
     "text": [
      "[WARNING] [2024-07-03 18:39:20,877:Client-EnsembleBuilder] No runs were available to build an ensemble from\n",
      "[WARNING] [2024-07-03 18:39:21,877:Client-EnsembleBuilder] No runs were available to build an ensemble from\n",
      "[WARNING] [2024-07-03 18:39:22,073:Client-EnsembleBuilder] No runs were available to build an ensemble from\n",
      "[WARNING] [2024-07-03 18:39:22,523:Client-EnsembleBuilder] No runs were available to build an ensemble from\n",
      "[WARNING] [2024-07-03 18:39:22,703:Client-EnsembleBuilder] No runs were available to build an ensemble from\n",
      "[WARNING] [2024-07-03 18:39:23,347:Client-EnsembleBuilder] No runs were available to build an ensemble from\n",
      "[WARNING] [2024-07-03 18:39:23,571:Client-EnsembleBuilder] No runs were available to build an ensemble from\n",
      "[WARNING] [2024-07-03 18:39:24,098:Client-EnsembleBuilder] No runs were available to build an ensemble from\n",
      "[WARNING] [2024-07-03 18:39:25,060:Client-EnsembleBuilder] No runs were available to build an ensemble from\n",
      "[WARNING] [2024-07-03 18:39:26,836:Client-EnsembleBuilder] No runs were available to build an ensemble from\n",
      "[WARNING] [2024-07-03 18:39:27,598:Client-EnsembleBuilder] No runs were available to build an ensemble from\n",
      "[WARNING] [2024-07-03 18:39:28,313:Client-EnsembleBuilder] No runs were available to build an ensemble from\n",
      "[WARNING] [2024-07-03 18:39:29,000:Client-EnsembleBuilder] No runs were available to build an ensemble from\n",
      "[WARNING] [2024-07-03 18:39:29,236:Client-EnsembleBuilder] No runs were available to build an ensemble from\n",
      "[WARNING] [2024-07-03 18:39:30,779:Client-EnsembleBuilder] No runs were available to build an ensemble from\n",
      "[WARNING] [2024-07-03 18:39:31,546:Client-EnsembleBuilder] No runs were available to build an ensemble from\n",
      "[WARNING] [2024-07-03 18:39:36,831:Client-EnsembleBuilder] No runs were available to build an ensemble from\n",
      "[WARNING] [2024-07-03 18:39:37,366:Client-EnsembleBuilder] No runs were available to build an ensemble from\n",
      "[WARNING] [2024-07-03 18:39:38,958:Client-EnsembleBuilder] No runs were available to build an ensemble from\n",
      "Training for output #15\n",
      "[WARNING] [2024-07-03 18:40:18,399:Client-AutoML(1):ee33d909-395a-11ef-acec-374faab243a8] Capping the per_run_time_limit to 29.0 to have time for a least 2 models in each process.\n"
     ]
    },
    {
     "name": "stderr",
     "output_type": "stream",
     "text": [
      "/home/aless/progetti/ML-techniques-for-State-Estimation/venv/lib/python3.8/site-packages/distributed/node.py:182: UserWarning: Port 8787 is already in use.\n",
      "Perhaps you already have a cluster running?\n",
      "Hosting the HTTP server on port 43407 instead\n",
      "  warnings.warn(\n"
     ]
    },
    {
     "name": "stdout",
     "output_type": "stream",
     "text": [
      "[WARNING] [2024-07-03 18:40:20,012:Client-EnsembleBuilder] No runs were available to build an ensemble from\n",
      "[WARNING] [2024-07-03 18:40:21,037:Client-EnsembleBuilder] No runs were available to build an ensemble from\n",
      "[WARNING] [2024-07-03 18:40:21,196:Client-EnsembleBuilder] No runs were available to build an ensemble from\n",
      "[WARNING] [2024-07-03 18:40:21,635:Client-EnsembleBuilder] No runs were available to build an ensemble from\n",
      "[WARNING] [2024-07-03 18:40:21,867:Client-EnsembleBuilder] No runs were available to build an ensemble from\n",
      "[WARNING] [2024-07-03 18:40:22,649:Client-EnsembleBuilder] No runs were available to build an ensemble from\n",
      "[WARNING] [2024-07-03 18:40:22,800:Client-EnsembleBuilder] No runs were available to build an ensemble from\n",
      "[WARNING] [2024-07-03 18:40:23,375:Client-EnsembleBuilder] No runs were available to build an ensemble from\n",
      "[WARNING] [2024-07-03 18:40:24,490:Client-EnsembleBuilder] No runs were available to build an ensemble from\n",
      "[WARNING] [2024-07-03 18:40:26,401:Client-EnsembleBuilder] No runs were available to build an ensemble from\n",
      "[WARNING] [2024-07-03 18:40:27,049:Client-EnsembleBuilder] No runs were available to build an ensemble from\n",
      "[WARNING] [2024-07-03 18:40:27,929:Client-EnsembleBuilder] No runs were available to build an ensemble from\n",
      "[WARNING] [2024-07-03 18:40:28,543:Client-EnsembleBuilder] No runs were available to build an ensemble from\n",
      "[WARNING] [2024-07-03 18:40:28,756:Client-EnsembleBuilder] No runs were available to build an ensemble from\n",
      "[WARNING] [2024-07-03 18:40:30,264:Client-EnsembleBuilder] No runs were available to build an ensemble from\n",
      "[WARNING] [2024-07-03 18:40:31,168:Client-EnsembleBuilder] No runs were available to build an ensemble from\n",
      "[WARNING] [2024-07-03 18:40:36,243:Client-EnsembleBuilder] No runs were available to build an ensemble from\n",
      "[WARNING] [2024-07-03 18:40:36,832:Client-EnsembleBuilder] No runs were available to build an ensemble from\n",
      "[WARNING] [2024-07-03 18:40:38,411:Client-EnsembleBuilder] No runs were available to build an ensemble from\n",
      "Training for output #16\n",
      "[WARNING] [2024-07-03 18:41:14,786:Client-AutoML(1):0feb7f97-395b-11ef-acec-374faab243a8] Capping the per_run_time_limit to 29.0 to have time for a least 2 models in each process.\n"
     ]
    },
    {
     "name": "stderr",
     "output_type": "stream",
     "text": [
      "/home/aless/progetti/ML-techniques-for-State-Estimation/venv/lib/python3.8/site-packages/distributed/node.py:182: UserWarning: Port 8787 is already in use.\n",
      "Perhaps you already have a cluster running?\n",
      "Hosting the HTTP server on port 45157 instead\n",
      "  warnings.warn(\n"
     ]
    },
    {
     "name": "stdout",
     "output_type": "stream",
     "text": [
      "[WARNING] [2024-07-03 18:41:16,440:Client-EnsembleBuilder] No runs were available to build an ensemble from\n",
      "[WARNING] [2024-07-03 18:41:17,457:Client-EnsembleBuilder] No runs were available to build an ensemble from\n",
      "[WARNING] [2024-07-03 18:41:17,680:Client-EnsembleBuilder] No runs were available to build an ensemble from\n",
      "[WARNING] [2024-07-03 18:41:18,040:Client-EnsembleBuilder] No runs were available to build an ensemble from\n",
      "[WARNING] [2024-07-03 18:41:18,296:Client-EnsembleBuilder] No runs were available to build an ensemble from\n",
      "[WARNING] [2024-07-03 18:41:18,908:Client-EnsembleBuilder] No runs were available to build an ensemble from\n",
      "[WARNING] [2024-07-03 18:41:19,230:Client-EnsembleBuilder] No runs were available to build an ensemble from\n",
      "[WARNING] [2024-07-03 18:41:19,771:Client-EnsembleBuilder] No runs were available to build an ensemble from\n",
      "[WARNING] [2024-07-03 18:41:20,557:Client-EnsembleBuilder] No runs were available to build an ensemble from\n",
      "[WARNING] [2024-07-03 18:41:22,747:Client-EnsembleBuilder] No runs were available to build an ensemble from\n",
      "[WARNING] [2024-07-03 18:41:22,977:Client-EnsembleBuilder] No runs were available to build an ensemble from\n",
      "[WARNING] [2024-07-03 18:41:23,908:Client-EnsembleBuilder] No runs were available to build an ensemble from\n",
      "[WARNING] [2024-07-03 18:41:24,492:Client-EnsembleBuilder] No runs were available to build an ensemble from\n",
      "[WARNING] [2024-07-03 18:41:24,604:Client-EnsembleBuilder] No runs were available to build an ensemble from\n",
      "[WARNING] [2024-07-03 18:41:26,142:Client-EnsembleBuilder] No runs were available to build an ensemble from\n",
      "[WARNING] [2024-07-03 18:41:26,781:Client-EnsembleBuilder] No runs were available to build an ensemble from\n",
      "[WARNING] [2024-07-03 18:41:31,861:Client-EnsembleBuilder] No runs were available to build an ensemble from\n",
      "[WARNING] [2024-07-03 18:41:32,411:Client-EnsembleBuilder] No runs were available to build an ensemble from\n",
      "[WARNING] [2024-07-03 18:41:34,000:Client-EnsembleBuilder] No runs were available to build an ensemble from\n",
      "Training for output #17\n",
      "[WARNING] [2024-07-03 18:42:12,569:Client-AutoML(1):322dff8d-395b-11ef-acec-374faab243a8] Capping the per_run_time_limit to 29.0 to have time for a least 2 models in each process.\n"
     ]
    },
    {
     "name": "stderr",
     "output_type": "stream",
     "text": [
      "/home/aless/progetti/ML-techniques-for-State-Estimation/venv/lib/python3.8/site-packages/distributed/node.py:182: UserWarning: Port 8787 is already in use.\n",
      "Perhaps you already have a cluster running?\n",
      "Hosting the HTTP server on port 35185 instead\n",
      "  warnings.warn(\n"
     ]
    },
    {
     "name": "stdout",
     "output_type": "stream",
     "text": [
      "[WARNING] [2024-07-03 18:42:14,026:Client-EnsembleBuilder] No runs were available to build an ensemble from\n",
      "[WARNING] [2024-07-03 18:42:15,047:Client-EnsembleBuilder] No runs were available to build an ensemble from\n",
      "[WARNING] [2024-07-03 18:42:15,385:Client-EnsembleBuilder] No runs were available to build an ensemble from\n",
      "[WARNING] [2024-07-03 18:42:15,613:Client-EnsembleBuilder] No runs were available to build an ensemble from\n",
      "[WARNING] [2024-07-03 18:42:16,048:Client-EnsembleBuilder] No runs were available to build an ensemble from\n",
      "[WARNING] [2024-07-03 18:42:16,693:Client-EnsembleBuilder] No runs were available to build an ensemble from\n",
      "[WARNING] [2024-07-03 18:42:16,977:Client-EnsembleBuilder] No runs were available to build an ensemble from\n",
      "[WARNING] [2024-07-03 18:42:17,454:Client-EnsembleBuilder] No runs were available to build an ensemble from\n",
      "[WARNING] [2024-07-03 18:42:18,349:Client-EnsembleBuilder] No runs were available to build an ensemble from\n",
      "[WARNING] [2024-07-03 18:42:20,513:Client-EnsembleBuilder] No runs were available to build an ensemble from\n",
      "[WARNING] [2024-07-03 18:42:20,709:Client-EnsembleBuilder] No runs were available to build an ensemble from\n",
      "[WARNING] [2024-07-03 18:42:21,388:Client-EnsembleBuilder] No runs were available to build an ensemble from\n",
      "[WARNING] [2024-07-03 18:42:21,982:Client-EnsembleBuilder] No runs were available to build an ensemble from\n",
      "[WARNING] [2024-07-03 18:42:22,451:Client-EnsembleBuilder] No runs were available to build an ensemble from\n",
      "[WARNING] [2024-07-03 18:42:24,102:Client-EnsembleBuilder] No runs were available to build an ensemble from\n",
      "[WARNING] [2024-07-03 18:42:24,709:Client-EnsembleBuilder] No runs were available to build an ensemble from\n",
      "[WARNING] [2024-07-03 18:42:30,158:Client-EnsembleBuilder] No runs were available to build an ensemble from\n",
      "[WARNING] [2024-07-03 18:42:30,702:Client-EnsembleBuilder] No runs were available to build an ensemble from\n",
      "[WARNING] [2024-07-03 18:42:32,303:Client-EnsembleBuilder] No runs were available to build an ensemble from\n",
      "Training for output #18\n",
      "[WARNING] [2024-07-03 18:43:10,282:Client-AutoML(1):54b57275-395b-11ef-acec-374faab243a8] Capping the per_run_time_limit to 29.0 to have time for a least 2 models in each process.\n"
     ]
    },
    {
     "name": "stderr",
     "output_type": "stream",
     "text": [
      "/home/aless/progetti/ML-techniques-for-State-Estimation/venv/lib/python3.8/site-packages/distributed/node.py:182: UserWarning: Port 8787 is already in use.\n",
      "Perhaps you already have a cluster running?\n",
      "Hosting the HTTP server on port 36897 instead\n",
      "  warnings.warn(\n"
     ]
    },
    {
     "name": "stdout",
     "output_type": "stream",
     "text": [
      "[WARNING] [2024-07-03 18:43:11,824:Client-EnsembleBuilder] No runs were available to build an ensemble from\n",
      "[WARNING] [2024-07-03 18:43:12,830:Client-EnsembleBuilder] No runs were available to build an ensemble from\n",
      "[WARNING] [2024-07-03 18:43:13,017:Client-EnsembleBuilder] No runs were available to build an ensemble from\n",
      "[WARNING] [2024-07-03 18:43:13,422:Client-EnsembleBuilder] No runs were available to build an ensemble from\n",
      "[WARNING] [2024-07-03 18:43:13,685:Client-EnsembleBuilder] No runs were available to build an ensemble from\n",
      "[WARNING] [2024-07-03 18:43:14,436:Client-EnsembleBuilder] No runs were available to build an ensemble from\n",
      "[WARNING] [2024-07-03 18:43:14,579:Client-EnsembleBuilder] No runs were available to build an ensemble from\n",
      "[WARNING] [2024-07-03 18:43:15,149:Client-EnsembleBuilder] No runs were available to build an ensemble from\n",
      "[WARNING] [2024-07-03 18:43:16,240:Client-EnsembleBuilder] No runs were available to build an ensemble from\n",
      "[WARNING] [2024-07-03 18:43:18,077:Client-EnsembleBuilder] No runs were available to build an ensemble from\n",
      "[WARNING] [2024-07-03 18:43:18,321:Client-EnsembleBuilder] No runs were available to build an ensemble from\n",
      "[WARNING] [2024-07-03 18:43:19,116:Client-EnsembleBuilder] No runs were available to build an ensemble from\n",
      "[WARNING] [2024-07-03 18:43:19,740:Client-EnsembleBuilder] No runs were available to build an ensemble from\n",
      "[WARNING] [2024-07-03 18:43:19,959:Client-EnsembleBuilder] No runs were available to build an ensemble from\n",
      "[WARNING] [2024-07-03 18:43:21,602:Client-EnsembleBuilder] No runs were available to build an ensemble from\n",
      "[WARNING] [2024-07-03 18:43:22,211:Client-EnsembleBuilder] No runs were available to build an ensemble from\n",
      "[WARNING] [2024-07-03 18:43:27,903:Client-EnsembleBuilder] No runs were available to build an ensemble from\n",
      "[WARNING] [2024-07-03 18:43:28,404:Client-EnsembleBuilder] No runs were available to build an ensemble from\n",
      "[WARNING] [2024-07-03 18:43:30,026:Client-EnsembleBuilder] No runs were available to build an ensemble from\n",
      "Training for output #19\n",
      "[WARNING] [2024-07-03 18:44:07,088:Client-AutoML(1):76a41db5-395b-11ef-acec-374faab243a8] Capping the per_run_time_limit to 29.0 to have time for a least 2 models in each process.\n"
     ]
    },
    {
     "name": "stderr",
     "output_type": "stream",
     "text": [
      "/home/aless/progetti/ML-techniques-for-State-Estimation/venv/lib/python3.8/site-packages/distributed/node.py:182: UserWarning: Port 8787 is already in use.\n",
      "Perhaps you already have a cluster running?\n",
      "Hosting the HTTP server on port 40077 instead\n",
      "  warnings.warn(\n"
     ]
    },
    {
     "name": "stdout",
     "output_type": "stream",
     "text": [
      "[WARNING] [2024-07-03 18:44:08,629:Client-EnsembleBuilder] No runs were available to build an ensemble from\n",
      "[WARNING] [2024-07-03 18:44:09,618:Client-EnsembleBuilder] No runs were available to build an ensemble from\n",
      "[WARNING] [2024-07-03 18:44:09,917:Client-EnsembleBuilder] No runs were available to build an ensemble from\n",
      "[WARNING] [2024-07-03 18:44:10,212:Client-EnsembleBuilder] No runs were available to build an ensemble from\n",
      "[WARNING] [2024-07-03 18:44:10,776:Client-EnsembleBuilder] No runs were available to build an ensemble from\n",
      "[WARNING] [2024-07-03 18:44:11,438:Client-EnsembleBuilder] No runs were available to build an ensemble from\n",
      "[WARNING] [2024-07-03 18:44:11,604:Client-EnsembleBuilder] No runs were available to build an ensemble from\n",
      "[WARNING] [2024-07-03 18:44:12,124:Client-EnsembleBuilder] No runs were available to build an ensemble from\n",
      "[WARNING] [2024-07-03 18:44:13,214:Client-EnsembleBuilder] No runs were available to build an ensemble from\n",
      "[WARNING] [2024-07-03 18:44:14,900:Client-EnsembleBuilder] No runs were available to build an ensemble from\n",
      "[WARNING] [2024-07-03 18:44:15,081:Client-EnsembleBuilder] No runs were available to build an ensemble from\n",
      "[WARNING] [2024-07-03 18:44:16,135:Client-EnsembleBuilder] No runs were available to build an ensemble from\n",
      "[WARNING] [2024-07-03 18:44:16,687:Client-EnsembleBuilder] No runs were available to build an ensemble from\n",
      "[WARNING] [2024-07-03 18:44:16,811:Client-EnsembleBuilder] No runs were available to build an ensemble from\n",
      "[WARNING] [2024-07-03 18:44:18,403:Client-EnsembleBuilder] No runs were available to build an ensemble from\n",
      "[WARNING] [2024-07-03 18:44:19,132:Client-EnsembleBuilder] No runs were available to build an ensemble from\n",
      "[WARNING] [2024-07-03 18:44:24,532:Client-EnsembleBuilder] No runs were available to build an ensemble from\n",
      "[WARNING] [2024-07-03 18:44:25,028:Client-EnsembleBuilder] No runs were available to build an ensemble from\n",
      "[WARNING] [2024-07-03 18:44:26,636:Client-EnsembleBuilder] No runs were available to build an ensemble from\n",
      "Training for output #20\n",
      "[WARNING] [2024-07-03 18:45:05,028:Client-AutoML(1):992a9c97-395b-11ef-acec-374faab243a8] Capping the per_run_time_limit to 29.0 to have time for a least 2 models in each process.\n"
     ]
    },
    {
     "name": "stderr",
     "output_type": "stream",
     "text": [
      "/home/aless/progetti/ML-techniques-for-State-Estimation/venv/lib/python3.8/site-packages/distributed/node.py:182: UserWarning: Port 8787 is already in use.\n",
      "Perhaps you already have a cluster running?\n",
      "Hosting the HTTP server on port 37013 instead\n",
      "  warnings.warn(\n"
     ]
    },
    {
     "name": "stdout",
     "output_type": "stream",
     "text": [
      "[WARNING] [2024-07-03 18:45:06,567:Client-EnsembleBuilder] No runs were available to build an ensemble from\n",
      "[WARNING] [2024-07-03 18:45:07,600:Client-EnsembleBuilder] No runs were available to build an ensemble from\n",
      "[WARNING] [2024-07-03 18:45:07,816:Client-EnsembleBuilder] No runs were available to build an ensemble from\n",
      "[WARNING] [2024-07-03 18:45:08,164:Client-EnsembleBuilder] No runs were available to build an ensemble from\n",
      "[WARNING] [2024-07-03 18:45:08,396:Client-EnsembleBuilder] No runs were available to build an ensemble from\n",
      "[WARNING] [2024-07-03 18:45:09,156:Client-EnsembleBuilder] No runs were available to build an ensemble from\n",
      "[WARNING] [2024-07-03 18:45:09,343:Client-EnsembleBuilder] No runs were available to build an ensemble from\n",
      "[WARNING] [2024-07-03 18:45:09,845:Client-EnsembleBuilder] No runs were available to build an ensemble from\n",
      "[WARNING] [2024-07-03 18:45:10,828:Client-EnsembleBuilder] No runs were available to build an ensemble from\n",
      "[WARNING] [2024-07-03 18:45:12,461:Client-EnsembleBuilder] No runs were available to build an ensemble from\n",
      "[WARNING] [2024-07-03 18:45:12,829:Client-EnsembleBuilder] No runs were available to build an ensemble from\n",
      "[WARNING] [2024-07-03 18:45:13,886:Client-EnsembleBuilder] No runs were available to build an ensemble from\n",
      "[WARNING] [2024-07-03 18:45:14,431:Client-EnsembleBuilder] No runs were available to build an ensemble from\n",
      "[WARNING] [2024-07-03 18:45:14,885:Client-EnsembleBuilder] No runs were available to build an ensemble from\n",
      "[WARNING] [2024-07-03 18:45:16,391:Client-EnsembleBuilder] No runs were available to build an ensemble from\n",
      "[WARNING] [2024-07-03 18:45:17,058:Client-EnsembleBuilder] No runs were available to build an ensemble from\n",
      "[WARNING] [2024-07-03 18:45:21,688:Client-EnsembleBuilder] No runs were available to build an ensemble from\n",
      "[WARNING] [2024-07-03 18:45:22,208:Client-EnsembleBuilder] No runs were available to build an ensemble from\n",
      "[WARNING] [2024-07-03 18:45:23,784:Client-EnsembleBuilder] No runs were available to build an ensemble from\n",
      "Training for output #21\n",
      "[WARNING] [2024-07-03 18:46:01,203:Client-AutoML(1):ba766ae4-395b-11ef-acec-374faab243a8] Capping the per_run_time_limit to 29.0 to have time for a least 2 models in each process.\n"
     ]
    },
    {
     "name": "stderr",
     "output_type": "stream",
     "text": [
      "/home/aless/progetti/ML-techniques-for-State-Estimation/venv/lib/python3.8/site-packages/distributed/node.py:182: UserWarning: Port 8787 is already in use.\n",
      "Perhaps you already have a cluster running?\n",
      "Hosting the HTTP server on port 39881 instead\n",
      "  warnings.warn(\n"
     ]
    },
    {
     "name": "stdout",
     "output_type": "stream",
     "text": [
      "[WARNING] [2024-07-03 18:46:02,873:Client-EnsembleBuilder] No runs were available to build an ensemble from\n",
      "[WARNING] [2024-07-03 18:46:03,943:Client-EnsembleBuilder] No runs were available to build an ensemble from\n",
      "[WARNING] [2024-07-03 18:46:04,026:Client-EnsembleBuilder] No runs were available to build an ensemble from\n",
      "[WARNING] [2024-07-03 18:46:04,466:Client-EnsembleBuilder] No runs were available to build an ensemble from\n",
      "[WARNING] [2024-07-03 18:46:04,702:Client-EnsembleBuilder] No runs were available to build an ensemble from\n",
      "[WARNING] [2024-07-03 18:46:05,421:Client-EnsembleBuilder] No runs were available to build an ensemble from\n",
      "[WARNING] [2024-07-03 18:46:05,674:Client-EnsembleBuilder] No runs were available to build an ensemble from\n",
      "[WARNING] [2024-07-03 18:46:06,205:Client-EnsembleBuilder] No runs were available to build an ensemble from\n",
      "[WARNING] [2024-07-03 18:46:07,079:Client-EnsembleBuilder] No runs were available to build an ensemble from\n",
      "[WARNING] [2024-07-03 18:46:08,869:Client-EnsembleBuilder] No runs were available to build an ensemble from\n",
      "[WARNING] [2024-07-03 18:46:09,248:Client-EnsembleBuilder] No runs were available to build an ensemble from\n",
      "[WARNING] [2024-07-03 18:46:10,043:Client-EnsembleBuilder] No runs were available to build an ensemble from\n",
      "[WARNING] [2024-07-03 18:46:10,741:Client-EnsembleBuilder] No runs were available to build an ensemble from\n",
      "[WARNING] [2024-07-03 18:46:10,888:Client-EnsembleBuilder] No runs were available to build an ensemble from\n",
      "[WARNING] [2024-07-03 18:46:12,426:Client-EnsembleBuilder] No runs were available to build an ensemble from\n",
      "[WARNING] [2024-07-03 18:46:13,019:Client-EnsembleBuilder] No runs were available to build an ensemble from\n",
      "[WARNING] [2024-07-03 18:46:18,414:Client-EnsembleBuilder] No runs were available to build an ensemble from\n",
      "[WARNING] [2024-07-03 18:46:18,947:Client-EnsembleBuilder] No runs were available to build an ensemble from\n",
      "[WARNING] [2024-07-03 18:46:20,506:Client-EnsembleBuilder] No runs were available to build an ensemble from\n",
      "Training for output #22\n",
      "[WARNING] [2024-07-03 18:46:57,220:Client-AutoML(1):dbf34960-395b-11ef-acec-374faab243a8] Capping the per_run_time_limit to 29.0 to have time for a least 2 models in each process.\n"
     ]
    },
    {
     "name": "stderr",
     "output_type": "stream",
     "text": [
      "/home/aless/progetti/ML-techniques-for-State-Estimation/venv/lib/python3.8/site-packages/distributed/node.py:182: UserWarning: Port 8787 is already in use.\n",
      "Perhaps you already have a cluster running?\n",
      "Hosting the HTTP server on port 39911 instead\n",
      "  warnings.warn(\n"
     ]
    },
    {
     "name": "stdout",
     "output_type": "stream",
     "text": [
      "[WARNING] [2024-07-03 18:46:58,746:Client-EnsembleBuilder] No runs were available to build an ensemble from\n",
      "[WARNING] [2024-07-03 18:46:59,781:Client-EnsembleBuilder] No runs were available to build an ensemble from\n",
      "[WARNING] [2024-07-03 18:47:00,044:Client-EnsembleBuilder] No runs were available to build an ensemble from\n",
      "[WARNING] [2024-07-03 18:47:00,337:Client-EnsembleBuilder] No runs were available to build an ensemble from\n",
      "[WARNING] [2024-07-03 18:47:00,605:Client-EnsembleBuilder] No runs were available to build an ensemble from\n",
      "[WARNING] [2024-07-03 18:47:01,354:Client-EnsembleBuilder] No runs were available to build an ensemble from\n",
      "[WARNING] [2024-07-03 18:47:01,581:Client-EnsembleBuilder] No runs were available to build an ensemble from\n",
      "[WARNING] [2024-07-03 18:47:02,101:Client-EnsembleBuilder] No runs were available to build an ensemble from\n",
      "[WARNING] [2024-07-03 18:47:03,139:Client-EnsembleBuilder] No runs were available to build an ensemble from\n",
      "[WARNING] [2024-07-03 18:47:04,860:Client-EnsembleBuilder] No runs were available to build an ensemble from\n",
      "[WARNING] [2024-07-03 18:47:05,059:Client-EnsembleBuilder] No runs were available to build an ensemble from\n",
      "[WARNING] [2024-07-03 18:47:06,115:Client-EnsembleBuilder] No runs were available to build an ensemble from\n",
      "[WARNING] [2024-07-03 18:47:06,733:Client-EnsembleBuilder] No runs were available to build an ensemble from\n",
      "[WARNING] [2024-07-03 18:47:06,889:Client-EnsembleBuilder] No runs were available to build an ensemble from\n",
      "[WARNING] [2024-07-03 18:47:08,418:Client-EnsembleBuilder] No runs were available to build an ensemble from\n",
      "[WARNING] [2024-07-03 18:47:09,067:Client-EnsembleBuilder] No runs were available to build an ensemble from\n",
      "[WARNING] [2024-07-03 18:47:14,378:Client-EnsembleBuilder] No runs were available to build an ensemble from\n",
      "[WARNING] [2024-07-03 18:47:14,879:Client-EnsembleBuilder] No runs were available to build an ensemble from\n",
      "[WARNING] [2024-07-03 18:47:16,460:Client-EnsembleBuilder] No runs were available to build an ensemble from\n",
      "Training for output #23\n",
      "[WARNING] [2024-07-03 18:47:55,037:Client-AutoML(1):fe8762d5-395b-11ef-acec-374faab243a8] Capping the per_run_time_limit to 29.0 to have time for a least 2 models in each process.\n"
     ]
    },
    {
     "name": "stderr",
     "output_type": "stream",
     "text": [
      "/home/aless/progetti/ML-techniques-for-State-Estimation/venv/lib/python3.8/site-packages/distributed/node.py:182: UserWarning: Port 8787 is already in use.\n",
      "Perhaps you already have a cluster running?\n",
      "Hosting the HTTP server on port 34693 instead\n",
      "  warnings.warn(\n"
     ]
    },
    {
     "name": "stdout",
     "output_type": "stream",
     "text": [
      "[WARNING] [2024-07-03 18:47:56,607:Client-EnsembleBuilder] No runs were available to build an ensemble from\n",
      "[WARNING] [2024-07-03 18:47:57,635:Client-EnsembleBuilder] No runs were available to build an ensemble from\n",
      "[WARNING] [2024-07-03 18:47:58,214:Client-EnsembleBuilder] No runs were available to build an ensemble from\n",
      "[WARNING] [2024-07-03 18:47:58,470:Client-EnsembleBuilder] No runs were available to build an ensemble from\n",
      "[WARNING] [2024-07-03 18:47:59,161:Client-EnsembleBuilder] No runs were available to build an ensemble from\n",
      "[WARNING] [2024-07-03 18:47:59,321:Client-EnsembleBuilder] No runs were available to build an ensemble from\n",
      "[WARNING] [2024-07-03 18:47:59,866:Client-EnsembleBuilder] No runs were available to build an ensemble from\n",
      "[WARNING] [2024-07-03 18:48:00,942:Client-EnsembleBuilder] No runs were available to build an ensemble from\n",
      "[WARNING] [2024-07-03 18:48:02,391:Client-EnsembleBuilder] No runs were available to build an ensemble from\n",
      "[WARNING] [2024-07-03 18:48:03,174:Client-EnsembleBuilder] No runs were available to build an ensemble from\n",
      "[WARNING] [2024-07-03 18:48:03,860:Client-EnsembleBuilder] No runs were available to build an ensemble from\n",
      "[WARNING] [2024-07-03 18:48:04,472:Client-EnsembleBuilder] No runs were available to build an ensemble from\n",
      "[WARNING] [2024-07-03 18:48:04,839:Client-EnsembleBuilder] No runs were available to build an ensemble from\n",
      "[WARNING] [2024-07-03 18:48:06,361:Client-EnsembleBuilder] No runs were available to build an ensemble from\n",
      "[WARNING] [2024-07-03 18:48:06,981:Client-EnsembleBuilder] No runs were available to build an ensemble from\n",
      "[WARNING] [2024-07-03 18:48:11,751:Client-EnsembleBuilder] No runs were available to build an ensemble from\n",
      "[WARNING] [2024-07-03 18:48:12,279:Client-EnsembleBuilder] No runs were available to build an ensemble from\n",
      "[WARNING] [2024-07-03 18:48:13,882:Client-EnsembleBuilder] No runs were available to build an ensemble from\n",
      "Training for output #24\n",
      "[WARNING] [2024-07-03 18:48:55,614:Client-AutoML(1):225b531f-395c-11ef-acec-374faab243a8] Capping the per_run_time_limit to 29.0 to have time for a least 2 models in each process.\n"
     ]
    },
    {
     "name": "stderr",
     "output_type": "stream",
     "text": [
      "/home/aless/progetti/ML-techniques-for-State-Estimation/venv/lib/python3.8/site-packages/distributed/node.py:182: UserWarning: Port 8787 is already in use.\n",
      "Perhaps you already have a cluster running?\n",
      "Hosting the HTTP server on port 41273 instead\n",
      "  warnings.warn(\n"
     ]
    },
    {
     "name": "stdout",
     "output_type": "stream",
     "text": [
      "[WARNING] [2024-07-03 18:48:57,172:Client-EnsembleBuilder] No runs were available to build an ensemble from\n",
      "[WARNING] [2024-07-03 18:48:58,252:Client-EnsembleBuilder] No runs were available to build an ensemble from\n",
      "[WARNING] [2024-07-03 18:48:58,437:Client-EnsembleBuilder] No runs were available to build an ensemble from\n",
      "[WARNING] [2024-07-03 18:48:58,625:Client-EnsembleBuilder] No runs were available to build an ensemble from\n",
      "[WARNING] [2024-07-03 18:48:58,804:Client-EnsembleBuilder] No runs were available to build an ensemble from\n",
      "[WARNING] [2024-07-03 18:48:59,267:Client-EnsembleBuilder] No runs were available to build an ensemble from\n",
      "[WARNING] [2024-07-03 18:48:59,883:Client-EnsembleBuilder] No runs were available to build an ensemble from\n",
      "[WARNING] [2024-07-03 18:49:00,058:Client-EnsembleBuilder] No runs were available to build an ensemble from\n",
      "[WARNING] [2024-07-03 18:49:00,554:Client-EnsembleBuilder] No runs were available to build an ensemble from\n",
      "[WARNING] [2024-07-03 18:49:01,562:Client-EnsembleBuilder] No runs were available to build an ensemble from\n",
      "[WARNING] [2024-07-03 18:49:03,227:Client-EnsembleBuilder] No runs were available to build an ensemble from\n",
      "[WARNING] [2024-07-03 18:49:03,597:Client-EnsembleBuilder] No runs were available to build an ensemble from\n",
      "[WARNING] [2024-07-03 18:49:04,650:Client-EnsembleBuilder] No runs were available to build an ensemble from\n",
      "[WARNING] [2024-07-03 18:49:05,192:Client-EnsembleBuilder] No runs were available to build an ensemble from\n",
      "[WARNING] [2024-07-03 18:49:05,285:Client-EnsembleBuilder] No runs were available to build an ensemble from\n",
      "[WARNING] [2024-07-03 18:49:06,826:Client-EnsembleBuilder] No runs were available to build an ensemble from\n",
      "[WARNING] [2024-07-03 18:49:07,431:Client-EnsembleBuilder] No runs were available to build an ensemble from\n",
      "[WARNING] [2024-07-03 18:49:12,534:Client-EnsembleBuilder] No runs were available to build an ensemble from\n",
      "[WARNING] [2024-07-03 18:49:13,043:Client-EnsembleBuilder] No runs were available to build an ensemble from\n",
      "[WARNING] [2024-07-03 18:49:14,681:Client-EnsembleBuilder] No runs were available to build an ensemble from\n",
      "Training for output #25\n",
      "[WARNING] [2024-07-03 18:49:51,349:Client-AutoML(1):43d622ef-395c-11ef-acec-374faab243a8] Capping the per_run_time_limit to 29.0 to have time for a least 2 models in each process.\n"
     ]
    },
    {
     "name": "stderr",
     "output_type": "stream",
     "text": [
      "/home/aless/progetti/ML-techniques-for-State-Estimation/venv/lib/python3.8/site-packages/distributed/node.py:182: UserWarning: Port 8787 is already in use.\n",
      "Perhaps you already have a cluster running?\n",
      "Hosting the HTTP server on port 37923 instead\n",
      "  warnings.warn(\n"
     ]
    },
    {
     "name": "stdout",
     "output_type": "stream",
     "text": [
      "[WARNING] [2024-07-03 18:49:52,834:Client-EnsembleBuilder] No runs were available to build an ensemble from\n",
      "[WARNING] [2024-07-03 18:49:53,848:Client-EnsembleBuilder] No runs were available to build an ensemble from\n",
      "[WARNING] [2024-07-03 18:49:54,053:Client-EnsembleBuilder] No runs were available to build an ensemble from\n",
      "[WARNING] [2024-07-03 18:49:54,424:Client-EnsembleBuilder] No runs were available to build an ensemble from\n",
      "[WARNING] [2024-07-03 18:49:54,690:Client-EnsembleBuilder] No runs were available to build an ensemble from\n",
      "[WARNING] [2024-07-03 18:49:55,378:Client-EnsembleBuilder] No runs were available to build an ensemble from\n",
      "[WARNING] [2024-07-03 18:49:55,611:Client-EnsembleBuilder] No runs were available to build an ensemble from\n",
      "[WARNING] [2024-07-03 18:49:56,143:Client-EnsembleBuilder] No runs were available to build an ensemble from\n",
      "[WARNING] [2024-07-03 18:49:57,138:Client-EnsembleBuilder] No runs were available to build an ensemble from\n",
      "[WARNING] [2024-07-03 18:49:58,605:Client-EnsembleBuilder] No runs were available to build an ensemble from\n",
      "[WARNING] [2024-07-03 18:49:59,109:Client-EnsembleBuilder] No runs were available to build an ensemble from\n",
      "[WARNING] [2024-07-03 18:50:00,006:Client-EnsembleBuilder] No runs were available to build an ensemble from\n",
      "[WARNING] [2024-07-03 18:50:00,709:Client-EnsembleBuilder] No runs were available to build an ensemble from\n",
      "[WARNING] [2024-07-03 18:50:02,310:Client-EnsembleBuilder] No runs were available to build an ensemble from\n",
      "[WARNING] [2024-07-03 18:50:03,232:Client-EnsembleBuilder] No runs were available to build an ensemble from\n",
      "[WARNING] [2024-07-03 18:50:08,052:Client-EnsembleBuilder] No runs were available to build an ensemble from\n",
      "[WARNING] [2024-07-03 18:50:08,670:Client-EnsembleBuilder] No runs were available to build an ensemble from\n",
      "[WARNING] [2024-07-03 18:50:10,317:Client-EnsembleBuilder] No runs were available to build an ensemble from\n",
      "Training for output #26\n",
      "[WARNING] [2024-07-03 18:50:47,195:Client-AutoML(1):65153463-395c-11ef-acec-374faab243a8] Capping the per_run_time_limit to 29.0 to have time for a least 2 models in each process.\n"
     ]
    },
    {
     "name": "stderr",
     "output_type": "stream",
     "text": [
      "/home/aless/progetti/ML-techniques-for-State-Estimation/venv/lib/python3.8/site-packages/distributed/node.py:182: UserWarning: Port 8787 is already in use.\n",
      "Perhaps you already have a cluster running?\n",
      "Hosting the HTTP server on port 44409 instead\n",
      "  warnings.warn(\n"
     ]
    },
    {
     "name": "stdout",
     "output_type": "stream",
     "text": [
      "[WARNING] [2024-07-03 18:50:48,944:Client-EnsembleBuilder] No runs were available to build an ensemble from\n",
      "[WARNING] [2024-07-03 18:50:49,937:Client-EnsembleBuilder] No runs were available to build an ensemble from\n",
      "[WARNING] [2024-07-03 18:50:50,055:Client-EnsembleBuilder] No runs were available to build an ensemble from\n",
      "[WARNING] [2024-07-03 18:50:50,164:Client-EnsembleBuilder] No runs were available to build an ensemble from\n",
      "[WARNING] [2024-07-03 18:50:50,530:Client-EnsembleBuilder] No runs were available to build an ensemble from\n",
      "[WARNING] [2024-07-03 18:50:50,834:Client-EnsembleBuilder] No runs were available to build an ensemble from\n",
      "[WARNING] [2024-07-03 18:50:51,540:Client-EnsembleBuilder] No runs were available to build an ensemble from\n",
      "[WARNING] [2024-07-03 18:50:51,705:Client-EnsembleBuilder] No runs were available to build an ensemble from\n",
      "[WARNING] [2024-07-03 18:50:52,327:Client-EnsembleBuilder] No runs were available to build an ensemble from\n",
      "[WARNING] [2024-07-03 18:50:53,402:Client-EnsembleBuilder] No runs were available to build an ensemble from\n",
      "[WARNING] [2024-07-03 18:50:54,890:Client-EnsembleBuilder] No runs were available to build an ensemble from\n",
      "[WARNING] [2024-07-03 18:50:55,371:Client-EnsembleBuilder] No runs were available to build an ensemble from\n",
      "[WARNING] [2024-07-03 18:50:56,449:Client-EnsembleBuilder] No runs were available to build an ensemble from\n",
      "[WARNING] [2024-07-03 18:50:56,986:Client-EnsembleBuilder] No runs were available to build an ensemble from\n",
      "[WARNING] [2024-07-03 18:50:57,106:Client-EnsembleBuilder] No runs were available to build an ensemble from\n",
      "[WARNING] [2024-07-03 18:50:58,657:Client-EnsembleBuilder] No runs were available to build an ensemble from\n",
      "[WARNING] [2024-07-03 18:50:59,347:Client-EnsembleBuilder] No runs were available to build an ensemble from\n",
      "[WARNING] [2024-07-03 18:51:04,091:Client-EnsembleBuilder] No runs were available to build an ensemble from\n",
      "[WARNING] [2024-07-03 18:51:04,638:Client-EnsembleBuilder] No runs were available to build an ensemble from\n",
      "[WARNING] [2024-07-03 18:51:06,308:Client-EnsembleBuilder] No runs were available to build an ensemble from\n",
      "Training for output #27\n",
      "[WARNING] [2024-07-03 18:51:45,153:Client-AutoML(1):8769cd97-395c-11ef-acec-374faab243a8] Capping the per_run_time_limit to 29.0 to have time for a least 2 models in each process.\n"
     ]
    },
    {
     "name": "stderr",
     "output_type": "stream",
     "text": [
      "/home/aless/progetti/ML-techniques-for-State-Estimation/venv/lib/python3.8/site-packages/distributed/node.py:182: UserWarning: Port 8787 is already in use.\n",
      "Perhaps you already have a cluster running?\n",
      "Hosting the HTTP server on port 43467 instead\n",
      "  warnings.warn(\n"
     ]
    },
    {
     "name": "stdout",
     "output_type": "stream",
     "text": [
      "[WARNING] [2024-07-03 18:51:46,664:Client-EnsembleBuilder] No runs were available to build an ensemble from\n",
      "[WARNING] [2024-07-03 18:51:47,711:Client-EnsembleBuilder] No runs were available to build an ensemble from\n",
      "[WARNING] [2024-07-03 18:51:47,914:Client-EnsembleBuilder] No runs were available to build an ensemble from\n",
      "[WARNING] [2024-07-03 18:51:48,247:Client-EnsembleBuilder] No runs were available to build an ensemble from\n",
      "[WARNING] [2024-07-03 18:51:48,540:Client-EnsembleBuilder] No runs were available to build an ensemble from\n",
      "[WARNING] [2024-07-03 18:51:49,168:Client-EnsembleBuilder] No runs were available to build an ensemble from\n",
      "[WARNING] [2024-07-03 18:51:49,430:Client-EnsembleBuilder] No runs were available to build an ensemble from\n",
      "[WARNING] [2024-07-03 18:51:50,199:Client-EnsembleBuilder] No runs were available to build an ensemble from\n",
      "[WARNING] [2024-07-03 18:51:50,809:Client-EnsembleBuilder] No runs were available to build an ensemble from\n",
      "[WARNING] [2024-07-03 18:51:52,789:Client-EnsembleBuilder] No runs were available to build an ensemble from\n",
      "[WARNING] [2024-07-03 18:51:53,134:Client-EnsembleBuilder] No runs were available to build an ensemble from\n",
      "[WARNING] [2024-07-03 18:51:53,711:Client-EnsembleBuilder] No runs were available to build an ensemble from\n",
      "[WARNING] [2024-07-03 18:51:54,309:Client-EnsembleBuilder] No runs were available to build an ensemble from\n",
      "[WARNING] [2024-07-03 18:51:54,759:Client-EnsembleBuilder] No runs were available to build an ensemble from\n",
      "[WARNING] [2024-07-03 18:51:56,300:Client-EnsembleBuilder] No runs were available to build an ensemble from\n",
      "[WARNING] [2024-07-03 18:51:56,982:Client-EnsembleBuilder] No runs were available to build an ensemble from\n",
      "[WARNING] [2024-07-03 18:52:02,822:Client-EnsembleBuilder] No runs were available to build an ensemble from\n",
      "[WARNING] [2024-07-03 18:52:03,497:Client-EnsembleBuilder] No runs were available to build an ensemble from\n",
      "[WARNING] [2024-07-03 18:52:05,174:Client-EnsembleBuilder] No runs were available to build an ensemble from\n",
      "Training for output #28\n",
      "[WARNING] [2024-07-03 18:52:43,173:Client-AutoML(1):aa422d3e-395c-11ef-acec-374faab243a8] Capping the per_run_time_limit to 29.0 to have time for a least 2 models in each process.\n"
     ]
    },
    {
     "name": "stderr",
     "output_type": "stream",
     "text": [
      "/home/aless/progetti/ML-techniques-for-State-Estimation/venv/lib/python3.8/site-packages/distributed/node.py:182: UserWarning: Port 8787 is already in use.\n",
      "Perhaps you already have a cluster running?\n",
      "Hosting the HTTP server on port 43923 instead\n",
      "  warnings.warn(\n"
     ]
    },
    {
     "name": "stdout",
     "output_type": "stream",
     "text": [
      "[WARNING] [2024-07-03 18:52:44,719:Client-EnsembleBuilder] No runs were available to build an ensemble from\n",
      "[WARNING] [2024-07-03 18:52:45,729:Client-EnsembleBuilder] No runs were available to build an ensemble from\n",
      "[WARNING] [2024-07-03 18:52:45,922:Client-EnsembleBuilder] No runs were available to build an ensemble from\n",
      "[WARNING] [2024-07-03 18:52:46,313:Client-EnsembleBuilder] No runs were available to build an ensemble from\n",
      "[WARNING] [2024-07-03 18:52:46,504:Client-EnsembleBuilder] No runs were available to build an ensemble from\n",
      "[WARNING] [2024-07-03 18:52:47,306:Client-EnsembleBuilder] No runs were available to build an ensemble from\n",
      "[WARNING] [2024-07-03 18:52:47,406:Client-EnsembleBuilder] No runs were available to build an ensemble from\n",
      "[WARNING] [2024-07-03 18:52:47,937:Client-EnsembleBuilder] No runs were available to build an ensemble from\n",
      "[WARNING] [2024-07-03 18:52:49,137:Client-EnsembleBuilder] No runs were available to build an ensemble from\n",
      "[WARNING] [2024-07-03 18:52:50,517:Client-EnsembleBuilder] No runs were available to build an ensemble from\n",
      "[WARNING] [2024-07-03 18:52:50,915:Client-EnsembleBuilder] No runs were available to build an ensemble from\n",
      "[WARNING] [2024-07-03 18:52:52,136:Client-EnsembleBuilder] No runs were available to build an ensemble from\n",
      "[WARNING] [2024-07-03 18:52:52,582:Client-EnsembleBuilder] No runs were available to build an ensemble from\n",
      "[WARNING] [2024-07-03 18:52:52,848:Client-EnsembleBuilder] No runs were available to build an ensemble from\n",
      "[WARNING] [2024-07-03 18:52:54,386:Client-EnsembleBuilder] No runs were available to build an ensemble from\n",
      "[WARNING] [2024-07-03 18:52:55,003:Client-EnsembleBuilder] No runs were available to build an ensemble from\n",
      "[WARNING] [2024-07-03 18:52:59,825:Client-EnsembleBuilder] No runs were available to build an ensemble from\n",
      "[WARNING] [2024-07-03 18:53:00,408:Client-EnsembleBuilder] No runs were available to build an ensemble from\n",
      "[WARNING] [2024-07-03 18:53:02,081:Client-EnsembleBuilder] No runs were available to build an ensemble from\n",
      "Training for output #29\n",
      "[WARNING] [2024-07-03 18:53:40,857:Client-AutoML(1):cc8b2e31-395c-11ef-acec-374faab243a8] Capping the per_run_time_limit to 29.0 to have time for a least 2 models in each process.\n"
     ]
    },
    {
     "name": "stderr",
     "output_type": "stream",
     "text": [
      "/home/aless/progetti/ML-techniques-for-State-Estimation/venv/lib/python3.8/site-packages/distributed/node.py:182: UserWarning: Port 8787 is already in use.\n",
      "Perhaps you already have a cluster running?\n",
      "Hosting the HTTP server on port 38519 instead\n",
      "  warnings.warn(\n"
     ]
    },
    {
     "name": "stdout",
     "output_type": "stream",
     "text": [
      "[WARNING] [2024-07-03 18:53:42,410:Client-EnsembleBuilder] No runs were available to build an ensemble from\n",
      "[WARNING] [2024-07-03 18:53:43,442:Client-EnsembleBuilder] No runs were available to build an ensemble from\n",
      "[WARNING] [2024-07-03 18:53:43,638:Client-EnsembleBuilder] No runs were available to build an ensemble from\n",
      "[WARNING] [2024-07-03 18:53:43,998:Client-EnsembleBuilder] No runs were available to build an ensemble from\n",
      "[WARNING] [2024-07-03 18:53:44,328:Client-EnsembleBuilder] No runs were available to build an ensemble from\n",
      "[WARNING] [2024-07-03 18:53:45,092:Client-EnsembleBuilder] No runs were available to build an ensemble from\n",
      "[WARNING] [2024-07-03 18:53:45,273:Client-EnsembleBuilder] No runs were available to build an ensemble from\n",
      "[WARNING] [2024-07-03 18:53:45,817:Client-EnsembleBuilder] No runs were available to build an ensemble from\n",
      "[WARNING] [2024-07-03 18:53:46,915:Client-EnsembleBuilder] No runs were available to build an ensemble from\n",
      "[WARNING] [2024-07-03 18:53:48,329:Client-EnsembleBuilder] No runs were available to build an ensemble from\n",
      "[WARNING] [2024-07-03 18:53:48,684:Client-EnsembleBuilder] No runs were available to build an ensemble from\n",
      "[WARNING] [2024-07-03 18:53:49,936:Client-EnsembleBuilder] No runs were available to build an ensemble from\n",
      "[WARNING] [2024-07-03 18:53:50,279:Client-EnsembleBuilder] No runs were available to build an ensemble from\n",
      "[WARNING] [2024-07-03 18:53:50,562:Client-EnsembleBuilder] No runs were available to build an ensemble from\n",
      "[WARNING] [2024-07-03 18:53:52,091:Client-EnsembleBuilder] No runs were available to build an ensemble from\n",
      "[WARNING] [2024-07-03 18:53:52,771:Client-EnsembleBuilder] No runs were available to build an ensemble from\n",
      "[WARNING] [2024-07-03 18:53:58,406:Client-EnsembleBuilder] No runs were available to build an ensemble from\n",
      "[WARNING] [2024-07-03 18:53:58,981:Client-EnsembleBuilder] No runs were available to build an ensemble from\n",
      "[WARNING] [2024-07-03 18:54:00,600:Client-EnsembleBuilder] No runs were available to build an ensemble from\n",
      "Training for output #30\n",
      "[WARNING] [2024-07-03 18:54:37,243:Client-AutoML(1):eddade2c-395c-11ef-acec-374faab243a8] Capping the per_run_time_limit to 29.0 to have time for a least 2 models in each process.\n"
     ]
    },
    {
     "name": "stderr",
     "output_type": "stream",
     "text": [
      "/home/aless/progetti/ML-techniques-for-State-Estimation/venv/lib/python3.8/site-packages/distributed/node.py:182: UserWarning: Port 8787 is already in use.\n",
      "Perhaps you already have a cluster running?\n",
      "Hosting the HTTP server on port 34429 instead\n",
      "  warnings.warn(\n"
     ]
    },
    {
     "name": "stdout",
     "output_type": "stream",
     "text": [
      "[WARNING] [2024-07-03 18:54:38,999:Client-EnsembleBuilder] No runs were available to build an ensemble from\n",
      "[WARNING] [2024-07-03 18:54:40,021:Client-EnsembleBuilder] No runs were available to build an ensemble from\n",
      "[WARNING] [2024-07-03 18:54:40,271:Client-EnsembleBuilder] No runs were available to build an ensemble from\n",
      "[WARNING] [2024-07-03 18:54:40,591:Client-EnsembleBuilder] No runs were available to build an ensemble from\n",
      "[WARNING] [2024-07-03 18:54:40,830:Client-EnsembleBuilder] No runs were available to build an ensemble from\n",
      "[WARNING] [2024-07-03 18:54:41,455:Client-EnsembleBuilder] No runs were available to build an ensemble from\n",
      "[WARNING] [2024-07-03 18:54:41,753:Client-EnsembleBuilder] No runs were available to build an ensemble from\n",
      "[WARNING] [2024-07-03 18:54:42,246:Client-EnsembleBuilder] No runs were available to build an ensemble from\n",
      "[WARNING] [2024-07-03 18:54:43,116:Client-EnsembleBuilder] No runs were available to build an ensemble from\n",
      "[WARNING] [2024-07-03 18:54:44,786:Client-EnsembleBuilder] No runs were available to build an ensemble from\n",
      "[WARNING] [2024-07-03 18:54:45,382:Client-EnsembleBuilder] No runs were available to build an ensemble from\n",
      "[WARNING] [2024-07-03 18:54:46,216:Client-EnsembleBuilder] No runs were available to build an ensemble from\n",
      "[WARNING] [2024-07-03 18:54:46,881:Client-EnsembleBuilder] No runs were available to build an ensemble from\n",
      "[WARNING] [2024-07-03 18:54:47,074:Client-EnsembleBuilder] No runs were available to build an ensemble from\n",
      "[WARNING] [2024-07-03 18:54:48,682:Client-EnsembleBuilder] No runs were available to build an ensemble from\n",
      "[WARNING] [2024-07-03 18:54:49,310:Client-EnsembleBuilder] No runs were available to build an ensemble from\n",
      "[WARNING] [2024-07-03 18:54:53,976:Client-EnsembleBuilder] No runs were available to build an ensemble from\n",
      "[WARNING] [2024-07-03 18:54:54,563:Client-EnsembleBuilder] No runs were available to build an ensemble from\n",
      "[WARNING] [2024-07-03 18:54:56,159:Client-EnsembleBuilder] No runs were available to build an ensemble from\n",
      "Training for output #31\n",
      "[WARNING] [2024-07-03 18:55:35,154:Client-AutoML(1):10a8e9e9-395d-11ef-acec-374faab243a8] Capping the per_run_time_limit to 29.0 to have time for a least 2 models in each process.\n"
     ]
    },
    {
     "name": "stderr",
     "output_type": "stream",
     "text": [
      "/home/aless/progetti/ML-techniques-for-State-Estimation/venv/lib/python3.8/site-packages/distributed/node.py:182: UserWarning: Port 8787 is already in use.\n",
      "Perhaps you already have a cluster running?\n",
      "Hosting the HTTP server on port 44329 instead\n",
      "  warnings.warn(\n"
     ]
    },
    {
     "name": "stdout",
     "output_type": "stream",
     "text": [
      "[WARNING] [2024-07-03 18:55:36,702:Client-EnsembleBuilder] No runs were available to build an ensemble from\n",
      "[WARNING] [2024-07-03 18:55:37,713:Client-EnsembleBuilder] No runs were available to build an ensemble from\n",
      "[WARNING] [2024-07-03 18:55:37,971:Client-EnsembleBuilder] No runs were available to build an ensemble from\n",
      "[WARNING] [2024-07-03 18:55:38,328:Client-EnsembleBuilder] No runs were available to build an ensemble from\n",
      "[WARNING] [2024-07-03 18:55:38,557:Client-EnsembleBuilder] No runs were available to build an ensemble from\n",
      "[WARNING] [2024-07-03 18:55:39,208:Client-EnsembleBuilder] No runs were available to build an ensemble from\n",
      "[WARNING] [2024-07-03 18:55:39,509:Client-EnsembleBuilder] No runs were available to build an ensemble from\n",
      "[WARNING] [2024-07-03 18:55:40,003:Client-EnsembleBuilder] No runs were available to build an ensemble from\n",
      "[WARNING] [2024-07-03 18:55:41,070:Client-EnsembleBuilder] No runs were available to build an ensemble from\n",
      "[WARNING] [2024-07-03 18:55:42,544:Client-EnsembleBuilder] No runs were available to build an ensemble from\n",
      "[WARNING] [2024-07-03 18:55:43,131:Client-EnsembleBuilder] No runs were available to build an ensemble from\n",
      "[WARNING] [2024-07-03 18:55:43,927:Client-EnsembleBuilder] No runs were available to build an ensemble from\n",
      "[WARNING] [2024-07-03 18:55:44,561:Client-EnsembleBuilder] No runs were available to build an ensemble from\n",
      "[WARNING] [2024-07-03 18:55:44,769:Client-EnsembleBuilder] No runs were available to build an ensemble from\n",
      "[WARNING] [2024-07-03 18:55:46,303:Client-EnsembleBuilder] No runs were available to build an ensemble from\n",
      "[WARNING] [2024-07-03 18:55:46,981:Client-EnsembleBuilder] No runs were available to build an ensemble from\n",
      "[WARNING] [2024-07-03 18:55:52,040:Client-EnsembleBuilder] No runs were available to build an ensemble from\n",
      "[WARNING] [2024-07-03 18:55:52,576:Client-EnsembleBuilder] No runs were available to build an ensemble from\n",
      "[WARNING] [2024-07-03 18:55:54,440:Client-EnsembleBuilder] No runs were available to build an ensemble from\n",
      "Training for output #32\n",
      "[WARNING] [2024-07-03 18:56:33,809:Client-AutoML(1):33a162c0-395d-11ef-acec-374faab243a8] Capping the per_run_time_limit to 29.0 to have time for a least 2 models in each process.\n"
     ]
    },
    {
     "name": "stderr",
     "output_type": "stream",
     "text": [
      "/home/aless/progetti/ML-techniques-for-State-Estimation/venv/lib/python3.8/site-packages/distributed/node.py:182: UserWarning: Port 8787 is already in use.\n",
      "Perhaps you already have a cluster running?\n",
      "Hosting the HTTP server on port 45591 instead\n",
      "  warnings.warn(\n"
     ]
    },
    {
     "name": "stdout",
     "output_type": "stream",
     "text": [
      "[WARNING] [2024-07-03 18:56:35,519:Client-EnsembleBuilder] No runs were available to build an ensemble from\n",
      "[WARNING] [2024-07-03 18:56:36,507:Client-EnsembleBuilder] No runs were available to build an ensemble from\n",
      "[WARNING] [2024-07-03 18:56:36,575:Client-EnsembleBuilder] No runs were available to build an ensemble from\n",
      "[WARNING] [2024-07-03 18:56:36,776:Client-EnsembleBuilder] No runs were available to build an ensemble from\n",
      "[WARNING] [2024-07-03 18:56:37,152:Client-EnsembleBuilder] No runs were available to build an ensemble from\n",
      "[WARNING] [2024-07-03 18:56:37,433:Client-EnsembleBuilder] No runs were available to build an ensemble from\n",
      "[WARNING] [2024-07-03 18:56:38,053:Client-EnsembleBuilder] No runs were available to build an ensemble from\n",
      "[WARNING] [2024-07-03 18:56:38,287:Client-EnsembleBuilder] No runs were available to build an ensemble from\n",
      "[WARNING] [2024-07-03 18:56:38,806:Client-EnsembleBuilder] No runs were available to build an ensemble from\n",
      "[WARNING] [2024-07-03 18:56:39,820:Client-EnsembleBuilder] No runs were available to build an ensemble from\n",
      "[WARNING] [2024-07-03 18:56:41,459:Client-EnsembleBuilder] No runs were available to build an ensemble from\n",
      "[WARNING] [2024-07-03 18:56:41,828:Client-EnsembleBuilder] No runs were available to build an ensemble from\n",
      "[WARNING] [2024-07-03 18:56:43,019:Client-EnsembleBuilder] No runs were available to build an ensemble from\n",
      "[WARNING] [2024-07-03 18:56:43,418:Client-EnsembleBuilder] No runs were available to build an ensemble from\n",
      "[WARNING] [2024-07-03 18:56:43,738:Client-EnsembleBuilder] No runs were available to build an ensemble from\n",
      "[WARNING] [2024-07-03 18:56:45,254:Client-EnsembleBuilder] No runs were available to build an ensemble from\n",
      "[WARNING] [2024-07-03 18:56:45,932:Client-EnsembleBuilder] No runs were available to build an ensemble from\n",
      "[WARNING] [2024-07-03 18:56:50,810:Client-EnsembleBuilder] No runs were available to build an ensemble from\n",
      "[WARNING] [2024-07-03 18:56:51,339:Client-EnsembleBuilder] No runs were available to build an ensemble from\n",
      "[WARNING] [2024-07-03 18:56:52,947:Client-EnsembleBuilder] No runs were available to build an ensemble from\n",
      "Training for output #33\n",
      "[WARNING] [2024-07-03 18:57:30,731:Client-AutoML(1):559becb6-395d-11ef-acec-374faab243a8] Capping the per_run_time_limit to 29.0 to have time for a least 2 models in each process.\n"
     ]
    },
    {
     "name": "stderr",
     "output_type": "stream",
     "text": [
      "/home/aless/progetti/ML-techniques-for-State-Estimation/venv/lib/python3.8/site-packages/distributed/node.py:182: UserWarning: Port 8787 is already in use.\n",
      "Perhaps you already have a cluster running?\n",
      "Hosting the HTTP server on port 38599 instead\n",
      "  warnings.warn(\n"
     ]
    },
    {
     "name": "stdout",
     "output_type": "stream",
     "text": [
      "[WARNING] [2024-07-03 18:57:32,282:Client-EnsembleBuilder] No runs were available to build an ensemble from\n",
      "[WARNING] [2024-07-03 18:57:33,337:Client-EnsembleBuilder] No runs were available to build an ensemble from\n",
      "[WARNING] [2024-07-03 18:57:33,517:Client-EnsembleBuilder] No runs were available to build an ensemble from\n",
      "[WARNING] [2024-07-03 18:57:33,909:Client-EnsembleBuilder] No runs were available to build an ensemble from\n",
      "[WARNING] [2024-07-03 18:57:34,145:Client-EnsembleBuilder] No runs were available to build an ensemble from\n",
      "[WARNING] [2024-07-03 18:57:34,749:Client-EnsembleBuilder] No runs were available to build an ensemble from\n",
      "[WARNING] [2024-07-03 18:57:35,048:Client-EnsembleBuilder] No runs were available to build an ensemble from\n",
      "[WARNING] [2024-07-03 18:57:35,556:Client-EnsembleBuilder] No runs were available to build an ensemble from\n",
      "[WARNING] [2024-07-03 18:57:36,537:Client-EnsembleBuilder] No runs were available to build an ensemble from\n",
      "[WARNING] [2024-07-03 18:57:38,056:Client-EnsembleBuilder] No runs were available to build an ensemble from\n",
      "[WARNING] [2024-07-03 18:57:38,520:Client-EnsembleBuilder] No runs were available to build an ensemble from\n",
      "[WARNING] [2024-07-03 18:57:39,512:Client-EnsembleBuilder] No runs were available to build an ensemble from\n",
      "[WARNING] [2024-07-03 18:57:40,169:Client-EnsembleBuilder] No runs were available to build an ensemble from\n",
      "[WARNING] [2024-07-03 18:57:41,798:Client-EnsembleBuilder] No runs were available to build an ensemble from\n",
      "[WARNING] [2024-07-03 18:57:42,718:Client-EnsembleBuilder] No runs were available to build an ensemble from\n",
      "[WARNING] [2024-07-03 18:57:47,545:Client-EnsembleBuilder] No runs were available to build an ensemble from\n",
      "[WARNING] [2024-07-03 18:57:48,057:Client-EnsembleBuilder] No runs were available to build an ensemble from\n",
      "[WARNING] [2024-07-03 18:57:49,642:Client-EnsembleBuilder] No runs were available to build an ensemble from\n",
      "Training for output #34\n",
      "[WARNING] [2024-07-03 18:58:26,522:Client-AutoML(1):76ee197d-395d-11ef-acec-374faab243a8] Capping the per_run_time_limit to 29.0 to have time for a least 2 models in each process.\n"
     ]
    },
    {
     "name": "stderr",
     "output_type": "stream",
     "text": [
      "/home/aless/progetti/ML-techniques-for-State-Estimation/venv/lib/python3.8/site-packages/distributed/node.py:182: UserWarning: Port 8787 is already in use.\n",
      "Perhaps you already have a cluster running?\n",
      "Hosting the HTTP server on port 41139 instead\n",
      "  warnings.warn(\n"
     ]
    },
    {
     "name": "stdout",
     "output_type": "stream",
     "text": [
      "[WARNING] [2024-07-03 18:58:28,090:Client-EnsembleBuilder] No runs were available to build an ensemble from\n",
      "[WARNING] [2024-07-03 18:58:29,079:Client-EnsembleBuilder] No runs were available to build an ensemble from\n",
      "[WARNING] [2024-07-03 18:58:29,262:Client-EnsembleBuilder] No runs were available to build an ensemble from\n",
      "[WARNING] [2024-07-03 18:58:29,664:Client-EnsembleBuilder] No runs were available to build an ensemble from\n",
      "[WARNING] [2024-07-03 18:58:29,965:Client-EnsembleBuilder] No runs were available to build an ensemble from\n",
      "[WARNING] [2024-07-03 18:58:30,756:Client-EnsembleBuilder] No runs were available to build an ensemble from\n",
      "[WARNING] [2024-07-03 18:58:31,322:Client-EnsembleBuilder] No runs were available to build an ensemble from\n",
      "[WARNING] [2024-07-03 18:58:32,445:Client-EnsembleBuilder] No runs were available to build an ensemble from\n",
      "[WARNING] [2024-07-03 18:58:33,880:Client-EnsembleBuilder] No runs were available to build an ensemble from\n",
      "[WARNING] [2024-07-03 18:58:34,422:Client-EnsembleBuilder] No runs were available to build an ensemble from\n",
      "[WARNING] [2024-07-03 18:58:35,447:Client-EnsembleBuilder] No runs were available to build an ensemble from\n",
      "[WARNING] [2024-07-03 18:58:36,017:Client-EnsembleBuilder] No runs were available to build an ensemble from\n",
      "[WARNING] [2024-07-03 18:58:36,358:Client-EnsembleBuilder] No runs were available to build an ensemble from\n",
      "[WARNING] [2024-07-03 18:58:37,942:Client-EnsembleBuilder] No runs were available to build an ensemble from\n",
      "[WARNING] [2024-07-03 18:58:38,550:Client-EnsembleBuilder] No runs were available to build an ensemble from\n",
      "[WARNING] [2024-07-03 18:58:43,285:Client-EnsembleBuilder] No runs were available to build an ensemble from\n",
      "[WARNING] [2024-07-03 18:58:43,805:Client-EnsembleBuilder] No runs were available to build an ensemble from\n",
      "[WARNING] [2024-07-03 18:58:45,428:Client-EnsembleBuilder] No runs were available to build an ensemble from\n",
      "Training for output #35\n",
      "[WARNING] [2024-07-03 18:59:26,070:Client-AutoML(1):9a3ddcc0-395d-11ef-acec-374faab243a8] Capping the per_run_time_limit to 29.0 to have time for a least 2 models in each process.\n"
     ]
    },
    {
     "name": "stderr",
     "output_type": "stream",
     "text": [
      "/home/aless/progetti/ML-techniques-for-State-Estimation/venv/lib/python3.8/site-packages/distributed/node.py:182: UserWarning: Port 8787 is already in use.\n",
      "Perhaps you already have a cluster running?\n",
      "Hosting the HTTP server on port 39273 instead\n",
      "  warnings.warn(\n"
     ]
    },
    {
     "name": "stdout",
     "output_type": "stream",
     "text": [
      "[WARNING] [2024-07-03 18:59:27,832:Client-EnsembleBuilder] No runs were available to build an ensemble from\n",
      "[WARNING] [2024-07-03 18:59:28,897:Client-EnsembleBuilder] No runs were available to build an ensemble from\n",
      "[WARNING] [2024-07-03 18:59:29,134:Client-EnsembleBuilder] No runs were available to build an ensemble from\n",
      "[WARNING] [2024-07-03 18:59:29,424:Client-EnsembleBuilder] No runs were available to build an ensemble from\n",
      "[WARNING] [2024-07-03 18:59:29,677:Client-EnsembleBuilder] No runs were available to build an ensemble from\n",
      "[WARNING] [2024-07-03 18:59:30,297:Client-EnsembleBuilder] No runs were available to build an ensemble from\n",
      "[WARNING] [2024-07-03 18:59:30,667:Client-EnsembleBuilder] No runs were available to build an ensemble from\n",
      "[WARNING] [2024-07-03 18:59:31,163:Client-EnsembleBuilder] No runs were available to build an ensemble from\n",
      "[WARNING] [2024-07-03 18:59:32,065:Client-EnsembleBuilder] No runs were available to build an ensemble from\n",
      "[WARNING] [2024-07-03 18:59:33,672:Client-EnsembleBuilder] No runs were available to build an ensemble from\n",
      "[WARNING] [2024-07-03 18:59:34,001:Client-EnsembleBuilder] No runs were available to build an ensemble from\n",
      "[WARNING] [2024-07-03 18:59:35,032:Client-EnsembleBuilder] No runs were available to build an ensemble from\n",
      "[WARNING] [2024-07-03 18:59:35,590:Client-EnsembleBuilder] No runs were available to build an ensemble from\n",
      "[WARNING] [2024-07-03 18:59:35,859:Client-EnsembleBuilder] No runs were available to build an ensemble from\n",
      "[WARNING] [2024-07-03 18:59:37,420:Client-EnsembleBuilder] No runs were available to build an ensemble from\n",
      "[WARNING] [2024-07-03 18:59:38,207:Client-EnsembleBuilder] No runs were available to build an ensemble from\n",
      "[WARNING] [2024-07-03 18:59:43,306:Client-EnsembleBuilder] No runs were available to build an ensemble from\n",
      "[WARNING] [2024-07-03 18:59:43,826:Client-EnsembleBuilder] No runs were available to build an ensemble from\n",
      "[WARNING] [2024-07-03 18:59:45,487:Client-EnsembleBuilder] No runs were available to build an ensemble from\n",
      "Training for output #36\n",
      "[WARNING] [2024-07-03 19:00:24,386:Client-AutoML(1):bd2134e0-395d-11ef-acec-374faab243a8] Capping the per_run_time_limit to 29.0 to have time for a least 2 models in each process.\n"
     ]
    },
    {
     "name": "stderr",
     "output_type": "stream",
     "text": [
      "/home/aless/progetti/ML-techniques-for-State-Estimation/venv/lib/python3.8/site-packages/distributed/node.py:182: UserWarning: Port 8787 is already in use.\n",
      "Perhaps you already have a cluster running?\n",
      "Hosting the HTTP server on port 35091 instead\n",
      "  warnings.warn(\n"
     ]
    },
    {
     "name": "stdout",
     "output_type": "stream",
     "text": [
      "[WARNING] [2024-07-03 19:00:25,974:Client-EnsembleBuilder] No runs were available to build an ensemble from\n",
      "[WARNING] [2024-07-03 19:00:26,996:Client-EnsembleBuilder] No runs were available to build an ensemble from\n",
      "[WARNING] [2024-07-03 19:00:27,104:Client-EnsembleBuilder] No runs were available to build an ensemble from\n",
      "[WARNING] [2024-07-03 19:00:27,204:Client-EnsembleBuilder] No runs were available to build an ensemble from\n",
      "[WARNING] [2024-07-03 19:00:27,610:Client-EnsembleBuilder] No runs were available to build an ensemble from\n",
      "[WARNING] [2024-07-03 19:00:27,902:Client-EnsembleBuilder] No runs were available to build an ensemble from\n",
      "[WARNING] [2024-07-03 19:00:28,626:Client-EnsembleBuilder] No runs were available to build an ensemble from\n",
      "[WARNING] [2024-07-03 19:00:28,743:Client-EnsembleBuilder] No runs were available to build an ensemble from\n",
      "[WARNING] [2024-07-03 19:00:29,306:Client-EnsembleBuilder] No runs were available to build an ensemble from\n",
      "[WARNING] [2024-07-03 19:00:30,349:Client-EnsembleBuilder] No runs were available to build an ensemble from\n",
      "[WARNING] [2024-07-03 19:00:31,838:Client-EnsembleBuilder] No runs were available to build an ensemble from\n",
      "[WARNING] [2024-07-03 19:00:32,286:Client-EnsembleBuilder] No runs were available to build an ensemble from\n",
      "[WARNING] [2024-07-03 19:00:33,231:Client-EnsembleBuilder] No runs were available to build an ensemble from\n",
      "[WARNING] [2024-07-03 19:00:34,135:Client-EnsembleBuilder] No runs were available to build an ensemble from\n",
      "[WARNING] [2024-07-03 19:00:34,242:Client-EnsembleBuilder] No runs were available to build an ensemble from\n",
      "[WARNING] [2024-07-03 19:00:35,795:Client-EnsembleBuilder] No runs were available to build an ensemble from\n",
      "[WARNING] [2024-07-03 19:00:36,421:Client-EnsembleBuilder] No runs were available to build an ensemble from\n",
      "[WARNING] [2024-07-03 19:00:41,258:Client-EnsembleBuilder] No runs were available to build an ensemble from\n",
      "[WARNING] [2024-07-03 19:00:41,916:Client-EnsembleBuilder] No runs were available to build an ensemble from\n",
      "[WARNING] [2024-07-03 19:00:43,534:Client-EnsembleBuilder] No runs were available to build an ensemble from\n",
      "Training for output #37\n",
      "[WARNING] [2024-07-03 19:01:19,957:Client-AutoML(1):de2b2960-395d-11ef-acec-374faab243a8] Capping the per_run_time_limit to 29.0 to have time for a least 2 models in each process.\n"
     ]
    },
    {
     "name": "stderr",
     "output_type": "stream",
     "text": [
      "/home/aless/progetti/ML-techniques-for-State-Estimation/venv/lib/python3.8/site-packages/distributed/node.py:182: UserWarning: Port 8787 is already in use.\n",
      "Perhaps you already have a cluster running?\n",
      "Hosting the HTTP server on port 44089 instead\n",
      "  warnings.warn(\n"
     ]
    },
    {
     "name": "stdout",
     "output_type": "stream",
     "text": [
      "[WARNING] [2024-07-03 19:01:21,495:Client-EnsembleBuilder] No runs were available to build an ensemble from\n",
      "[WARNING] [2024-07-03 19:01:22,537:Client-EnsembleBuilder] No runs were available to build an ensemble from\n",
      "[WARNING] [2024-07-03 19:01:22,717:Client-EnsembleBuilder] No runs were available to build an ensemble from\n",
      "[WARNING] [2024-07-03 19:01:23,109:Client-EnsembleBuilder] No runs were available to build an ensemble from\n",
      "[WARNING] [2024-07-03 19:01:23,485:Client-EnsembleBuilder] No runs were available to build an ensemble from\n",
      "[WARNING] [2024-07-03 19:01:24,193:Client-EnsembleBuilder] No runs were available to build an ensemble from\n",
      "[WARNING] [2024-07-03 19:01:24,402:Client-EnsembleBuilder] No runs were available to build an ensemble from\n",
      "[WARNING] [2024-07-03 19:01:24,982:Client-EnsembleBuilder] No runs were available to build an ensemble from\n",
      "[WARNING] [2024-07-03 19:01:25,903:Client-EnsembleBuilder] No runs were available to build an ensemble from\n",
      "[WARNING] [2024-07-03 19:01:27,566:Client-EnsembleBuilder] No runs were available to build an ensemble from\n",
      "[WARNING] [2024-07-03 19:01:27,933:Client-EnsembleBuilder] No runs were available to build an ensemble from\n",
      "[WARNING] [2024-07-03 19:01:28,983:Client-EnsembleBuilder] No runs were available to build an ensemble from\n",
      "[WARNING] [2024-07-03 19:01:29,606:Client-EnsembleBuilder] No runs were available to build an ensemble from\n",
      "[WARNING] [2024-07-03 19:01:29,813:Client-EnsembleBuilder] No runs were available to build an ensemble from\n",
      "[WARNING] [2024-07-03 19:01:31,318:Client-EnsembleBuilder] No runs were available to build an ensemble from\n",
      "[WARNING] [2024-07-03 19:01:32,033:Client-EnsembleBuilder] No runs were available to build an ensemble from\n",
      "[WARNING] [2024-07-03 19:01:36,577:Client-EnsembleBuilder] No runs were available to build an ensemble from\n",
      "[WARNING] [2024-07-03 19:01:37,144:Client-EnsembleBuilder] No runs were available to build an ensemble from\n",
      "[WARNING] [2024-07-03 19:01:38,803:Client-EnsembleBuilder] No runs were available to build an ensemble from\n",
      "Training for output #38\n",
      "[WARNING] [2024-07-03 19:02:15,732:Client-AutoML(1):ff62a33b-395d-11ef-acec-374faab243a8] Capping the per_run_time_limit to 29.0 to have time for a least 2 models in each process.\n"
     ]
    },
    {
     "name": "stderr",
     "output_type": "stream",
     "text": [
      "/home/aless/progetti/ML-techniques-for-State-Estimation/venv/lib/python3.8/site-packages/distributed/node.py:182: UserWarning: Port 8787 is already in use.\n",
      "Perhaps you already have a cluster running?\n",
      "Hosting the HTTP server on port 45011 instead\n",
      "  warnings.warn(\n"
     ]
    },
    {
     "name": "stdout",
     "output_type": "stream",
     "text": [
      "[WARNING] [2024-07-03 19:02:17,332:Client-EnsembleBuilder] No runs were available to build an ensemble from\n",
      "[WARNING] [2024-07-03 19:02:18,383:Client-EnsembleBuilder] No runs were available to build an ensemble from\n",
      "[WARNING] [2024-07-03 19:02:18,610:Client-EnsembleBuilder] No runs were available to build an ensemble from\n",
      "[WARNING] [2024-07-03 19:02:18,803:Client-EnsembleBuilder] No runs were available to build an ensemble from\n",
      "[WARNING] [2024-07-03 19:02:18,956:Client-EnsembleBuilder] No runs were available to build an ensemble from\n",
      "[WARNING] [2024-07-03 19:02:19,399:Client-EnsembleBuilder] No runs were available to build an ensemble from\n",
      "[WARNING] [2024-07-03 19:02:20,060:Client-EnsembleBuilder] No runs were available to build an ensemble from\n",
      "[WARNING] [2024-07-03 19:02:20,200:Client-EnsembleBuilder] No runs were available to build an ensemble from\n",
      "[WARNING] [2024-07-03 19:02:20,720:Client-EnsembleBuilder] No runs were available to build an ensemble from\n",
      "[WARNING] [2024-07-03 19:02:21,760:Client-EnsembleBuilder] No runs were available to build an ensemble from\n",
      "[WARNING] [2024-07-03 19:02:23,183:Client-EnsembleBuilder] No runs were available to build an ensemble from\n",
      "[WARNING] [2024-07-03 19:02:23,535:Client-EnsembleBuilder] No runs were available to build an ensemble from\n",
      "[WARNING] [2024-07-03 19:02:24,985:Client-EnsembleBuilder] No runs were available to build an ensemble from\n",
      "[WARNING] [2024-07-03 19:02:25,231:Client-EnsembleBuilder] No runs were available to build an ensemble from\n",
      "[WARNING] [2024-07-03 19:02:25,775:Client-EnsembleBuilder] No runs were available to build an ensemble from\n",
      "[WARNING] [2024-07-03 19:02:27,309:Client-EnsembleBuilder] No runs were available to build an ensemble from\n",
      "[WARNING] [2024-07-03 19:02:27,984:Client-EnsembleBuilder] No runs were available to build an ensemble from\n",
      "[WARNING] [2024-07-03 19:02:32,433:Client-EnsembleBuilder] No runs were available to build an ensemble from\n",
      "[WARNING] [2024-07-03 19:02:32,973:Client-EnsembleBuilder] No runs were available to build an ensemble from\n",
      "[WARNING] [2024-07-03 19:02:34,654:Client-EnsembleBuilder] No runs were available to build an ensemble from\n",
      "Training for output #39\n",
      "[WARNING] [2024-07-03 19:03:12,073:Client-AutoML(1):20e00187-395e-11ef-acec-374faab243a8] Capping the per_run_time_limit to 29.0 to have time for a least 2 models in each process.\n"
     ]
    },
    {
     "name": "stderr",
     "output_type": "stream",
     "text": [
      "/home/aless/progetti/ML-techniques-for-State-Estimation/venv/lib/python3.8/site-packages/distributed/node.py:182: UserWarning: Port 8787 is already in use.\n",
      "Perhaps you already have a cluster running?\n",
      "Hosting the HTTP server on port 41573 instead\n",
      "  warnings.warn(\n"
     ]
    },
    {
     "name": "stdout",
     "output_type": "stream",
     "text": [
      "[WARNING] [2024-07-03 19:03:13,663:Client-EnsembleBuilder] No runs were available to build an ensemble from\n",
      "[WARNING] [2024-07-03 19:03:14,719:Client-EnsembleBuilder] No runs were available to build an ensemble from\n",
      "[WARNING] [2024-07-03 19:03:14,931:Client-EnsembleBuilder] No runs were available to build an ensemble from\n",
      "[WARNING] [2024-07-03 19:03:15,292:Client-EnsembleBuilder] No runs were available to build an ensemble from\n",
      "[WARNING] [2024-07-03 19:03:15,563:Client-EnsembleBuilder] No runs were available to build an ensemble from\n",
      "[WARNING] [2024-07-03 19:03:16,308:Client-EnsembleBuilder] No runs were available to build an ensemble from\n",
      "[WARNING] [2024-07-03 19:03:16,541:Client-EnsembleBuilder] No runs were available to build an ensemble from\n",
      "[WARNING] [2024-07-03 19:03:17,068:Client-EnsembleBuilder] No runs were available to build an ensemble from\n",
      "[WARNING] [2024-07-03 19:03:18,006:Client-EnsembleBuilder] No runs were available to build an ensemble from\n",
      "[WARNING] [2024-07-03 19:03:19,654:Client-EnsembleBuilder] No runs were available to build an ensemble from\n",
      "[WARNING] [2024-07-03 19:03:19,981:Client-EnsembleBuilder] No runs were available to build an ensemble from\n",
      "[WARNING] [2024-07-03 19:03:20,989:Client-EnsembleBuilder] No runs were available to build an ensemble from\n",
      "[WARNING] [2024-07-03 19:03:21,607:Client-EnsembleBuilder] No runs were available to build an ensemble from\n",
      "[WARNING] [2024-07-03 19:03:23,182:Client-EnsembleBuilder] No runs were available to build an ensemble from\n",
      "[WARNING] [2024-07-03 19:03:23,812:Client-EnsembleBuilder] No runs were available to build an ensemble from\n",
      "[WARNING] [2024-07-03 19:03:29,481:Client-EnsembleBuilder] No runs were available to build an ensemble from\n",
      "[WARNING] [2024-07-03 19:03:30,015:Client-EnsembleBuilder] No runs were available to build an ensemble from\n",
      "[WARNING] [2024-07-03 19:03:31,719:Client-EnsembleBuilder] No runs were available to build an ensemble from\n",
      "Training for output #40\n",
      "[WARNING] [2024-07-03 19:04:08,331:Client-AutoML(1):429ebf2a-395e-11ef-acec-374faab243a8] Capping the per_run_time_limit to 29.0 to have time for a least 2 models in each process.\n"
     ]
    },
    {
     "name": "stderr",
     "output_type": "stream",
     "text": [
      "/home/aless/progetti/ML-techniques-for-State-Estimation/venv/lib/python3.8/site-packages/distributed/node.py:182: UserWarning: Port 8787 is already in use.\n",
      "Perhaps you already have a cluster running?\n",
      "Hosting the HTTP server on port 37207 instead\n",
      "  warnings.warn(\n"
     ]
    },
    {
     "name": "stdout",
     "output_type": "stream",
     "text": [
      "[WARNING] [2024-07-03 19:04:09,990:Client-EnsembleBuilder] No runs were available to build an ensemble from\n",
      "[WARNING] [2024-07-03 19:04:10,957:Client-EnsembleBuilder] No runs were available to build an ensemble from\n",
      "[WARNING] [2024-07-03 19:04:11,066:Client-EnsembleBuilder] No runs were available to build an ensemble from\n",
      "[WARNING] [2024-07-03 19:04:11,465:Client-EnsembleBuilder] No runs were available to build an ensemble from\n",
      "[WARNING] [2024-07-03 19:04:11,641:Client-EnsembleBuilder] No runs were available to build an ensemble from\n",
      "[WARNING] [2024-07-03 19:04:12,111:Client-EnsembleBuilder] No runs were available to build an ensemble from\n",
      "[WARNING] [2024-07-03 19:04:12,644:Client-EnsembleBuilder] No runs were available to build an ensemble from\n",
      "[WARNING] [2024-07-03 19:04:12,915:Client-EnsembleBuilder] No runs were available to build an ensemble from\n",
      "[WARNING] [2024-07-03 19:04:13,435:Client-EnsembleBuilder] No runs were available to build an ensemble from\n",
      "[WARNING] [2024-07-03 19:04:14,306:Client-EnsembleBuilder] No runs were available to build an ensemble from\n",
      "[WARNING] [2024-07-03 19:04:15,939:Client-EnsembleBuilder] No runs were available to build an ensemble from\n",
      "[WARNING] [2024-07-03 19:04:16,304:Client-EnsembleBuilder] No runs were available to build an ensemble from\n",
      "[WARNING] [2024-07-03 19:04:17,381:Client-EnsembleBuilder] No runs were available to build an ensemble from\n",
      "[WARNING] [2024-07-03 19:04:17,939:Client-EnsembleBuilder] No runs were available to build an ensemble from\n",
      "[WARNING] [2024-07-03 19:04:18,094:Client-EnsembleBuilder] No runs were available to build an ensemble from\n",
      "[WARNING] [2024-07-03 19:04:19,652:Client-EnsembleBuilder] No runs were available to build an ensemble from\n",
      "[WARNING] [2024-07-03 19:04:20,278:Client-EnsembleBuilder] No runs were available to build an ensemble from\n",
      "[WARNING] [2024-07-03 19:04:25,345:Client-EnsembleBuilder] No runs were available to build an ensemble from\n",
      "[WARNING] [2024-07-03 19:04:25,880:Client-EnsembleBuilder] No runs were available to build an ensemble from\n",
      "[WARNING] [2024-07-03 19:04:27,578:Client-EnsembleBuilder] No runs were available to build an ensemble from\n",
      "Training for output #41\n",
      "[WARNING] [2024-07-03 19:05:06,948:Client-AutoML(1):658d8fa6-395e-11ef-acec-374faab243a8] Capping the per_run_time_limit to 29.0 to have time for a least 2 models in each process.\n"
     ]
    },
    {
     "name": "stderr",
     "output_type": "stream",
     "text": [
      "/home/aless/progetti/ML-techniques-for-State-Estimation/venv/lib/python3.8/site-packages/distributed/node.py:182: UserWarning: Port 8787 is already in use.\n",
      "Perhaps you already have a cluster running?\n",
      "Hosting the HTTP server on port 40471 instead\n",
      "  warnings.warn(\n"
     ]
    },
    {
     "name": "stdout",
     "output_type": "stream",
     "text": [
      "[WARNING] [2024-07-03 19:05:08,481:Client-EnsembleBuilder] No runs were available to build an ensemble from\n",
      "[WARNING] [2024-07-03 19:05:09,530:Client-EnsembleBuilder] No runs were available to build an ensemble from\n",
      "[WARNING] [2024-07-03 19:05:09,725:Client-EnsembleBuilder] No runs were available to build an ensemble from\n",
      "[WARNING] [2024-07-03 19:05:10,075:Client-EnsembleBuilder] No runs were available to build an ensemble from\n",
      "[WARNING] [2024-07-03 19:05:10,339:Client-EnsembleBuilder] No runs were available to build an ensemble from\n",
      "[WARNING] [2024-07-03 19:05:10,985:Client-EnsembleBuilder] No runs were available to build an ensemble from\n",
      "[WARNING] [2024-07-03 19:05:11,257:Client-EnsembleBuilder] No runs were available to build an ensemble from\n",
      "[WARNING] [2024-07-03 19:05:11,756:Client-EnsembleBuilder] No runs were available to build an ensemble from\n",
      "[WARNING] [2024-07-03 19:05:12,678:Client-EnsembleBuilder] No runs were available to build an ensemble from\n",
      "[WARNING] [2024-07-03 19:05:14,209:Client-EnsembleBuilder] No runs were available to build an ensemble from\n",
      "[WARNING] [2024-07-03 19:05:14,964:Client-EnsembleBuilder] No runs were available to build an ensemble from\n",
      "[WARNING] [2024-07-03 19:05:15,569:Client-EnsembleBuilder] No runs were available to build an ensemble from\n",
      "[WARNING] [2024-07-03 19:05:16,295:Client-EnsembleBuilder] No runs were available to build an ensemble from\n",
      "[WARNING] [2024-07-03 19:05:16,584:Client-EnsembleBuilder] No runs were available to build an ensemble from\n",
      "[WARNING] [2024-07-03 19:05:18,119:Client-EnsembleBuilder] No runs were available to build an ensemble from\n",
      "[WARNING] [2024-07-03 19:05:18,783:Client-EnsembleBuilder] No runs were available to build an ensemble from\n",
      "[WARNING] [2024-07-03 19:05:23,937:Client-EnsembleBuilder] No runs were available to build an ensemble from\n",
      "[WARNING] [2024-07-03 19:05:24,479:Client-EnsembleBuilder] No runs were available to build an ensemble from\n",
      "[WARNING] [2024-07-03 19:05:26,130:Client-EnsembleBuilder] No runs were available to build an ensemble from\n",
      "Training for output #42\n",
      "[WARNING] [2024-07-03 19:06:04,113:Client-AutoML(1):87a1cf95-395e-11ef-acec-374faab243a8] Capping the per_run_time_limit to 29.0 to have time for a least 2 models in each process.\n"
     ]
    },
    {
     "name": "stderr",
     "output_type": "stream",
     "text": [
      "/home/aless/progetti/ML-techniques-for-State-Estimation/venv/lib/python3.8/site-packages/distributed/node.py:182: UserWarning: Port 8787 is already in use.\n",
      "Perhaps you already have a cluster running?\n",
      "Hosting the HTTP server on port 38723 instead\n",
      "  warnings.warn(\n"
     ]
    },
    {
     "name": "stdout",
     "output_type": "stream",
     "text": [
      "[WARNING] [2024-07-03 19:06:05,734:Client-EnsembleBuilder] No runs were available to build an ensemble from\n",
      "[WARNING] [2024-07-03 19:06:06,798:Client-EnsembleBuilder] No runs were available to build an ensemble from\n",
      "[WARNING] [2024-07-03 19:06:06,997:Client-EnsembleBuilder] No runs were available to build an ensemble from\n",
      "[WARNING] [2024-07-03 19:06:07,399:Client-EnsembleBuilder] No runs were available to build an ensemble from\n",
      "[WARNING] [2024-07-03 19:06:07,633:Client-EnsembleBuilder] No runs were available to build an ensemble from\n",
      "[WARNING] [2024-07-03 19:06:08,292:Client-EnsembleBuilder] No runs were available to build an ensemble from\n",
      "[WARNING] [2024-07-03 19:06:08,469:Client-EnsembleBuilder] No runs were available to build an ensemble from\n",
      "[WARNING] [2024-07-03 19:06:09,136:Client-EnsembleBuilder] No runs were available to build an ensemble from\n",
      "[WARNING] [2024-07-03 19:06:09,937:Client-EnsembleBuilder] No runs were available to build an ensemble from\n",
      "[WARNING] [2024-07-03 19:06:11,583:Client-EnsembleBuilder] No runs were available to build an ensemble from\n",
      "[WARNING] [2024-07-03 19:06:12,113:Client-EnsembleBuilder] No runs were available to build an ensemble from\n",
      "[WARNING] [2024-07-03 19:06:12,985:Client-EnsembleBuilder] No runs were available to build an ensemble from\n",
      "[WARNING] [2024-07-03 19:06:13,643:Client-EnsembleBuilder] No runs were available to build an ensemble from\n",
      "[WARNING] [2024-07-03 19:06:13,851:Client-EnsembleBuilder] No runs were available to build an ensemble from\n",
      "[WARNING] [2024-07-03 19:06:15,364:Client-EnsembleBuilder] No runs were available to build an ensemble from\n",
      "[WARNING] [2024-07-03 19:06:16,005:Client-EnsembleBuilder] No runs were available to build an ensemble from\n",
      "[WARNING] [2024-07-03 19:06:20,906:Client-EnsembleBuilder] No runs were available to build an ensemble from\n",
      "[WARNING] [2024-07-03 19:06:21,434:Client-EnsembleBuilder] No runs were available to build an ensemble from\n",
      "[WARNING] [2024-07-03 19:06:23,065:Client-EnsembleBuilder] No runs were available to build an ensemble from\n",
      "Training for output #43\n",
      "[WARNING] [2024-07-03 19:06:59,874:Client-AutoML(1):a8df8c04-395e-11ef-acec-374faab243a8] Capping the per_run_time_limit to 29.0 to have time for a least 2 models in each process.\n"
     ]
    },
    {
     "name": "stderr",
     "output_type": "stream",
     "text": [
      "/home/aless/progetti/ML-techniques-for-State-Estimation/venv/lib/python3.8/site-packages/distributed/node.py:182: UserWarning: Port 8787 is already in use.\n",
      "Perhaps you already have a cluster running?\n",
      "Hosting the HTTP server on port 38479 instead\n",
      "  warnings.warn(\n"
     ]
    },
    {
     "name": "stdout",
     "output_type": "stream",
     "text": [
      "[WARNING] [2024-07-03 19:07:01,447:Client-EnsembleBuilder] No runs were available to build an ensemble from\n",
      "[WARNING] [2024-07-03 19:07:02,455:Client-EnsembleBuilder] No runs were available to build an ensemble from\n",
      "[WARNING] [2024-07-03 19:07:02,664:Client-EnsembleBuilder] No runs were available to build an ensemble from\n",
      "[WARNING] [2024-07-03 19:07:03,051:Client-EnsembleBuilder] No runs were available to build an ensemble from\n",
      "[WARNING] [2024-07-03 19:07:03,199:Client-EnsembleBuilder] No runs were available to build an ensemble from\n",
      "[WARNING] [2024-07-03 19:07:04,178:Client-EnsembleBuilder] No runs were available to build an ensemble from\n",
      "[WARNING] [2024-07-03 19:07:04,813:Client-EnsembleBuilder] No runs were available to build an ensemble from\n",
      "[WARNING] [2024-07-03 19:07:05,884:Client-EnsembleBuilder] No runs were available to build an ensemble from\n",
      "[WARNING] [2024-07-03 19:07:07,301:Client-EnsembleBuilder] No runs were available to build an ensemble from\n",
      "[WARNING] [2024-07-03 19:07:07,792:Client-EnsembleBuilder] No runs were available to build an ensemble from\n",
      "[WARNING] [2024-07-03 19:07:08,825:Client-EnsembleBuilder] No runs were available to build an ensemble from\n",
      "[WARNING] [2024-07-03 19:07:09,382:Client-EnsembleBuilder] No runs were available to build an ensemble from\n",
      "[WARNING] [2024-07-03 19:07:09,599:Client-EnsembleBuilder] No runs were available to build an ensemble from\n",
      "[WARNING] [2024-07-03 19:07:11,228:Client-EnsembleBuilder] No runs were available to build an ensemble from\n",
      "[WARNING] [2024-07-03 19:07:11,892:Client-EnsembleBuilder] No runs were available to build an ensemble from\n",
      "[WARNING] [2024-07-03 19:07:16,523:Client-EnsembleBuilder] No runs were available to build an ensemble from\n",
      "[WARNING] [2024-07-03 19:07:17,108:Client-EnsembleBuilder] No runs were available to build an ensemble from\n",
      "[WARNING] [2024-07-03 19:07:18,731:Client-EnsembleBuilder] No runs were available to build an ensemble from\n",
      "Training for output #44\n",
      "[WARNING] [2024-07-03 19:07:57,263:Client-AutoML(1):cb139304-395e-11ef-acec-374faab243a8] Capping the per_run_time_limit to 29.0 to have time for a least 2 models in each process.\n"
     ]
    },
    {
     "name": "stderr",
     "output_type": "stream",
     "text": [
      "/home/aless/progetti/ML-techniques-for-State-Estimation/venv/lib/python3.8/site-packages/distributed/node.py:182: UserWarning: Port 8787 is already in use.\n",
      "Perhaps you already have a cluster running?\n",
      "Hosting the HTTP server on port 37257 instead\n",
      "  warnings.warn(\n"
     ]
    },
    {
     "name": "stdout",
     "output_type": "stream",
     "text": [
      "[WARNING] [2024-07-03 19:07:58,903:Client-EnsembleBuilder] No runs were available to build an ensemble from\n",
      "[WARNING] [2024-07-03 19:07:59,895:Client-EnsembleBuilder] No runs were available to build an ensemble from\n",
      "[WARNING] [2024-07-03 19:08:00,302:Client-EnsembleBuilder] No runs were available to build an ensemble from\n",
      "[WARNING] [2024-07-03 19:08:00,532:Client-EnsembleBuilder] No runs were available to build an ensemble from\n",
      "[WARNING] [2024-07-03 19:08:01,094:Client-EnsembleBuilder] No runs were available to build an ensemble from\n",
      "[WARNING] [2024-07-03 19:08:01,731:Client-EnsembleBuilder] No runs were available to build an ensemble from\n",
      "[WARNING] [2024-07-03 19:08:02,004:Client-EnsembleBuilder] No runs were available to build an ensemble from\n",
      "[WARNING] [2024-07-03 19:08:02,525:Client-EnsembleBuilder] No runs were available to build an ensemble from\n",
      "[WARNING] [2024-07-03 19:08:03,504:Client-EnsembleBuilder] No runs were available to build an ensemble from\n",
      "[WARNING] [2024-07-03 19:08:05,053:Client-EnsembleBuilder] No runs were available to build an ensemble from\n",
      "[WARNING] [2024-07-03 19:08:05,290:Client-EnsembleBuilder] No runs were available to build an ensemble from\n",
      "[WARNING] [2024-07-03 19:08:06,609:Client-EnsembleBuilder] No runs were available to build an ensemble from\n",
      "[WARNING] [2024-07-03 19:08:06,957:Client-EnsembleBuilder] No runs were available to build an ensemble from\n",
      "[WARNING] [2024-07-03 19:08:07,302:Client-EnsembleBuilder] No runs were available to build an ensemble from\n",
      "[WARNING] [2024-07-03 19:08:08,837:Client-EnsembleBuilder] No runs were available to build an ensemble from\n",
      "[WARNING] [2024-07-03 19:08:09,514:Client-EnsembleBuilder] No runs were available to build an ensemble from\n",
      "[WARNING] [2024-07-03 19:08:14,800:Client-EnsembleBuilder] No runs were available to build an ensemble from\n",
      "[WARNING] [2024-07-03 19:08:15,350:Client-EnsembleBuilder] No runs were available to build an ensemble from\n",
      "[WARNING] [2024-07-03 19:08:16,963:Client-EnsembleBuilder] No runs were available to build an ensemble from\n",
      "Training for output #45\n",
      "[WARNING] [2024-07-03 19:08:53,047:Client-AutoML(1):ec4471af-395e-11ef-acec-374faab243a8] Capping the per_run_time_limit to 29.0 to have time for a least 2 models in each process.\n"
     ]
    },
    {
     "name": "stderr",
     "output_type": "stream",
     "text": [
      "/home/aless/progetti/ML-techniques-for-State-Estimation/venv/lib/python3.8/site-packages/distributed/node.py:182: UserWarning: Port 8787 is already in use.\n",
      "Perhaps you already have a cluster running?\n",
      "Hosting the HTTP server on port 43629 instead\n",
      "  warnings.warn(\n"
     ]
    },
    {
     "name": "stdout",
     "output_type": "stream",
     "text": [
      "[WARNING] [2024-07-03 19:08:54,693:Client-EnsembleBuilder] No runs were available to build an ensemble from\n",
      "[WARNING] [2024-07-03 19:08:55,771:Client-EnsembleBuilder] No runs were available to build an ensemble from\n",
      "[WARNING] [2024-07-03 19:08:56,143:Client-EnsembleBuilder] No runs were available to build an ensemble from\n",
      "[WARNING] [2024-07-03 19:08:56,317:Client-EnsembleBuilder] No runs were available to build an ensemble from\n",
      "[WARNING] [2024-07-03 19:08:56,614:Client-EnsembleBuilder] No runs were available to build an ensemble from\n",
      "[WARNING] [2024-07-03 19:08:57,366:Client-EnsembleBuilder] No runs were available to build an ensemble from\n",
      "[WARNING] [2024-07-03 19:08:57,536:Client-EnsembleBuilder] No runs were available to build an ensemble from\n",
      "[WARNING] [2024-07-03 19:08:58,041:Client-EnsembleBuilder] No runs were available to build an ensemble from\n",
      "[WARNING] [2024-07-03 19:08:59,112:Client-EnsembleBuilder] No runs were available to build an ensemble from\n",
      "[WARNING] [2024-07-03 19:09:00,432:Client-EnsembleBuilder] No runs were available to build an ensemble from\n",
      "[WARNING] [2024-07-03 19:09:00,824:Client-EnsembleBuilder] No runs were available to build an ensemble from\n",
      "[WARNING] [2024-07-03 19:09:02,081:Client-EnsembleBuilder] No runs were available to build an ensemble from\n",
      "[WARNING] [2024-07-03 19:09:02,426:Client-EnsembleBuilder] No runs were available to build an ensemble from\n",
      "[WARNING] [2024-07-03 19:09:02,901:Client-EnsembleBuilder] No runs were available to build an ensemble from\n",
      "[WARNING] [2024-07-03 19:09:04,627:Client-EnsembleBuilder] No runs were available to build an ensemble from\n",
      "[WARNING] [2024-07-03 19:09:05,277:Client-EnsembleBuilder] No runs were available to build an ensemble from\n",
      "[WARNING] [2024-07-03 19:09:09,757:Client-EnsembleBuilder] No runs were available to build an ensemble from\n",
      "[WARNING] [2024-07-03 19:09:10,299:Client-EnsembleBuilder] No runs were available to build an ensemble from\n",
      "[WARNING] [2024-07-03 19:09:11,985:Client-EnsembleBuilder] No runs were available to build an ensemble from\n",
      "Training for output #46\n",
      "[WARNING] [2024-07-03 19:09:49,672:Client-AutoML(1):0dc07e8d-395f-11ef-acec-374faab243a8] Capping the per_run_time_limit to 29.0 to have time for a least 2 models in each process.\n"
     ]
    },
    {
     "name": "stderr",
     "output_type": "stream",
     "text": [
      "/home/aless/progetti/ML-techniques-for-State-Estimation/venv/lib/python3.8/site-packages/distributed/node.py:182: UserWarning: Port 8787 is already in use.\n",
      "Perhaps you already have a cluster running?\n",
      "Hosting the HTTP server on port 46091 instead\n",
      "  warnings.warn(\n"
     ]
    },
    {
     "name": "stdout",
     "output_type": "stream",
     "text": [
      "[WARNING] [2024-07-03 19:09:51,269:Client-EnsembleBuilder] No runs were available to build an ensemble from\n",
      "[WARNING] [2024-07-03 19:09:52,280:Client-EnsembleBuilder] No runs were available to build an ensemble from\n",
      "[WARNING] [2024-07-03 19:09:52,518:Client-EnsembleBuilder] No runs were available to build an ensemble from\n",
      "[WARNING] [2024-07-03 19:09:52,857:Client-EnsembleBuilder] No runs were available to build an ensemble from\n",
      "[WARNING] [2024-07-03 19:09:53,127:Client-EnsembleBuilder] No runs were available to build an ensemble from\n",
      "[WARNING] [2024-07-03 19:09:53,847:Client-EnsembleBuilder] No runs were available to build an ensemble from\n",
      "[WARNING] [2024-07-03 19:09:54,055:Client-EnsembleBuilder] No runs were available to build an ensemble from\n",
      "[WARNING] [2024-07-03 19:09:54,557:Client-EnsembleBuilder] No runs were available to build an ensemble from\n",
      "[WARNING] [2024-07-03 19:09:55,612:Client-EnsembleBuilder] No runs were available to build an ensemble from\n",
      "[WARNING] [2024-07-03 19:09:57,121:Client-EnsembleBuilder] No runs were available to build an ensemble from\n",
      "[WARNING] [2024-07-03 19:09:57,609:Client-EnsembleBuilder] No runs were available to build an ensemble from\n",
      "[WARNING] [2024-07-03 19:09:58,595:Client-EnsembleBuilder] No runs were available to build an ensemble from\n",
      "[WARNING] [2024-07-03 19:09:59,188:Client-EnsembleBuilder] No runs were available to build an ensemble from\n",
      "[WARNING] [2024-07-03 19:10:00,802:Client-EnsembleBuilder] No runs were available to build an ensemble from\n",
      "[WARNING] [2024-07-03 19:10:01,425:Client-EnsembleBuilder] No runs were available to build an ensemble from\n",
      "[WARNING] [2024-07-03 19:10:06,679:Client-EnsembleBuilder] No runs were available to build an ensemble from\n",
      "[WARNING] [2024-07-03 19:10:07,252:Client-EnsembleBuilder] No runs were available to build an ensemble from\n",
      "[WARNING] [2024-07-03 19:10:08,881:Client-EnsembleBuilder] No runs were available to build an ensemble from\n",
      "Training for output #47\n",
      "[WARNING] [2024-07-03 19:10:46,226:Client-AutoML(1):2faaae3b-395f-11ef-acec-374faab243a8] Capping the per_run_time_limit to 29.0 to have time for a least 2 models in each process.\n"
     ]
    },
    {
     "name": "stderr",
     "output_type": "stream",
     "text": [
      "/home/aless/progetti/ML-techniques-for-State-Estimation/venv/lib/python3.8/site-packages/distributed/node.py:182: UserWarning: Port 8787 is already in use.\n",
      "Perhaps you already have a cluster running?\n",
      "Hosting the HTTP server on port 46377 instead\n",
      "  warnings.warn(\n"
     ]
    },
    {
     "name": "stdout",
     "output_type": "stream",
     "text": [
      "[WARNING] [2024-07-03 19:10:47,840:Client-EnsembleBuilder] No runs were available to build an ensemble from\n",
      "[WARNING] [2024-07-03 19:10:48,874:Client-EnsembleBuilder] No runs were available to build an ensemble from\n",
      "[WARNING] [2024-07-03 19:10:49,158:Client-EnsembleBuilder] No runs were available to build an ensemble from\n",
      "[WARNING] [2024-07-03 19:10:49,435:Client-EnsembleBuilder] No runs were available to build an ensemble from\n",
      "[WARNING] [2024-07-03 19:10:49,806:Client-EnsembleBuilder] No runs were available to build an ensemble from\n",
      "[WARNING] [2024-07-03 19:10:50,433:Client-EnsembleBuilder] No runs were available to build an ensemble from\n",
      "[WARNING] [2024-07-03 19:10:50,751:Client-EnsembleBuilder] No runs were available to build an ensemble from\n",
      "[WARNING] [2024-07-03 19:10:51,343:Client-EnsembleBuilder] No runs were available to build an ensemble from\n",
      "[WARNING] [2024-07-03 19:10:52,113:Client-EnsembleBuilder] No runs were available to build an ensemble from\n",
      "[WARNING] [2024-07-03 19:10:53,843:Client-EnsembleBuilder] No runs were available to build an ensemble from\n",
      "[WARNING] [2024-07-03 19:10:54,397:Client-EnsembleBuilder] No runs were available to build an ensemble from\n",
      "[WARNING] [2024-07-03 19:10:55,215:Client-EnsembleBuilder] No runs were available to build an ensemble from\n",
      "[WARNING] [2024-07-03 19:10:55,826:Client-EnsembleBuilder] No runs were available to build an ensemble from\n",
      "[WARNING] [2024-07-03 19:10:56,040:Client-EnsembleBuilder] No runs were available to build an ensemble from\n",
      "[WARNING] [2024-07-03 19:10:57,560:Client-EnsembleBuilder] No runs were available to build an ensemble from\n",
      "[WARNING] [2024-07-03 19:10:58,265:Client-EnsembleBuilder] No runs were available to build an ensemble from\n",
      "[WARNING] [2024-07-03 19:11:03,985:Client-EnsembleBuilder] No runs were available to build an ensemble from\n",
      "[WARNING] [2024-07-03 19:11:04,582:Client-EnsembleBuilder] No runs were available to build an ensemble from\n",
      "[WARNING] [2024-07-03 19:11:06,268:Client-EnsembleBuilder] No runs were available to build an ensemble from\n",
      "Training for output #48\n",
      "[WARNING] [2024-07-03 19:11:42,950:Client-AutoML(1):519fbdd5-395f-11ef-acec-374faab243a8] Capping the per_run_time_limit to 29.0 to have time for a least 2 models in each process.\n"
     ]
    },
    {
     "name": "stderr",
     "output_type": "stream",
     "text": [
      "/home/aless/progetti/ML-techniques-for-State-Estimation/venv/lib/python3.8/site-packages/distributed/node.py:182: UserWarning: Port 8787 is already in use.\n",
      "Perhaps you already have a cluster running?\n",
      "Hosting the HTTP server on port 39561 instead\n",
      "  warnings.warn(\n"
     ]
    },
    {
     "name": "stdout",
     "output_type": "stream",
     "text": [
      "[WARNING] [2024-07-03 19:11:44,661:Client-EnsembleBuilder] No runs were available to build an ensemble from\n",
      "[WARNING] [2024-07-03 19:11:45,687:Client-EnsembleBuilder] No runs were available to build an ensemble from\n",
      "[WARNING] [2024-07-03 19:11:45,851:Client-EnsembleBuilder] No runs were available to build an ensemble from\n",
      "[WARNING] [2024-07-03 19:11:46,297:Client-EnsembleBuilder] No runs were available to build an ensemble from\n",
      "[WARNING] [2024-07-03 19:11:46,537:Client-EnsembleBuilder] No runs were available to build an ensemble from\n",
      "[WARNING] [2024-07-03 19:11:47,170:Client-EnsembleBuilder] No runs were available to build an ensemble from\n",
      "[WARNING] [2024-07-03 19:11:47,452:Client-EnsembleBuilder] No runs were available to build an ensemble from\n",
      "[WARNING] [2024-07-03 19:11:48,089:Client-EnsembleBuilder] No runs were available to build an ensemble from\n",
      "[WARNING] [2024-07-03 19:11:48,860:Client-EnsembleBuilder] No runs were available to build an ensemble from\n",
      "[WARNING] [2024-07-03 19:11:50,673:Client-EnsembleBuilder] No runs were available to build an ensemble from\n",
      "[WARNING] [2024-07-03 19:11:51,134:Client-EnsembleBuilder] No runs were available to build an ensemble from\n",
      "[WARNING] [2024-07-03 19:11:51,716:Client-EnsembleBuilder] No runs were available to build an ensemble from\n",
      "[WARNING] [2024-07-03 19:11:52,364:Client-EnsembleBuilder] No runs were available to build an ensemble from\n",
      "[WARNING] [2024-07-03 19:11:52,778:Client-EnsembleBuilder] No runs were available to build an ensemble from\n",
      "[WARNING] [2024-07-03 19:11:54,398:Client-EnsembleBuilder] No runs were available to build an ensemble from\n",
      "[WARNING] [2024-07-03 19:11:55,077:Client-EnsembleBuilder] No runs were available to build an ensemble from\n",
      "[WARNING] [2024-07-03 19:12:00,771:Client-EnsembleBuilder] No runs were available to build an ensemble from\n",
      "[WARNING] [2024-07-03 19:12:01,277:Client-EnsembleBuilder] No runs were available to build an ensemble from\n",
      "[WARNING] [2024-07-03 19:12:02,902:Client-EnsembleBuilder] No runs were available to build an ensemble from\n",
      "Training for output #49\n",
      "[WARNING] [2024-07-03 19:12:40,315:Client-AutoML(1):738aad64-395f-11ef-acec-374faab243a8] Capping the per_run_time_limit to 29.0 to have time for a least 2 models in each process.\n"
     ]
    },
    {
     "name": "stderr",
     "output_type": "stream",
     "text": [
      "/home/aless/progetti/ML-techniques-for-State-Estimation/venv/lib/python3.8/site-packages/distributed/node.py:182: UserWarning: Port 8787 is already in use.\n",
      "Perhaps you already have a cluster running?\n",
      "Hosting the HTTP server on port 35241 instead\n",
      "  warnings.warn(\n"
     ]
    },
    {
     "name": "stdout",
     "output_type": "stream",
     "text": [
      "[WARNING] [2024-07-03 19:12:41,991:Client-EnsembleBuilder] No runs were available to build an ensemble from\n",
      "[WARNING] [2024-07-03 19:12:43,028:Client-EnsembleBuilder] No runs were available to build an ensemble from\n",
      "[WARNING] [2024-07-03 19:12:43,471:Client-EnsembleBuilder] No runs were available to build an ensemble from\n",
      "[WARNING] [2024-07-03 19:12:43,605:Client-EnsembleBuilder] No runs were available to build an ensemble from\n",
      "[WARNING] [2024-07-03 19:12:43,862:Client-EnsembleBuilder] No runs were available to build an ensemble from\n",
      "[WARNING] [2024-07-03 19:12:44,587:Client-EnsembleBuilder] No runs were available to build an ensemble from\n",
      "[WARNING] [2024-07-03 19:12:44,782:Client-EnsembleBuilder] No runs were available to build an ensemble from\n",
      "[WARNING] [2024-07-03 19:12:45,324:Client-EnsembleBuilder] No runs were available to build an ensemble from\n",
      "[WARNING] [2024-07-03 19:12:46,346:Client-EnsembleBuilder] No runs were available to build an ensemble from\n",
      "[WARNING] [2024-07-03 19:12:47,911:Client-EnsembleBuilder] No runs were available to build an ensemble from\n",
      "[WARNING] [2024-07-03 19:12:48,345:Client-EnsembleBuilder] No runs were available to build an ensemble from\n",
      "[WARNING] [2024-07-03 19:12:49,460:Client-EnsembleBuilder] No runs were available to build an ensemble from\n",
      "[WARNING] [2024-07-03 19:12:50,020:Client-EnsembleBuilder] No runs were available to build an ensemble from\n",
      "[WARNING] [2024-07-03 19:12:50,155:Client-EnsembleBuilder] No runs were available to build an ensemble from\n",
      "[WARNING] [2024-07-03 19:12:51,722:Client-EnsembleBuilder] No runs were available to build an ensemble from\n",
      "[WARNING] [2024-07-03 19:12:52,364:Client-EnsembleBuilder] No runs were available to build an ensemble from\n",
      "[WARNING] [2024-07-03 19:12:58,344:Client-EnsembleBuilder] No runs were available to build an ensemble from\n",
      "[WARNING] [2024-07-03 19:12:58,877:Client-EnsembleBuilder] No runs were available to build an ensemble from\n",
      "[WARNING] [2024-07-03 19:13:00,582:Client-EnsembleBuilder] No runs were available to build an ensemble from\n",
      "Training for output #50\n",
      "[WARNING] [2024-07-03 19:13:36,757:Client-AutoML(1):956c5efa-395f-11ef-acec-374faab243a8] Capping the per_run_time_limit to 29.0 to have time for a least 2 models in each process.\n"
     ]
    },
    {
     "name": "stderr",
     "output_type": "stream",
     "text": [
      "/home/aless/progetti/ML-techniques-for-State-Estimation/venv/lib/python3.8/site-packages/distributed/node.py:182: UserWarning: Port 8787 is already in use.\n",
      "Perhaps you already have a cluster running?\n",
      "Hosting the HTTP server on port 45451 instead\n",
      "  warnings.warn(\n"
     ]
    },
    {
     "name": "stdout",
     "output_type": "stream",
     "text": [
      "[WARNING] [2024-07-03 19:13:38,535:Client-EnsembleBuilder] No runs were available to build an ensemble from\n",
      "[WARNING] [2024-07-03 19:13:39,606:Client-EnsembleBuilder] No runs were available to build an ensemble from\n",
      "[WARNING] [2024-07-03 19:13:39,866:Client-EnsembleBuilder] No runs were available to build an ensemble from\n",
      "[WARNING] [2024-07-03 19:13:40,151:Client-EnsembleBuilder] No runs were available to build an ensemble from\n",
      "[WARNING] [2024-07-03 19:13:40,456:Client-EnsembleBuilder] No runs were available to build an ensemble from\n",
      "[WARNING] [2024-07-03 19:13:41,068:Client-EnsembleBuilder] No runs were available to build an ensemble from\n",
      "[WARNING] [2024-07-03 19:13:41,409:Client-EnsembleBuilder] No runs were available to build an ensemble from\n",
      "[WARNING] [2024-07-03 19:13:41,922:Client-EnsembleBuilder] No runs were available to build an ensemble from\n",
      "[WARNING] [2024-07-03 19:13:42,763:Client-EnsembleBuilder] No runs were available to build an ensemble from\n",
      "[WARNING] [2024-07-03 19:13:44,517:Client-EnsembleBuilder] No runs were available to build an ensemble from\n",
      "[WARNING] [2024-07-03 19:13:44,877:Client-EnsembleBuilder] No runs were available to build an ensemble from\n",
      "[WARNING] [2024-07-03 19:13:45,958:Client-EnsembleBuilder] No runs were available to build an ensemble from\n",
      "[WARNING] [2024-07-03 19:13:46,507:Client-EnsembleBuilder] No runs were available to build an ensemble from\n",
      "[WARNING] [2024-07-03 19:13:46,663:Client-EnsembleBuilder] No runs were available to build an ensemble from\n",
      "[WARNING] [2024-07-03 19:13:48,207:Client-EnsembleBuilder] No runs were available to build an ensemble from\n",
      "[WARNING] [2024-07-03 19:13:48,971:Client-EnsembleBuilder] No runs were available to build an ensemble from\n",
      "[WARNING] [2024-07-03 19:13:55,891:Client-EnsembleBuilder] No runs were available to build an ensemble from\n",
      "[WARNING] [2024-07-03 19:13:56,404:Client-EnsembleBuilder] No runs were available to build an ensemble from\n",
      "[WARNING] [2024-07-03 19:13:58,090:Client-EnsembleBuilder] No runs were available to build an ensemble from\n",
      "Training for output #51\n",
      "[WARNING] [2024-07-03 19:14:34,324:Client-AutoML(1):b700ad33-395f-11ef-acec-374faab243a8] Capping the per_run_time_limit to 29.0 to have time for a least 2 models in each process.\n"
     ]
    },
    {
     "name": "stderr",
     "output_type": "stream",
     "text": [
      "/home/aless/progetti/ML-techniques-for-State-Estimation/venv/lib/python3.8/site-packages/distributed/node.py:182: UserWarning: Port 8787 is already in use.\n",
      "Perhaps you already have a cluster running?\n",
      "Hosting the HTTP server on port 43883 instead\n",
      "  warnings.warn(\n"
     ]
    },
    {
     "name": "stdout",
     "output_type": "stream",
     "text": [
      "[WARNING] [2024-07-03 19:14:35,917:Client-EnsembleBuilder] No runs were available to build an ensemble from\n",
      "[WARNING] [2024-07-03 19:14:36,922:Client-EnsembleBuilder] No runs were available to build an ensemble from\n",
      "[WARNING] [2024-07-03 19:14:37,150:Client-EnsembleBuilder] No runs were available to build an ensemble from\n",
      "[WARNING] [2024-07-03 19:14:37,528:Client-EnsembleBuilder] No runs were available to build an ensemble from\n",
      "[WARNING] [2024-07-03 19:14:37,815:Client-EnsembleBuilder] No runs were available to build an ensemble from\n",
      "[WARNING] [2024-07-03 19:14:38,493:Client-EnsembleBuilder] No runs were available to build an ensemble from\n",
      "[WARNING] [2024-07-03 19:14:38,728:Client-EnsembleBuilder] No runs were available to build an ensemble from\n",
      "[WARNING] [2024-07-03 19:14:39,194:Client-EnsembleBuilder] No runs were available to build an ensemble from\n",
      "[WARNING] [2024-07-03 19:14:40,263:Client-EnsembleBuilder] No runs were available to build an ensemble from\n",
      "[WARNING] [2024-07-03 19:14:41,760:Client-EnsembleBuilder] No runs were available to build an ensemble from\n",
      "[WARNING] [2024-07-03 19:14:42,171:Client-EnsembleBuilder] No runs were available to build an ensemble from\n",
      "[WARNING] [2024-07-03 19:14:43,135:Client-EnsembleBuilder] No runs were available to build an ensemble from\n",
      "[WARNING] [2024-07-03 19:14:43,764:Client-EnsembleBuilder] No runs were available to build an ensemble from\n",
      "[WARNING] [2024-07-03 19:14:43,880:Client-EnsembleBuilder] No runs were available to build an ensemble from\n",
      "[WARNING] [2024-07-03 19:14:45,421:Client-EnsembleBuilder] No runs were available to build an ensemble from\n",
      "[WARNING] [2024-07-03 19:14:46,060:Client-EnsembleBuilder] No runs were available to build an ensemble from\n",
      "[WARNING] [2024-07-03 19:14:51,685:Client-EnsembleBuilder] No runs were available to build an ensemble from\n",
      "[WARNING] [2024-07-03 19:14:52,278:Client-EnsembleBuilder] No runs were available to build an ensemble from\n",
      "[WARNING] [2024-07-03 19:14:53,996:Client-EnsembleBuilder] No runs were available to build an ensemble from\n",
      "Training for output #52\n",
      "[WARNING] [2024-07-03 19:15:32,041:Client-AutoML(1):da2cba53-395f-11ef-acec-374faab243a8] Capping the per_run_time_limit to 29.0 to have time for a least 2 models in each process.\n"
     ]
    },
    {
     "name": "stderr",
     "output_type": "stream",
     "text": [
      "/home/aless/progetti/ML-techniques-for-State-Estimation/venv/lib/python3.8/site-packages/distributed/node.py:182: UserWarning: Port 8787 is already in use.\n",
      "Perhaps you already have a cluster running?\n",
      "Hosting the HTTP server on port 40241 instead\n",
      "  warnings.warn(\n"
     ]
    },
    {
     "name": "stdout",
     "output_type": "stream",
     "text": [
      "[WARNING] [2024-07-03 19:15:33,711:Client-EnsembleBuilder] No runs were available to build an ensemble from\n",
      "[WARNING] [2024-07-03 19:15:34,790:Client-EnsembleBuilder] No runs were available to build an ensemble from\n",
      "[WARNING] [2024-07-03 19:15:34,951:Client-EnsembleBuilder] No runs were available to build an ensemble from\n",
      "[WARNING] [2024-07-03 19:15:35,304:Client-EnsembleBuilder] No runs were available to build an ensemble from\n",
      "[WARNING] [2024-07-03 19:15:35,637:Client-EnsembleBuilder] No runs were available to build an ensemble from\n",
      "[WARNING] [2024-07-03 19:15:36,269:Client-EnsembleBuilder] No runs were available to build an ensemble from\n",
      "[WARNING] [2024-07-03 19:15:36,557:Client-EnsembleBuilder] No runs were available to build an ensemble from\n",
      "[WARNING] [2024-07-03 19:15:37,063:Client-EnsembleBuilder] No runs were available to build an ensemble from\n",
      "[WARNING] [2024-07-03 19:15:37,968:Client-EnsembleBuilder] No runs were available to build an ensemble from\n",
      "[WARNING] [2024-07-03 19:15:39,535:Client-EnsembleBuilder] No runs were available to build an ensemble from\n",
      "[WARNING] [2024-07-03 19:15:39,954:Client-EnsembleBuilder] No runs were available to build an ensemble from\n",
      "[WARNING] [2024-07-03 19:15:40,898:Client-EnsembleBuilder] No runs were available to build an ensemble from\n",
      "[WARNING] [2024-07-03 19:15:41,523:Client-EnsembleBuilder] No runs were available to build an ensemble from\n",
      "[WARNING] [2024-07-03 19:15:43,183:Client-EnsembleBuilder] No runs were available to build an ensemble from\n",
      "[WARNING] [2024-07-03 19:15:43,891:Client-EnsembleBuilder] No runs were available to build an ensemble from\n",
      "[WARNING] [2024-07-03 19:15:48,936:Client-EnsembleBuilder] No runs were available to build an ensemble from\n",
      "[WARNING] [2024-07-03 19:15:49,514:Client-EnsembleBuilder] No runs were available to build an ensemble from\n",
      "[WARNING] [2024-07-03 19:15:51,175:Client-EnsembleBuilder] No runs were available to build an ensemble from\n",
      "Training for output #53\n",
      "[WARNING] [2024-07-03 19:16:27,906:Client-AutoML(1):fb6cbd36-395f-11ef-acec-374faab243a8] Capping the per_run_time_limit to 29.0 to have time for a least 2 models in each process.\n"
     ]
    },
    {
     "name": "stderr",
     "output_type": "stream",
     "text": [
      "/home/aless/progetti/ML-techniques-for-State-Estimation/venv/lib/python3.8/site-packages/distributed/node.py:182: UserWarning: Port 8787 is already in use.\n",
      "Perhaps you already have a cluster running?\n",
      "Hosting the HTTP server on port 44893 instead\n",
      "  warnings.warn(\n"
     ]
    },
    {
     "name": "stdout",
     "output_type": "stream",
     "text": [
      "[WARNING] [2024-07-03 19:16:29,529:Client-EnsembleBuilder] No runs were available to build an ensemble from\n",
      "[WARNING] [2024-07-03 19:16:30,612:Client-EnsembleBuilder] No runs were available to build an ensemble from\n",
      "[WARNING] [2024-07-03 19:16:30,780:Client-EnsembleBuilder] No runs were available to build an ensemble from\n",
      "[WARNING] [2024-07-03 19:16:31,150:Client-EnsembleBuilder] No runs were available to build an ensemble from\n",
      "[WARNING] [2024-07-03 19:16:31,501:Client-EnsembleBuilder] No runs were available to build an ensemble from\n",
      "[WARNING] [2024-07-03 19:16:32,183:Client-EnsembleBuilder] No runs were available to build an ensemble from\n",
      "[WARNING] [2024-07-03 19:16:32,395:Client-EnsembleBuilder] No runs were available to build an ensemble from\n",
      "[WARNING] [2024-07-03 19:16:32,985:Client-EnsembleBuilder] No runs were available to build an ensemble from\n",
      "[WARNING] [2024-07-03 19:16:34,101:Client-EnsembleBuilder] No runs were available to build an ensemble from\n",
      "[WARNING] [2024-07-03 19:16:35,643:Client-EnsembleBuilder] No runs were available to build an ensemble from\n",
      "[WARNING] [2024-07-03 19:16:36,013:Client-EnsembleBuilder] No runs were available to build an ensemble from\n",
      "[WARNING] [2024-07-03 19:16:37,412:Client-EnsembleBuilder] No runs were available to build an ensemble from\n",
      "[WARNING] [2024-07-03 19:16:37,827:Client-EnsembleBuilder] No runs were available to build an ensemble from\n",
      "[WARNING] [2024-07-03 19:16:38,432:Client-EnsembleBuilder] No runs were available to build an ensemble from\n",
      "[WARNING] [2024-07-03 19:16:39,992:Client-EnsembleBuilder] No runs were available to build an ensemble from\n",
      "[WARNING] [2024-07-03 19:16:40,692:Client-EnsembleBuilder] No runs were available to build an ensemble from\n",
      "[WARNING] [2024-07-03 19:16:45,136:Client-EnsembleBuilder] No runs were available to build an ensemble from\n",
      "[WARNING] [2024-07-03 19:16:45,678:Client-EnsembleBuilder] No runs were available to build an ensemble from\n",
      "[WARNING] [2024-07-03 19:16:47,350:Client-EnsembleBuilder] No runs were available to build an ensemble from\n",
      "Training for output #54\n",
      "[WARNING] [2024-07-03 19:17:27,180:Client-AutoML(1):1e7b3f27-3960-11ef-acec-374faab243a8] Capping the per_run_time_limit to 29.0 to have time for a least 2 models in each process.\n"
     ]
    },
    {
     "name": "stderr",
     "output_type": "stream",
     "text": [
      "/home/aless/progetti/ML-techniques-for-State-Estimation/venv/lib/python3.8/site-packages/distributed/node.py:182: UserWarning: Port 8787 is already in use.\n",
      "Perhaps you already have a cluster running?\n",
      "Hosting the HTTP server on port 41727 instead\n",
      "  warnings.warn(\n"
     ]
    },
    {
     "name": "stdout",
     "output_type": "stream",
     "text": [
      "[WARNING] [2024-07-03 19:17:28,816:Client-EnsembleBuilder] No runs were available to build an ensemble from\n",
      "[WARNING] [2024-07-03 19:17:29,964:Client-EnsembleBuilder] No runs were available to build an ensemble from\n",
      "[WARNING] [2024-07-03 19:17:30,288:Client-EnsembleBuilder] No runs were available to build an ensemble from\n",
      "[WARNING] [2024-07-03 19:17:30,451:Client-EnsembleBuilder] No runs were available to build an ensemble from\n",
      "[WARNING] [2024-07-03 19:17:31,057:Client-EnsembleBuilder] No runs were available to build an ensemble from\n",
      "[WARNING] [2024-07-03 19:17:31,726:Client-EnsembleBuilder] No runs were available to build an ensemble from\n",
      "[WARNING] [2024-07-03 19:17:31,814:Client-EnsembleBuilder] No runs were available to build an ensemble from\n",
      "[WARNING] [2024-07-03 19:17:32,455:Client-EnsembleBuilder] No runs were available to build an ensemble from\n",
      "[WARNING] [2024-07-03 19:17:33,503:Client-EnsembleBuilder] No runs were available to build an ensemble from\n",
      "[WARNING] [2024-07-03 19:17:34,960:Client-EnsembleBuilder] No runs were available to build an ensemble from\n",
      "[WARNING] [2024-07-03 19:17:35,303:Client-EnsembleBuilder] No runs were available to build an ensemble from\n",
      "[WARNING] [2024-07-03 19:17:36,442:Client-EnsembleBuilder] No runs were available to build an ensemble from\n",
      "[WARNING] [2024-07-03 19:17:36,910:Client-EnsembleBuilder] No runs were available to build an ensemble from\n",
      "[WARNING] [2024-07-03 19:17:37,108:Client-EnsembleBuilder] No runs were available to build an ensemble from\n",
      "[WARNING] [2024-07-03 19:17:38,673:Client-EnsembleBuilder] No runs were available to build an ensemble from\n",
      "[WARNING] [2024-07-03 19:17:39,290:Client-EnsembleBuilder] No runs were available to build an ensemble from\n",
      "[WARNING] [2024-07-03 19:17:44,981:Client-EnsembleBuilder] No runs were available to build an ensemble from\n",
      "[WARNING] [2024-07-03 19:17:45,550:Client-EnsembleBuilder] No runs were available to build an ensemble from\n",
      "[WARNING] [2024-07-03 19:17:47,223:Client-EnsembleBuilder] No runs were available to build an ensemble from\n",
      "Training for output #55\n",
      "[WARNING] [2024-07-03 19:18:23,356:Client-AutoML(1):4039d95a-3960-11ef-acec-374faab243a8] Capping the per_run_time_limit to 29.0 to have time for a least 2 models in each process.\n"
     ]
    },
    {
     "name": "stderr",
     "output_type": "stream",
     "text": [
      "/home/aless/progetti/ML-techniques-for-State-Estimation/venv/lib/python3.8/site-packages/distributed/node.py:182: UserWarning: Port 8787 is already in use.\n",
      "Perhaps you already have a cluster running?\n",
      "Hosting the HTTP server on port 34391 instead\n",
      "  warnings.warn(\n"
     ]
    },
    {
     "name": "stdout",
     "output_type": "stream",
     "text": [
      "[WARNING] [2024-07-03 19:18:24,947:Client-EnsembleBuilder] No runs were available to build an ensemble from\n",
      "[WARNING] [2024-07-03 19:18:25,961:Client-EnsembleBuilder] No runs were available to build an ensemble from\n",
      "[WARNING] [2024-07-03 19:18:26,109:Client-EnsembleBuilder] No runs were available to build an ensemble from\n",
      "[WARNING] [2024-07-03 19:18:26,560:Client-EnsembleBuilder] No runs were available to build an ensemble from\n",
      "[WARNING] [2024-07-03 19:18:26,826:Client-EnsembleBuilder] No runs were available to build an ensemble from\n",
      "[WARNING] [2024-07-03 19:18:27,637:Client-EnsembleBuilder] No runs were available to build an ensemble from\n",
      "[WARNING] [2024-07-03 19:18:28,253:Client-EnsembleBuilder] No runs were available to build an ensemble from\n",
      "[WARNING] [2024-07-03 19:18:29,352:Client-EnsembleBuilder] No runs were available to build an ensemble from\n",
      "[WARNING] [2024-07-03 19:18:30,746:Client-EnsembleBuilder] No runs were available to build an ensemble from\n",
      "[WARNING] [2024-07-03 19:18:31,203:Client-EnsembleBuilder] No runs were available to build an ensemble from\n",
      "[WARNING] [2024-07-03 19:18:32,395:Client-EnsembleBuilder] No runs were available to build an ensemble from\n",
      "[WARNING] [2024-07-03 19:18:32,783:Client-EnsembleBuilder] No runs were available to build an ensemble from\n",
      "[WARNING] [2024-07-03 19:18:33,079:Client-EnsembleBuilder] No runs were available to build an ensemble from\n",
      "[WARNING] [2024-07-03 19:18:34,634:Client-EnsembleBuilder] No runs were available to build an ensemble from\n",
      "[WARNING] [2024-07-03 19:18:35,324:Client-EnsembleBuilder] No runs were available to build an ensemble from\n",
      "[WARNING] [2024-07-03 19:18:40,687:Client-EnsembleBuilder] No runs were available to build an ensemble from\n",
      "[WARNING] [2024-07-03 19:18:41,202:Client-EnsembleBuilder] No runs were available to build an ensemble from\n",
      "[WARNING] [2024-07-03 19:18:42,839:Client-EnsembleBuilder] No runs were available to build an ensemble from\n",
      "Training for output #56\n",
      "[WARNING] [2024-07-03 19:19:18,987:Client-AutoML(1):616de3d2-3960-11ef-acec-374faab243a8] Capping the per_run_time_limit to 29.0 to have time for a least 2 models in each process.\n"
     ]
    },
    {
     "name": "stderr",
     "output_type": "stream",
     "text": [
      "/home/aless/progetti/ML-techniques-for-State-Estimation/venv/lib/python3.8/site-packages/distributed/node.py:182: UserWarning: Port 8787 is already in use.\n",
      "Perhaps you already have a cluster running?\n",
      "Hosting the HTTP server on port 39291 instead\n",
      "  warnings.warn(\n"
     ]
    },
    {
     "name": "stdout",
     "output_type": "stream",
     "text": [
      "[WARNING] [2024-07-03 19:19:20,690:Client-EnsembleBuilder] No runs were available to build an ensemble from\n",
      "[WARNING] [2024-07-03 19:19:21,745:Client-EnsembleBuilder] No runs were available to build an ensemble from\n",
      "[WARNING] [2024-07-03 19:19:21,950:Client-EnsembleBuilder] No runs were available to build an ensemble from\n",
      "[WARNING] [2024-07-03 19:19:22,297:Client-EnsembleBuilder] No runs were available to build an ensemble from\n",
      "[WARNING] [2024-07-03 19:19:22,583:Client-EnsembleBuilder] No runs were available to build an ensemble from\n",
      "[WARNING] [2024-07-03 19:19:23,256:Client-EnsembleBuilder] No runs were available to build an ensemble from\n",
      "[WARNING] [2024-07-03 19:19:23,502:Client-EnsembleBuilder] No runs were available to build an ensemble from\n",
      "[WARNING] [2024-07-03 19:19:24,050:Client-EnsembleBuilder] No runs were available to build an ensemble from\n",
      "[WARNING] [2024-07-03 19:19:25,023:Client-EnsembleBuilder] No runs were available to build an ensemble from\n",
      "[WARNING] [2024-07-03 19:19:26,565:Client-EnsembleBuilder] No runs were available to build an ensemble from\n",
      "[WARNING] [2024-07-03 19:19:26,972:Client-EnsembleBuilder] No runs were available to build an ensemble from\n",
      "[WARNING] [2024-07-03 19:19:28,063:Client-EnsembleBuilder] No runs were available to build an ensemble from\n",
      "[WARNING] [2024-07-03 19:19:28,616:Client-EnsembleBuilder] No runs were available to build an ensemble from\n",
      "[WARNING] [2024-07-03 19:19:28,768:Client-EnsembleBuilder] No runs were available to build an ensemble from\n",
      "[WARNING] [2024-07-03 19:19:30,634:Client-EnsembleBuilder] No runs were available to build an ensemble from\n",
      "[WARNING] [2024-07-03 19:19:31,255:Client-EnsembleBuilder] No runs were available to build an ensemble from\n",
      "[WARNING] [2024-07-03 19:19:35,655:Client-EnsembleBuilder] No runs were available to build an ensemble from\n",
      "[WARNING] [2024-07-03 19:19:36,184:Client-EnsembleBuilder] No runs were available to build an ensemble from\n",
      "[WARNING] [2024-07-03 19:19:37,802:Client-EnsembleBuilder] No runs were available to build an ensemble from\n",
      "Training for output #57\n",
      "[WARNING] [2024-07-03 19:20:16,793:Client-AutoML(1):83bb8b3a-3960-11ef-acec-374faab243a8] Capping the per_run_time_limit to 29.0 to have time for a least 2 models in each process.\n"
     ]
    },
    {
     "name": "stderr",
     "output_type": "stream",
     "text": [
      "/home/aless/progetti/ML-techniques-for-State-Estimation/venv/lib/python3.8/site-packages/distributed/node.py:182: UserWarning: Port 8787 is already in use.\n",
      "Perhaps you already have a cluster running?\n",
      "Hosting the HTTP server on port 43739 instead\n",
      "  warnings.warn(\n"
     ]
    },
    {
     "name": "stdout",
     "output_type": "stream",
     "text": [
      "[WARNING] [2024-07-03 19:20:18,504:Client-EnsembleBuilder] No runs were available to build an ensemble from\n",
      "[WARNING] [2024-07-03 19:20:19,549:Client-EnsembleBuilder] No runs were available to build an ensemble from\n",
      "[WARNING] [2024-07-03 19:20:19,777:Client-EnsembleBuilder] No runs were available to build an ensemble from\n",
      "[WARNING] [2024-07-03 19:20:20,113:Client-EnsembleBuilder] No runs were available to build an ensemble from\n",
      "[WARNING] [2024-07-03 19:20:20,383:Client-EnsembleBuilder] No runs were available to build an ensemble from\n",
      "[WARNING] [2024-07-03 19:20:21,037:Client-EnsembleBuilder] No runs were available to build an ensemble from\n",
      "[WARNING] [2024-07-03 19:20:21,592:Client-EnsembleBuilder] No runs were available to build an ensemble from\n",
      "[WARNING] [2024-07-03 19:20:22,111:Client-EnsembleBuilder] No runs were available to build an ensemble from\n",
      "[WARNING] [2024-07-03 19:20:22,694:Client-EnsembleBuilder] No runs were available to build an ensemble from\n",
      "[WARNING] [2024-07-03 19:20:24,615:Client-EnsembleBuilder] No runs were available to build an ensemble from\n",
      "[WARNING] [2024-07-03 19:20:24,838:Client-EnsembleBuilder] No runs were available to build an ensemble from\n",
      "[WARNING] [2024-07-03 19:20:25,599:Client-EnsembleBuilder] No runs were available to build an ensemble from\n",
      "[WARNING] [2024-07-03 19:20:26,229:Client-EnsembleBuilder] No runs were available to build an ensemble from\n",
      "[WARNING] [2024-07-03 19:20:26,444:Client-EnsembleBuilder] No runs were available to build an ensemble from\n",
      "[WARNING] [2024-07-03 19:20:28,060:Client-EnsembleBuilder] No runs were available to build an ensemble from\n",
      "[WARNING] [2024-07-03 19:20:28,783:Client-EnsembleBuilder] No runs were available to build an ensemble from\n",
      "[WARNING] [2024-07-03 19:20:34,354:Client-EnsembleBuilder] No runs were available to build an ensemble from\n",
      "[WARNING] [2024-07-03 19:20:34,897:Client-EnsembleBuilder] No runs were available to build an ensemble from\n",
      "[WARNING] [2024-07-03 19:20:36,550:Client-EnsembleBuilder] No runs were available to build an ensemble from\n",
      "Training for output #58\n",
      "[WARNING] [2024-07-03 19:21:12,944:Client-AutoML(1):a547d8a0-3960-11ef-acec-374faab243a8] Capping the per_run_time_limit to 29.0 to have time for a least 2 models in each process.\n"
     ]
    },
    {
     "name": "stderr",
     "output_type": "stream",
     "text": [
      "/home/aless/progetti/ML-techniques-for-State-Estimation/venv/lib/python3.8/site-packages/distributed/node.py:182: UserWarning: Port 8787 is already in use.\n",
      "Perhaps you already have a cluster running?\n",
      "Hosting the HTTP server on port 34115 instead\n",
      "  warnings.warn(\n"
     ]
    },
    {
     "name": "stdout",
     "output_type": "stream",
     "text": [
      "[WARNING] [2024-07-03 19:21:14,829:Client-EnsembleBuilder] No runs were available to build an ensemble from\n",
      "[WARNING] [2024-07-03 19:21:15,920:Client-EnsembleBuilder] No runs were available to build an ensemble from\n",
      "[WARNING] [2024-07-03 19:21:16,488:Client-EnsembleBuilder] No runs were available to build an ensemble from\n",
      "[WARNING] [2024-07-03 19:21:16,754:Client-EnsembleBuilder] No runs were available to build an ensemble from\n",
      "[WARNING] [2024-07-03 19:21:17,418:Client-EnsembleBuilder] No runs were available to build an ensemble from\n",
      "[WARNING] [2024-07-03 19:21:18,094:Client-EnsembleBuilder] No runs were available to build an ensemble from\n",
      "[WARNING] [2024-07-03 19:21:18,628:Client-EnsembleBuilder] No runs were available to build an ensemble from\n",
      "[WARNING] [2024-07-03 19:21:19,096:Client-EnsembleBuilder] No runs were available to build an ensemble from\n",
      "[WARNING] [2024-07-03 19:21:21,260:Client-EnsembleBuilder] No runs were available to build an ensemble from\n",
      "[WARNING] [2024-07-03 19:21:21,463:Client-EnsembleBuilder] No runs were available to build an ensemble from\n",
      "[WARNING] [2024-07-03 19:21:22,163:Client-EnsembleBuilder] No runs were available to build an ensemble from\n",
      "[WARNING] [2024-07-03 19:21:22,795:Client-EnsembleBuilder] No runs were available to build an ensemble from\n",
      "[WARNING] [2024-07-03 19:21:23,064:Client-EnsembleBuilder] No runs were available to build an ensemble from\n",
      "[WARNING] [2024-07-03 19:21:24,763:Client-EnsembleBuilder] No runs were available to build an ensemble from\n",
      "[WARNING] [2024-07-03 19:21:25,416:Client-EnsembleBuilder] No runs were available to build an ensemble from\n",
      "[WARNING] [2024-07-03 19:21:31,474:Client-EnsembleBuilder] No runs were available to build an ensemble from\n",
      "[WARNING] [2024-07-03 19:21:32,035:Client-EnsembleBuilder] No runs were available to build an ensemble from\n",
      "[WARNING] [2024-07-03 19:21:33,720:Client-EnsembleBuilder] No runs were available to build an ensemble from\n",
      "Training for output #59\n",
      "[WARNING] [2024-07-03 19:22:10,850:Client-AutoML(1):c7d4814e-3960-11ef-acec-374faab243a8] Capping the per_run_time_limit to 29.0 to have time for a least 2 models in each process.\n"
     ]
    },
    {
     "name": "stderr",
     "output_type": "stream",
     "text": [
      "/home/aless/progetti/ML-techniques-for-State-Estimation/venv/lib/python3.8/site-packages/distributed/node.py:182: UserWarning: Port 8787 is already in use.\n",
      "Perhaps you already have a cluster running?\n",
      "Hosting the HTTP server on port 44179 instead\n",
      "  warnings.warn(\n"
     ]
    },
    {
     "name": "stdout",
     "output_type": "stream",
     "text": [
      "[WARNING] [2024-07-03 19:22:12,534:Client-EnsembleBuilder] No runs were available to build an ensemble from\n",
      "[WARNING] [2024-07-03 19:22:13,571:Client-EnsembleBuilder] No runs were available to build an ensemble from\n",
      "[WARNING] [2024-07-03 19:22:13,721:Client-EnsembleBuilder] No runs were available to build an ensemble from\n",
      "[WARNING] [2024-07-03 19:22:14,226:Client-EnsembleBuilder] No runs were available to build an ensemble from\n",
      "[WARNING] [2024-07-03 19:22:14,882:Client-EnsembleBuilder] No runs were available to build an ensemble from\n",
      "[WARNING] [2024-07-03 19:22:15,382:Client-EnsembleBuilder] No runs were available to build an ensemble from\n",
      "[WARNING] [2024-07-03 19:22:15,768:Client-EnsembleBuilder] No runs were available to build an ensemble from\n",
      "[WARNING] [2024-07-03 19:22:16,412:Client-EnsembleBuilder] No runs were available to build an ensemble from\n",
      "[WARNING] [2024-07-03 19:22:17,373:Client-EnsembleBuilder] No runs were available to build an ensemble from\n",
      "[WARNING] [2024-07-03 19:22:19,264:Client-EnsembleBuilder] No runs were available to build an ensemble from\n",
      "[WARNING] [2024-07-03 19:22:20,324:Client-EnsembleBuilder] No runs were available to build an ensemble from\n",
      "[WARNING] [2024-07-03 19:22:20,800:Client-EnsembleBuilder] No runs were available to build an ensemble from\n",
      "[WARNING] [2024-07-03 19:22:21,511:Client-EnsembleBuilder] No runs were available to build an ensemble from\n",
      "[WARNING] [2024-07-03 19:22:22,154:Client-EnsembleBuilder] No runs were available to build an ensemble from\n",
      "[WARNING] [2024-07-03 19:22:23,755:Client-EnsembleBuilder] No runs were available to build an ensemble from\n",
      "[WARNING] [2024-07-03 19:22:24,472:Client-EnsembleBuilder] No runs were available to build an ensemble from\n",
      "[WARNING] [2024-07-03 19:22:31,369:Client-EnsembleBuilder] No runs were available to build an ensemble from\n",
      "[WARNING] [2024-07-03 19:22:32,125:Client-EnsembleBuilder] No runs were available to build an ensemble from\n",
      "[WARNING] [2024-07-03 19:22:33,835:Client-EnsembleBuilder] No runs were available to build an ensemble from\n",
      "Training for output #60\n",
      "[WARNING] [2024-07-03 19:23:07,646:Client-AutoML(1):e922d6d6-3960-11ef-acec-374faab243a8] Capping the per_run_time_limit to 29.0 to have time for a least 2 models in each process.\n"
     ]
    },
    {
     "name": "stderr",
     "output_type": "stream",
     "text": [
      "/home/aless/progetti/ML-techniques-for-State-Estimation/venv/lib/python3.8/site-packages/distributed/node.py:182: UserWarning: Port 8787 is already in use.\n",
      "Perhaps you already have a cluster running?\n",
      "Hosting the HTTP server on port 41587 instead\n",
      "  warnings.warn(\n"
     ]
    },
    {
     "name": "stdout",
     "output_type": "stream",
     "text": [
      "[WARNING] [2024-07-03 19:23:09,624:Client-EnsembleBuilder] No runs were available to build an ensemble from\n",
      "[WARNING] [2024-07-03 19:23:10,680:Client-EnsembleBuilder] No runs were available to build an ensemble from\n",
      "[WARNING] [2024-07-03 19:23:10,945:Client-EnsembleBuilder] No runs were available to build an ensemble from\n",
      "[WARNING] [2024-07-03 19:23:11,317:Client-EnsembleBuilder] No runs were available to build an ensemble from\n",
      "[WARNING] [2024-07-03 19:23:11,593:Client-EnsembleBuilder] No runs were available to build an ensemble from\n",
      "[WARNING] [2024-07-03 19:23:12,290:Client-EnsembleBuilder] No runs were available to build an ensemble from\n",
      "[WARNING] [2024-07-03 19:23:12,534:Client-EnsembleBuilder] No runs were available to build an ensemble from\n",
      "[WARNING] [2024-07-03 19:23:13,143:Client-EnsembleBuilder] No runs were available to build an ensemble from\n",
      "[WARNING] [2024-07-03 19:23:14,100:Client-EnsembleBuilder] No runs were available to build an ensemble from\n",
      "[WARNING] [2024-07-03 19:23:15,785:Client-EnsembleBuilder] No runs were available to build an ensemble from\n",
      "[WARNING] [2024-07-03 19:23:16,602:Client-EnsembleBuilder] No runs were available to build an ensemble from\n",
      "[WARNING] [2024-07-03 19:23:17,357:Client-EnsembleBuilder] No runs were available to build an ensemble from\n",
      "[WARNING] [2024-07-03 19:23:18,425:Client-EnsembleBuilder] No runs were available to build an ensemble from\n",
      "[WARNING] [2024-07-03 19:23:18,596:Client-EnsembleBuilder] No runs were available to build an ensemble from\n",
      "[WARNING] [2024-07-03 19:23:20,338:Client-EnsembleBuilder] No runs were available to build an ensemble from\n",
      "[WARNING] [2024-07-03 19:23:21,139:Client-EnsembleBuilder] No runs were available to build an ensemble from\n",
      "[WARNING] [2024-07-03 19:23:28,534:Client-EnsembleBuilder] No runs were available to build an ensemble from\n",
      "[WARNING] [2024-07-03 19:23:29,117:Client-EnsembleBuilder] No runs were available to build an ensemble from\n",
      "[WARNING] [2024-07-03 19:23:30,816:Client-EnsembleBuilder] No runs were available to build an ensemble from\n",
      "Training for output #61\n",
      "[WARNING] [2024-07-03 19:24:04,431:Client-AutoML(1):0aaa51ec-3961-11ef-acec-374faab243a8] Capping the per_run_time_limit to 29.0 to have time for a least 2 models in each process.\n"
     ]
    },
    {
     "name": "stderr",
     "output_type": "stream",
     "text": [
      "/home/aless/progetti/ML-techniques-for-State-Estimation/venv/lib/python3.8/site-packages/distributed/node.py:182: UserWarning: Port 8787 is already in use.\n",
      "Perhaps you already have a cluster running?\n",
      "Hosting the HTTP server on port 42953 instead\n",
      "  warnings.warn(\n"
     ]
    },
    {
     "name": "stdout",
     "output_type": "stream",
     "text": [
      "[WARNING] [2024-07-03 19:24:06,199:Client-EnsembleBuilder] No runs were available to build an ensemble from\n",
      "[WARNING] [2024-07-03 19:24:07,266:Client-EnsembleBuilder] No runs were available to build an ensemble from\n",
      "[WARNING] [2024-07-03 19:24:07,512:Client-EnsembleBuilder] No runs were available to build an ensemble from\n",
      "[WARNING] [2024-07-03 19:24:07,825:Client-EnsembleBuilder] No runs were available to build an ensemble from\n",
      "[WARNING] [2024-07-03 19:24:08,119:Client-EnsembleBuilder] No runs were available to build an ensemble from\n",
      "[WARNING] [2024-07-03 19:24:08,777:Client-EnsembleBuilder] No runs were available to build an ensemble from\n",
      "[WARNING] [2024-07-03 19:24:09,030:Client-EnsembleBuilder] No runs were available to build an ensemble from\n",
      "[WARNING] [2024-07-03 19:24:09,732:Client-EnsembleBuilder] No runs were available to build an ensemble from\n",
      "[WARNING] [2024-07-03 19:24:10,475:Client-EnsembleBuilder] No runs were available to build an ensemble from\n",
      "[WARNING] [2024-07-03 19:24:12,192:Client-EnsembleBuilder] No runs were available to build an ensemble from\n",
      "[WARNING] [2024-07-03 19:24:12,394:Client-EnsembleBuilder] No runs were available to build an ensemble from\n",
      "[WARNING] [2024-07-03 19:24:13,452:Client-EnsembleBuilder] No runs were available to build an ensemble from\n",
      "[WARNING] [2024-07-03 19:24:14,093:Client-EnsembleBuilder] No runs were available to build an ensemble from\n",
      "[WARNING] [2024-07-03 19:24:14,234:Client-EnsembleBuilder] No runs were available to build an ensemble from\n",
      "[WARNING] [2024-07-03 19:24:15,820:Client-EnsembleBuilder] No runs were available to build an ensemble from\n",
      "[WARNING] [2024-07-03 19:24:16,702:Client-EnsembleBuilder] No runs were available to build an ensemble from\n",
      "[WARNING] [2024-07-03 19:24:23,198:Client-EnsembleBuilder] No runs were available to build an ensemble from\n",
      "[WARNING] [2024-07-03 19:24:23,814:Client-EnsembleBuilder] No runs were available to build an ensemble from\n",
      "[WARNING] [2024-07-03 19:24:25,467:Client-EnsembleBuilder] No runs were available to build an ensemble from\n",
      "Training for output #62\n",
      "[WARNING] [2024-07-03 19:25:04,415:Client-AutoML(1):2f4941b0-3961-11ef-acec-374faab243a8] Capping the per_run_time_limit to 29.0 to have time for a least 2 models in each process.\n"
     ]
    },
    {
     "name": "stderr",
     "output_type": "stream",
     "text": [
      "/home/aless/progetti/ML-techniques-for-State-Estimation/venv/lib/python3.8/site-packages/distributed/node.py:182: UserWarning: Port 8787 is already in use.\n",
      "Perhaps you already have a cluster running?\n",
      "Hosting the HTTP server on port 46691 instead\n",
      "  warnings.warn(\n"
     ]
    },
    {
     "name": "stdout",
     "output_type": "stream",
     "text": [
      "[WARNING] [2024-07-03 19:25:06,399:Client-EnsembleBuilder] No runs were available to build an ensemble from\n",
      "[WARNING] [2024-07-03 19:25:07,438:Client-EnsembleBuilder] No runs were available to build an ensemble from\n",
      "[WARNING] [2024-07-03 19:25:07,730:Client-EnsembleBuilder] No runs were available to build an ensemble from\n",
      "[WARNING] [2024-07-03 19:25:08,064:Client-EnsembleBuilder] No runs were available to build an ensemble from\n",
      "[WARNING] [2024-07-03 19:25:08,325:Client-EnsembleBuilder] No runs were available to build an ensemble from\n",
      "[WARNING] [2024-07-03 19:25:09,009:Client-EnsembleBuilder] No runs were available to build an ensemble from\n",
      "[WARNING] [2024-07-03 19:25:09,270:Client-EnsembleBuilder] No runs were available to build an ensemble from\n",
      "[WARNING] [2024-07-03 19:25:10,070:Client-EnsembleBuilder] No runs were available to build an ensemble from\n",
      "[WARNING] [2024-07-03 19:25:10,812:Client-EnsembleBuilder] No runs were available to build an ensemble from\n",
      "[WARNING] [2024-07-03 19:25:12,627:Client-EnsembleBuilder] No runs were available to build an ensemble from\n",
      "[WARNING] [2024-07-03 19:25:13,449:Client-EnsembleBuilder] No runs were available to build an ensemble from\n",
      "[WARNING] [2024-07-03 19:25:14,034:Client-EnsembleBuilder] No runs were available to build an ensemble from\n",
      "[WARNING] [2024-07-03 19:25:14,737:Client-EnsembleBuilder] No runs were available to build an ensemble from\n",
      "[WARNING] [2024-07-03 19:25:15,098:Client-EnsembleBuilder] No runs were available to build an ensemble from\n",
      "[WARNING] [2024-07-03 19:25:16,720:Client-EnsembleBuilder] No runs were available to build an ensemble from\n",
      "[WARNING] [2024-07-03 19:25:17,382:Client-EnsembleBuilder] No runs were available to build an ensemble from\n",
      "[WARNING] [2024-07-03 19:25:24,674:Client-EnsembleBuilder] No runs were available to build an ensemble from\n",
      "[WARNING] [2024-07-03 19:25:25,394:Client-EnsembleBuilder] No runs were available to build an ensemble from\n",
      "[WARNING] [2024-07-03 19:25:27,232:Client-EnsembleBuilder] No runs were available to build an ensemble from\n",
      "Training for output #63\n",
      "[WARNING] [2024-07-03 19:26:04,564:Client-AutoML(1):53203ea5-3961-11ef-acec-374faab243a8] Capping the per_run_time_limit to 29.0 to have time for a least 2 models in each process.\n"
     ]
    },
    {
     "name": "stderr",
     "output_type": "stream",
     "text": [
      "/home/aless/progetti/ML-techniques-for-State-Estimation/venv/lib/python3.8/site-packages/distributed/node.py:182: UserWarning: Port 8787 is already in use.\n",
      "Perhaps you already have a cluster running?\n",
      "Hosting the HTTP server on port 40375 instead\n",
      "  warnings.warn(\n"
     ]
    },
    {
     "name": "stdout",
     "output_type": "stream",
     "text": [
      "[WARNING] [2024-07-03 19:26:06,246:Client-EnsembleBuilder] No runs were available to build an ensemble from\n",
      "[WARNING] [2024-07-03 19:26:07,242:Client-EnsembleBuilder] No runs were available to build an ensemble from\n",
      "[WARNING] [2024-07-03 19:26:07,360:Client-EnsembleBuilder] No runs were available to build an ensemble from\n",
      "[WARNING] [2024-07-03 19:26:07,896:Client-EnsembleBuilder] No runs were available to build an ensemble from\n",
      "[WARNING] [2024-07-03 19:26:08,190:Client-EnsembleBuilder] No runs were available to build an ensemble from\n",
      "[WARNING] [2024-07-03 19:26:08,922:Client-EnsembleBuilder] No runs were available to build an ensemble from\n",
      "[WARNING] [2024-07-03 19:26:09,090:Client-EnsembleBuilder] No runs were available to build an ensemble from\n",
      "[WARNING] [2024-07-03 19:26:09,672:Client-EnsembleBuilder] No runs were available to build an ensemble from\n",
      "[WARNING] [2024-07-03 19:26:10,738:Client-EnsembleBuilder] No runs were available to build an ensemble from\n",
      "[WARNING] [2024-07-03 19:26:12,155:Client-EnsembleBuilder] No runs were available to build an ensemble from\n",
      "[WARNING] [2024-07-03 19:26:12,664:Client-EnsembleBuilder] No runs were available to build an ensemble from\n",
      "[WARNING] [2024-07-03 19:26:13,849:Client-EnsembleBuilder] No runs were available to build an ensemble from\n",
      "[WARNING] [2024-07-03 19:26:14,335:Client-EnsembleBuilder] No runs were available to build an ensemble from\n",
      "[WARNING] [2024-07-03 19:26:14,566:Client-EnsembleBuilder] No runs were available to build an ensemble from\n",
      "[WARNING] [2024-07-03 19:26:16,109:Client-EnsembleBuilder] No runs were available to build an ensemble from\n",
      "[WARNING] [2024-07-03 19:26:16,871:Client-EnsembleBuilder] No runs were available to build an ensemble from\n",
      "[WARNING] [2024-07-03 19:26:22,592:Client-EnsembleBuilder] No runs were available to build an ensemble from\n",
      "[WARNING] [2024-07-03 19:26:23,213:Client-EnsembleBuilder] No runs were available to build an ensemble from\n",
      "[WARNING] [2024-07-03 19:26:24,905:Client-EnsembleBuilder] No runs were available to build an ensemble from\n",
      "Training for output #64\n",
      "[WARNING] [2024-07-03 19:27:03,552:Client-AutoML(1):75425a4d-3961-11ef-acec-374faab243a8] Capping the per_run_time_limit to 29.0 to have time for a least 2 models in each process.\n"
     ]
    },
    {
     "name": "stderr",
     "output_type": "stream",
     "text": [
      "/home/aless/progetti/ML-techniques-for-State-Estimation/venv/lib/python3.8/site-packages/distributed/node.py:182: UserWarning: Port 8787 is already in use.\n",
      "Perhaps you already have a cluster running?\n",
      "Hosting the HTTP server on port 33625 instead\n",
      "  warnings.warn(\n"
     ]
    },
    {
     "name": "stdout",
     "output_type": "stream",
     "text": [
      "[WARNING] [2024-07-03 19:27:05,517:Client-EnsembleBuilder] No runs were available to build an ensemble from\n",
      "[WARNING] [2024-07-03 19:27:06,572:Client-EnsembleBuilder] No runs were available to build an ensemble from\n",
      "[WARNING] [2024-07-03 19:27:06,823:Client-EnsembleBuilder] No runs were available to build an ensemble from\n",
      "[WARNING] [2024-07-03 19:27:07,231:Client-EnsembleBuilder] No runs were available to build an ensemble from\n",
      "[WARNING] [2024-07-03 19:27:07,636:Client-EnsembleBuilder] No runs were available to build an ensemble from\n",
      "[WARNING] [2024-07-03 19:27:08,412:Client-EnsembleBuilder] No runs were available to build an ensemble from\n",
      "[WARNING] [2024-07-03 19:27:08,609:Client-EnsembleBuilder] No runs were available to build an ensemble from\n",
      "[WARNING] [2024-07-03 19:27:09,193:Client-EnsembleBuilder] No runs were available to build an ensemble from\n",
      "[WARNING] [2024-07-03 19:27:10,161:Client-EnsembleBuilder] No runs were available to build an ensemble from\n",
      "[WARNING] [2024-07-03 19:27:11,788:Client-EnsembleBuilder] No runs were available to build an ensemble from\n",
      "[WARNING] [2024-07-03 19:27:12,826:Client-EnsembleBuilder] No runs were available to build an ensemble from\n",
      "[WARNING] [2024-07-03 19:27:13,736:Client-EnsembleBuilder] No runs were available to build an ensemble from\n",
      "[WARNING] [2024-07-03 19:27:14,512:Client-EnsembleBuilder] No runs were available to build an ensemble from\n",
      "[WARNING] [2024-07-03 19:27:14,589:Client-EnsembleBuilder] No runs were available to build an ensemble from\n",
      "[WARNING] [2024-07-03 19:27:16,393:Client-EnsembleBuilder] No runs were available to build an ensemble from\n",
      "[WARNING] [2024-07-03 19:27:17,086:Client-EnsembleBuilder] No runs were available to build an ensemble from\n",
      "[WARNING] [2024-07-03 19:27:24,846:Client-EnsembleBuilder] No runs were available to build an ensemble from\n",
      "[WARNING] [2024-07-03 19:27:25,437:Client-EnsembleBuilder] No runs were available to build an ensemble from\n",
      "[WARNING] [2024-07-03 19:27:27,195:Client-EnsembleBuilder] No runs were available to build an ensemble from\n",
      "Training for output #65\n",
      "[WARNING] [2024-07-03 19:28:01,915:Client-AutoML(1):98d1ca94-3961-11ef-acec-374faab243a8] Capping the per_run_time_limit to 29.0 to have time for a least 2 models in each process.\n"
     ]
    },
    {
     "name": "stderr",
     "output_type": "stream",
     "text": [
      "/home/aless/progetti/ML-techniques-for-State-Estimation/venv/lib/python3.8/site-packages/distributed/node.py:182: UserWarning: Port 8787 is already in use.\n",
      "Perhaps you already have a cluster running?\n",
      "Hosting the HTTP server on port 35199 instead\n",
      "  warnings.warn(\n"
     ]
    },
    {
     "name": "stdout",
     "output_type": "stream",
     "text": [
      "[WARNING] [2024-07-03 19:28:03,889:Client-EnsembleBuilder] No runs were available to build an ensemble from\n",
      "[WARNING] [2024-07-03 19:28:04,951:Client-EnsembleBuilder] No runs were available to build an ensemble from\n",
      "[WARNING] [2024-07-03 19:28:05,214:Client-EnsembleBuilder] No runs were available to build an ensemble from\n",
      "[WARNING] [2024-07-03 19:28:05,642:Client-EnsembleBuilder] No runs were available to build an ensemble from\n",
      "[WARNING] [2024-07-03 19:28:05,909:Client-EnsembleBuilder] No runs were available to build an ensemble from\n",
      "[WARNING] [2024-07-03 19:28:06,631:Client-EnsembleBuilder] No runs were available to build an ensemble from\n",
      "[WARNING] [2024-07-03 19:28:06,754:Client-EnsembleBuilder] No runs were available to build an ensemble from\n",
      "[WARNING] [2024-07-03 19:28:07,335:Client-EnsembleBuilder] No runs were available to build an ensemble from\n",
      "[WARNING] [2024-07-03 19:28:08,408:Client-EnsembleBuilder] No runs were available to build an ensemble from\n",
      "[WARNING] [2024-07-03 19:28:09,890:Client-EnsembleBuilder] No runs were available to build an ensemble from\n",
      "[WARNING] [2024-07-03 19:28:10,385:Client-EnsembleBuilder] No runs were available to build an ensemble from\n",
      "[WARNING] [2024-07-03 19:28:11,450:Client-EnsembleBuilder] No runs were available to build an ensemble from\n",
      "[WARNING] [2024-07-03 19:28:12,135:Client-EnsembleBuilder] No runs were available to build an ensemble from\n",
      "[WARNING] [2024-07-03 19:28:13,837:Client-EnsembleBuilder] No runs were available to build an ensemble from\n",
      "[WARNING] [2024-07-03 19:28:14,748:Client-EnsembleBuilder] No runs were available to build an ensemble from\n",
      "[WARNING] [2024-07-03 19:28:22,821:Client-EnsembleBuilder] No runs were available to build an ensemble from\n",
      "[WARNING] [2024-07-03 19:28:23,399:Client-EnsembleBuilder] No runs were available to build an ensemble from\n",
      "[WARNING] [2024-07-03 19:28:25,141:Client-EnsembleBuilder] No runs were available to build an ensemble from\n",
      "Training for output #66\n",
      "[WARNING] [2024-07-03 19:28:57,911:Client-AutoML(1):ba663df2-3961-11ef-acec-374faab243a8] Capping the per_run_time_limit to 29.0 to have time for a least 2 models in each process.\n"
     ]
    },
    {
     "name": "stderr",
     "output_type": "stream",
     "text": [
      "/home/aless/progetti/ML-techniques-for-State-Estimation/venv/lib/python3.8/site-packages/distributed/node.py:182: UserWarning: Port 8787 is already in use.\n",
      "Perhaps you already have a cluster running?\n",
      "Hosting the HTTP server on port 39759 instead\n",
      "  warnings.warn(\n"
     ]
    },
    {
     "name": "stdout",
     "output_type": "stream",
     "text": [
      "[WARNING] [2024-07-03 19:28:59,720:Client-EnsembleBuilder] No runs were available to build an ensemble from\n",
      "[WARNING] [2024-07-03 19:29:00,678:Client-EnsembleBuilder] No runs were available to build an ensemble from\n",
      "[WARNING] [2024-07-03 19:29:00,855:Client-EnsembleBuilder] No runs were available to build an ensemble from\n",
      "[WARNING] [2024-07-03 19:29:00,977:Client-EnsembleBuilder] No runs were available to build an ensemble from\n",
      "[WARNING] [2024-07-03 19:29:01,355:Client-EnsembleBuilder] No runs were available to build an ensemble from\n",
      "[WARNING] [2024-07-03 19:29:01,740:Client-EnsembleBuilder] No runs were available to build an ensemble from\n",
      "[WARNING] [2024-07-03 19:29:02,450:Client-EnsembleBuilder] No runs were available to build an ensemble from\n",
      "[WARNING] [2024-07-03 19:29:03,130:Client-EnsembleBuilder] No runs were available to build an ensemble from\n",
      "[WARNING] [2024-07-03 19:29:04,205:Client-EnsembleBuilder] No runs were available to build an ensemble from\n",
      "[WARNING] [2024-07-03 19:29:05,959:Client-EnsembleBuilder] No runs were available to build an ensemble from\n",
      "[WARNING] [2024-07-03 19:29:06,237:Client-EnsembleBuilder] No runs were available to build an ensemble from\n",
      "[WARNING] [2024-07-03 19:29:07,290:Client-EnsembleBuilder] No runs were available to build an ensemble from\n",
      "[WARNING] [2024-07-03 19:29:07,872:Client-EnsembleBuilder] No runs were available to build an ensemble from\n",
      "[WARNING] [2024-07-03 19:29:07,990:Client-EnsembleBuilder] No runs were available to build an ensemble from\n",
      "[WARNING] [2024-07-03 19:29:09,581:Client-EnsembleBuilder] No runs were available to build an ensemble from\n",
      "[WARNING] [2024-07-03 19:29:10,295:Client-EnsembleBuilder] No runs were available to build an ensemble from\n",
      "[WARNING] [2024-07-03 19:29:15,726:Client-EnsembleBuilder] No runs were available to build an ensemble from\n",
      "[WARNING] [2024-07-03 19:29:16,287:Client-EnsembleBuilder] No runs were available to build an ensemble from\n",
      "[WARNING] [2024-07-03 19:29:18,086:Client-EnsembleBuilder] No runs were available to build an ensemble from\n",
      "Training for output #67\n",
      "[WARNING] [2024-07-03 19:29:54,380:Client-AutoML(1):dc20fc10-3961-11ef-acec-374faab243a8] Capping the per_run_time_limit to 29.0 to have time for a least 2 models in each process.\n"
     ]
    },
    {
     "name": "stderr",
     "output_type": "stream",
     "text": [
      "/home/aless/progetti/ML-techniques-for-State-Estimation/venv/lib/python3.8/site-packages/distributed/node.py:182: UserWarning: Port 8787 is already in use.\n",
      "Perhaps you already have a cluster running?\n",
      "Hosting the HTTP server on port 42495 instead\n",
      "  warnings.warn(\n"
     ]
    },
    {
     "name": "stdout",
     "output_type": "stream",
     "text": [
      "[WARNING] [2024-07-03 19:29:56,129:Client-EnsembleBuilder] No runs were available to build an ensemble from\n",
      "[WARNING] [2024-07-03 19:29:57,156:Client-EnsembleBuilder] No runs were available to build an ensemble from\n",
      "[WARNING] [2024-07-03 19:29:57,308:Client-EnsembleBuilder] No runs were available to build an ensemble from\n",
      "[WARNING] [2024-07-03 19:29:57,745:Client-EnsembleBuilder] No runs were available to build an ensemble from\n",
      "[WARNING] [2024-07-03 19:29:58,047:Client-EnsembleBuilder] No runs were available to build an ensemble from\n",
      "[WARNING] [2024-07-03 19:29:58,723:Client-EnsembleBuilder] No runs were available to build an ensemble from\n",
      "[WARNING] [2024-07-03 19:29:58,978:Client-EnsembleBuilder] No runs were available to build an ensemble from\n",
      "[WARNING] [2024-07-03 19:29:59,495:Client-EnsembleBuilder] No runs were available to build an ensemble from\n",
      "[WARNING] [2024-07-03 19:30:00,481:Client-EnsembleBuilder] No runs were available to build an ensemble from\n",
      "[WARNING] [2024-07-03 19:30:02,053:Client-EnsembleBuilder] No runs were available to build an ensemble from\n",
      "[WARNING] [2024-07-03 19:30:02,435:Client-EnsembleBuilder] No runs were available to build an ensemble from\n",
      "[WARNING] [2024-07-03 19:30:03,436:Client-EnsembleBuilder] No runs were available to build an ensemble from\n",
      "[WARNING] [2024-07-03 19:30:04,126:Client-EnsembleBuilder] No runs were available to build an ensemble from\n",
      "[WARNING] [2024-07-03 19:30:04,557:Client-EnsembleBuilder] No runs were available to build an ensemble from\n",
      "[WARNING] [2024-07-03 19:30:06,253:Client-EnsembleBuilder] No runs were available to build an ensemble from\n",
      "[WARNING] [2024-07-03 19:30:06,975:Client-EnsembleBuilder] No runs were available to build an ensemble from\n",
      "[WARNING] [2024-07-03 19:30:13,225:Client-EnsembleBuilder] No runs were available to build an ensemble from\n",
      "[WARNING] [2024-07-03 19:30:13,814:Client-EnsembleBuilder] No runs were available to build an ensemble from\n",
      "[WARNING] [2024-07-03 19:30:15,461:Client-EnsembleBuilder] No runs were available to build an ensemble from\n",
      "Training for output #68\n",
      "[WARNING] [2024-07-03 19:30:51,179:Client-AutoML(1):fe08ba37-3961-11ef-acec-374faab243a8] Capping the per_run_time_limit to 29.0 to have time for a least 2 models in each process.\n"
     ]
    },
    {
     "name": "stderr",
     "output_type": "stream",
     "text": [
      "/home/aless/progetti/ML-techniques-for-State-Estimation/venv/lib/python3.8/site-packages/distributed/node.py:182: UserWarning: Port 8787 is already in use.\n",
      "Perhaps you already have a cluster running?\n",
      "Hosting the HTTP server on port 32843 instead\n",
      "  warnings.warn(\n"
     ]
    },
    {
     "name": "stdout",
     "output_type": "stream",
     "text": [
      "[WARNING] [2024-07-03 19:30:52,963:Client-EnsembleBuilder] No runs were available to build an ensemble from\n",
      "[WARNING] [2024-07-03 19:30:54,035:Client-EnsembleBuilder] No runs were available to build an ensemble from\n",
      "[WARNING] [2024-07-03 19:30:54,224:Client-EnsembleBuilder] No runs were available to build an ensemble from\n",
      "[WARNING] [2024-07-03 19:30:54,600:Client-EnsembleBuilder] No runs were available to build an ensemble from\n",
      "[WARNING] [2024-07-03 19:30:54,937:Client-EnsembleBuilder] No runs were available to build an ensemble from\n",
      "[WARNING] [2024-07-03 19:30:55,779:Client-EnsembleBuilder] No runs were available to build an ensemble from\n",
      "[WARNING] [2024-07-03 19:30:56,400:Client-EnsembleBuilder] No runs were available to build an ensemble from\n",
      "[WARNING] [2024-07-03 19:30:57,555:Client-EnsembleBuilder] No runs were available to build an ensemble from\n",
      "[WARNING] [2024-07-03 19:30:58,968:Client-EnsembleBuilder] No runs were available to build an ensemble from\n",
      "[WARNING] [2024-07-03 19:30:59,431:Client-EnsembleBuilder] No runs were available to build an ensemble from\n",
      "[WARNING] [2024-07-03 19:31:00,873:Client-EnsembleBuilder] No runs were available to build an ensemble from\n",
      "[WARNING] [2024-07-03 19:31:01,084:Client-EnsembleBuilder] No runs were available to build an ensemble from\n",
      "[WARNING] [2024-07-03 19:31:01,659:Client-EnsembleBuilder] No runs were available to build an ensemble from\n",
      "[WARNING] [2024-07-03 19:31:03,280:Client-EnsembleBuilder] No runs were available to build an ensemble from\n",
      "[WARNING] [2024-07-03 19:31:03,958:Client-EnsembleBuilder] No runs were available to build an ensemble from\n",
      "[WARNING] [2024-07-03 19:31:10,171:Client-EnsembleBuilder] No runs were available to build an ensemble from\n",
      "[WARNING] [2024-07-03 19:31:10,883:Client-EnsembleBuilder] No runs were available to build an ensemble from\n",
      "[WARNING] [2024-07-03 19:31:12,536:Client-EnsembleBuilder] No runs were available to build an ensemble from\n",
      "Training for output #69\n",
      "[WARNING] [2024-07-03 19:31:47,697:Client-AutoML(1):1f4d0582-3962-11ef-acec-374faab243a8] Capping the per_run_time_limit to 29.0 to have time for a least 2 models in each process.\n"
     ]
    },
    {
     "name": "stderr",
     "output_type": "stream",
     "text": [
      "/home/aless/progetti/ML-techniques-for-State-Estimation/venv/lib/python3.8/site-packages/distributed/node.py:182: UserWarning: Port 8787 is already in use.\n",
      "Perhaps you already have a cluster running?\n",
      "Hosting the HTTP server on port 35965 instead\n",
      "  warnings.warn(\n"
     ]
    },
    {
     "name": "stdout",
     "output_type": "stream",
     "text": [
      "[WARNING] [2024-07-03 19:31:49,469:Client-EnsembleBuilder] No runs were available to build an ensemble from\n",
      "[WARNING] [2024-07-03 19:31:50,558:Client-EnsembleBuilder] No runs were available to build an ensemble from\n",
      "[WARNING] [2024-07-03 19:31:50,824:Client-EnsembleBuilder] No runs were available to build an ensemble from\n",
      "[WARNING] [2024-07-03 19:31:51,062:Client-EnsembleBuilder] No runs were available to build an ensemble from\n",
      "[WARNING] [2024-07-03 19:31:51,441:Client-EnsembleBuilder] No runs were available to build an ensemble from\n",
      "[WARNING] [2024-07-03 19:31:52,076:Client-EnsembleBuilder] No runs were available to build an ensemble from\n",
      "[WARNING] [2024-07-03 19:31:52,377:Client-EnsembleBuilder] No runs were available to build an ensemble from\n",
      "[WARNING] [2024-07-03 19:31:52,956:Client-EnsembleBuilder] No runs were available to build an ensemble from\n",
      "[WARNING] [2024-07-03 19:31:53,840:Client-EnsembleBuilder] No runs were available to build an ensemble from\n",
      "[WARNING] [2024-07-03 19:31:55,496:Client-EnsembleBuilder] No runs were available to build an ensemble from\n",
      "[WARNING] [2024-07-03 19:31:55,796:Client-EnsembleBuilder] No runs were available to build an ensemble from\n",
      "[WARNING] [2024-07-03 19:31:57,051:Client-EnsembleBuilder] No runs were available to build an ensemble from\n",
      "[WARNING] [2024-07-03 19:31:57,402:Client-EnsembleBuilder] No runs were available to build an ensemble from\n",
      "[WARNING] [2024-07-03 19:31:57,859:Client-EnsembleBuilder] No runs were available to build an ensemble from\n",
      "[WARNING] [2024-07-03 19:31:59,390:Client-EnsembleBuilder] No runs were available to build an ensemble from\n",
      "[WARNING] [2024-07-03 19:32:00,099:Client-EnsembleBuilder] No runs were available to build an ensemble from\n",
      "[WARNING] [2024-07-03 19:32:05,161:Client-EnsembleBuilder] No runs were available to build an ensemble from\n",
      "[WARNING] [2024-07-03 19:32:05,734:Client-EnsembleBuilder] No runs were available to build an ensemble from\n",
      "[WARNING] [2024-07-03 19:32:07,390:Client-EnsembleBuilder] No runs were available to build an ensemble from\n",
      "Training for output #70\n",
      "[WARNING] [2024-07-03 19:32:45,161:Client-AutoML(1):41a5e7fb-3962-11ef-acec-374faab243a8] Capping the per_run_time_limit to 29.0 to have time for a least 2 models in each process.\n"
     ]
    },
    {
     "name": "stderr",
     "output_type": "stream",
     "text": [
      "/home/aless/progetti/ML-techniques-for-State-Estimation/venv/lib/python3.8/site-packages/distributed/node.py:182: UserWarning: Port 8787 is already in use.\n",
      "Perhaps you already have a cluster running?\n",
      "Hosting the HTTP server on port 40857 instead\n",
      "  warnings.warn(\n"
     ]
    },
    {
     "name": "stdout",
     "output_type": "stream",
     "text": [
      "[WARNING] [2024-07-03 19:32:46,967:Client-EnsembleBuilder] No runs were available to build an ensemble from\n",
      "[WARNING] [2024-07-03 19:32:48,048:Client-EnsembleBuilder] No runs were available to build an ensemble from\n",
      "[WARNING] [2024-07-03 19:32:48,261:Client-EnsembleBuilder] No runs were available to build an ensemble from\n",
      "[WARNING] [2024-07-03 19:32:48,599:Client-EnsembleBuilder] No runs were available to build an ensemble from\n",
      "[WARNING] [2024-07-03 19:32:48,923:Client-EnsembleBuilder] No runs were available to build an ensemble from\n",
      "[WARNING] [2024-07-03 19:32:49,667:Client-EnsembleBuilder] No runs were available to build an ensemble from\n",
      "[WARNING] [2024-07-03 19:32:49,781:Client-EnsembleBuilder] No runs were available to build an ensemble from\n",
      "[WARNING] [2024-07-03 19:32:50,314:Client-EnsembleBuilder] No runs were available to build an ensemble from\n",
      "[WARNING] [2024-07-03 19:32:51,533:Client-EnsembleBuilder] No runs were available to build an ensemble from\n",
      "[WARNING] [2024-07-03 19:32:52,811:Client-EnsembleBuilder] No runs were available to build an ensemble from\n",
      "[WARNING] [2024-07-03 19:32:53,445:Client-EnsembleBuilder] No runs were available to build an ensemble from\n",
      "[WARNING] [2024-07-03 19:32:54,688:Client-EnsembleBuilder] No runs were available to build an ensemble from\n",
      "[WARNING] [2024-07-03 19:32:55,137:Client-EnsembleBuilder] No runs were available to build an ensemble from\n",
      "[WARNING] [2024-07-03 19:32:55,323:Client-EnsembleBuilder] No runs were available to build an ensemble from\n",
      "[WARNING] [2024-07-03 19:32:56,945:Client-EnsembleBuilder] No runs were available to build an ensemble from\n",
      "[WARNING] [2024-07-03 19:32:58,002:Client-EnsembleBuilder] No runs were available to build an ensemble from\n",
      "[WARNING] [2024-07-03 19:33:02,484:Client-EnsembleBuilder] No runs were available to build an ensemble from\n",
      "[WARNING] [2024-07-03 19:33:03,043:Client-EnsembleBuilder] No runs were available to build an ensemble from\n",
      "[WARNING] [2024-07-03 19:33:04,702:Client-EnsembleBuilder] No runs were available to build an ensemble from\n",
      "Training for output #71\n",
      "[WARNING] [2024-07-03 19:33:42,420:Client-AutoML(1):63d32da4-3962-11ef-acec-374faab243a8] Capping the per_run_time_limit to 29.0 to have time for a least 2 models in each process.\n"
     ]
    },
    {
     "name": "stderr",
     "output_type": "stream",
     "text": [
      "/home/aless/progetti/ML-techniques-for-State-Estimation/venv/lib/python3.8/site-packages/distributed/node.py:182: UserWarning: Port 8787 is already in use.\n",
      "Perhaps you already have a cluster running?\n",
      "Hosting the HTTP server on port 34339 instead\n",
      "  warnings.warn(\n"
     ]
    },
    {
     "name": "stdout",
     "output_type": "stream",
     "text": [
      "[WARNING] [2024-07-03 19:33:44,295:Client-EnsembleBuilder] No runs were available to build an ensemble from\n",
      "[WARNING] [2024-07-03 19:33:45,250:Client-EnsembleBuilder] No runs were available to build an ensemble from\n",
      "[WARNING] [2024-07-03 19:33:45,384:Client-EnsembleBuilder] No runs were available to build an ensemble from\n",
      "[WARNING] [2024-07-03 19:33:45,536:Client-EnsembleBuilder] No runs were available to build an ensemble from\n",
      "[WARNING] [2024-07-03 19:33:45,930:Client-EnsembleBuilder] No runs were available to build an ensemble from\n",
      "[WARNING] [2024-07-03 19:33:46,209:Client-EnsembleBuilder] No runs were available to build an ensemble from\n",
      "[WARNING] [2024-07-03 19:33:46,991:Client-EnsembleBuilder] No runs were available to build an ensemble from\n",
      "[WARNING] [2024-07-03 19:33:47,091:Client-EnsembleBuilder] No runs were available to build an ensemble from\n",
      "[WARNING] [2024-07-03 19:33:47,780:Client-EnsembleBuilder] No runs were available to build an ensemble from\n",
      "[WARNING] [2024-07-03 19:33:48,878:Client-EnsembleBuilder] No runs were available to build an ensemble from\n",
      "[WARNING] [2024-07-03 19:33:50,358:Client-EnsembleBuilder] No runs were available to build an ensemble from\n",
      "[WARNING] [2024-07-03 19:33:50,919:Client-EnsembleBuilder] No runs were available to build an ensemble from\n",
      "[WARNING] [2024-07-03 19:33:51,949:Client-EnsembleBuilder] No runs were available to build an ensemble from\n",
      "[WARNING] [2024-07-03 19:33:52,587:Client-EnsembleBuilder] No runs were available to build an ensemble from\n",
      "[WARNING] [2024-07-03 19:33:54,336:Client-EnsembleBuilder] No runs were available to build an ensemble from\n",
      "[WARNING] [2024-07-03 19:33:55,094:Client-EnsembleBuilder] No runs were available to build an ensemble from\n",
      "[WARNING] [2024-07-03 19:34:01,338:Client-EnsembleBuilder] No runs were available to build an ensemble from\n",
      "[WARNING] [2024-07-03 19:34:01,896:Client-EnsembleBuilder] No runs were available to build an ensemble from\n",
      "[WARNING] [2024-07-03 19:34:03,590:Client-EnsembleBuilder] No runs were available to build an ensemble from\n",
      "Training for output #72\n",
      "[WARNING] [2024-07-03 19:34:42,380:Client-AutoML(1):87b3e654-3962-11ef-acec-374faab243a8] Capping the per_run_time_limit to 29.0 to have time for a least 2 models in each process.\n"
     ]
    },
    {
     "name": "stderr",
     "output_type": "stream",
     "text": [
      "/home/aless/progetti/ML-techniques-for-State-Estimation/venv/lib/python3.8/site-packages/distributed/node.py:182: UserWarning: Port 8787 is already in use.\n",
      "Perhaps you already have a cluster running?\n",
      "Hosting the HTTP server on port 40523 instead\n",
      "  warnings.warn(\n"
     ]
    },
    {
     "name": "stdout",
     "output_type": "stream",
     "text": [
      "[WARNING] [2024-07-03 19:34:44,190:Client-EnsembleBuilder] No runs were available to build an ensemble from\n",
      "[WARNING] [2024-07-03 19:34:45,143:Client-EnsembleBuilder] No runs were available to build an ensemble from\n",
      "[WARNING] [2024-07-03 19:34:45,353:Client-EnsembleBuilder] No runs were available to build an ensemble from\n",
      "[WARNING] [2024-07-03 19:34:45,826:Client-EnsembleBuilder] No runs were available to build an ensemble from\n",
      "[WARNING] [2024-07-03 19:34:46,439:Client-EnsembleBuilder] No runs were available to build an ensemble from\n",
      "[WARNING] [2024-07-03 19:34:46,761:Client-EnsembleBuilder] No runs were available to build an ensemble from\n",
      "[WARNING] [2024-07-03 19:34:47,259:Client-EnsembleBuilder] No runs were available to build an ensemble from\n",
      "[WARNING] [2024-07-03 19:34:47,865:Client-EnsembleBuilder] No runs were available to build an ensemble from\n",
      "[WARNING] [2024-07-03 19:34:48,568:Client-EnsembleBuilder] No runs were available to build an ensemble from\n",
      "[WARNING] [2024-07-03 19:34:50,590:Client-EnsembleBuilder] No runs were available to build an ensemble from\n",
      "[WARNING] [2024-07-03 19:34:50,767:Client-EnsembleBuilder] No runs were available to build an ensemble from\n",
      "[WARNING] [2024-07-03 19:34:51,693:Client-EnsembleBuilder] No runs were available to build an ensemble from\n",
      "[WARNING] [2024-07-03 19:34:52,369:Client-EnsembleBuilder] No runs were available to build an ensemble from\n",
      "[WARNING] [2024-07-03 19:34:54,010:Client-EnsembleBuilder] No runs were available to build an ensemble from\n",
      "[WARNING] [2024-07-03 19:34:54,736:Client-EnsembleBuilder] No runs were available to build an ensemble from\n",
      "[WARNING] [2024-07-03 19:35:00,305:Client-EnsembleBuilder] No runs were available to build an ensemble from\n",
      "[WARNING] [2024-07-03 19:35:00,851:Client-EnsembleBuilder] No runs were available to build an ensemble from\n",
      "[WARNING] [2024-07-03 19:35:02,596:Client-EnsembleBuilder] No runs were available to build an ensemble from\n",
      "Training for output #73\n",
      "[WARNING] [2024-07-03 19:35:39,684:Client-AutoML(1):a8f2f58f-3962-11ef-acec-374faab243a8] Capping the per_run_time_limit to 29.0 to have time for a least 2 models in each process.\n"
     ]
    },
    {
     "name": "stderr",
     "output_type": "stream",
     "text": [
      "/home/aless/progetti/ML-techniques-for-State-Estimation/venv/lib/python3.8/site-packages/distributed/node.py:182: UserWarning: Port 8787 is already in use.\n",
      "Perhaps you already have a cluster running?\n",
      "Hosting the HTTP server on port 36331 instead\n",
      "  warnings.warn(\n"
     ]
    },
    {
     "name": "stdout",
     "output_type": "stream",
     "text": [
      "[WARNING] [2024-07-03 19:35:41,532:Client-EnsembleBuilder] No runs were available to build an ensemble from\n",
      "[WARNING] [2024-07-03 19:35:42,563:Client-EnsembleBuilder] No runs were available to build an ensemble from\n",
      "[WARNING] [2024-07-03 19:35:42,756:Client-EnsembleBuilder] No runs were available to build an ensemble from\n",
      "[WARNING] [2024-07-03 19:35:43,159:Client-EnsembleBuilder] No runs were available to build an ensemble from\n",
      "[WARNING] [2024-07-03 19:35:43,398:Client-EnsembleBuilder] No runs were available to build an ensemble from\n",
      "[WARNING] [2024-07-03 19:35:44,113:Client-EnsembleBuilder] No runs were available to build an ensemble from\n",
      "[WARNING] [2024-07-03 19:35:44,287:Client-EnsembleBuilder] No runs were available to build an ensemble from\n",
      "[WARNING] [2024-07-03 19:35:44,857:Client-EnsembleBuilder] No runs were available to build an ensemble from\n",
      "[WARNING] [2024-07-03 19:35:46,204:Client-EnsembleBuilder] No runs were available to build an ensemble from\n",
      "[WARNING] [2024-07-03 19:35:47,289:Client-EnsembleBuilder] No runs were available to build an ensemble from\n",
      "[WARNING] [2024-07-03 19:35:48,065:Client-EnsembleBuilder] No runs were available to build an ensemble from\n",
      "[WARNING] [2024-07-03 19:35:49,401:Client-EnsembleBuilder] No runs were available to build an ensemble from\n",
      "[WARNING] [2024-07-03 19:35:49,769:Client-EnsembleBuilder] No runs were available to build an ensemble from\n",
      "[WARNING] [2024-07-03 19:35:50,134:Client-EnsembleBuilder] No runs were available to build an ensemble from\n",
      "[WARNING] [2024-07-03 19:35:51,722:Client-EnsembleBuilder] No runs were available to build an ensemble from\n",
      "[WARNING] [2024-07-03 19:35:52,407:Client-EnsembleBuilder] No runs were available to build an ensemble from\n",
      "[WARNING] [2024-07-03 19:35:57,972:Client-EnsembleBuilder] No runs were available to build an ensemble from\n",
      "[WARNING] [2024-07-03 19:35:58,613:Client-EnsembleBuilder] No runs were available to build an ensemble from\n",
      "[WARNING] [2024-07-03 19:36:00,350:Client-EnsembleBuilder] No runs were available to build an ensemble from\n",
      "Training for output #74\n",
      "[WARNING] [2024-07-03 19:36:36,528:Client-AutoML(1):cb84523c-3962-11ef-acec-374faab243a8] Capping the per_run_time_limit to 29.0 to have time for a least 2 models in each process.\n"
     ]
    },
    {
     "name": "stderr",
     "output_type": "stream",
     "text": [
      "/home/aless/progetti/ML-techniques-for-State-Estimation/venv/lib/python3.8/site-packages/distributed/node.py:182: UserWarning: Port 8787 is already in use.\n",
      "Perhaps you already have a cluster running?\n",
      "Hosting the HTTP server on port 43191 instead\n",
      "  warnings.warn(\n"
     ]
    },
    {
     "name": "stdout",
     "output_type": "stream",
     "text": [
      "[WARNING] [2024-07-03 19:36:38,333:Client-EnsembleBuilder] No runs were available to build an ensemble from\n",
      "[WARNING] [2024-07-03 19:36:39,362:Client-EnsembleBuilder] No runs were available to build an ensemble from\n",
      "[WARNING] [2024-07-03 19:36:39,578:Client-EnsembleBuilder] No runs were available to build an ensemble from\n",
      "[WARNING] [2024-07-03 19:36:39,960:Client-EnsembleBuilder] No runs were available to build an ensemble from\n",
      "[WARNING] [2024-07-03 19:36:40,211:Client-EnsembleBuilder] No runs were available to build an ensemble from\n",
      "[WARNING] [2024-07-03 19:36:40,895:Client-EnsembleBuilder] No runs were available to build an ensemble from\n",
      "[WARNING] [2024-07-03 19:36:41,215:Client-EnsembleBuilder] No runs were available to build an ensemble from\n",
      "[WARNING] [2024-07-03 19:36:42,106:Client-EnsembleBuilder] No runs were available to build an ensemble from\n",
      "[WARNING] [2024-07-03 19:36:42,727:Client-EnsembleBuilder] No runs were available to build an ensemble from\n",
      "[WARNING] [2024-07-03 19:36:44,716:Client-EnsembleBuilder] No runs were available to build an ensemble from\n",
      "[WARNING] [2024-07-03 19:36:44,919:Client-EnsembleBuilder] No runs were available to build an ensemble from\n",
      "[WARNING] [2024-07-03 19:36:45,832:Client-EnsembleBuilder] No runs were available to build an ensemble from\n",
      "[WARNING] [2024-07-03 19:36:46,496:Client-EnsembleBuilder] No runs were available to build an ensemble from\n",
      "[WARNING] [2024-07-03 19:36:46,634:Client-EnsembleBuilder] No runs were available to build an ensemble from\n",
      "[WARNING] [2024-07-03 19:36:48,320:Client-EnsembleBuilder] No runs were available to build an ensemble from\n",
      "[WARNING] [2024-07-03 19:36:48,979:Client-EnsembleBuilder] No runs were available to build an ensemble from\n",
      "[WARNING] [2024-07-03 19:36:54,820:Client-EnsembleBuilder] No runs were available to build an ensemble from\n",
      "[WARNING] [2024-07-03 19:36:55,418:Client-EnsembleBuilder] No runs were available to build an ensemble from\n",
      "[WARNING] [2024-07-03 19:36:57,068:Client-EnsembleBuilder] No runs were available to build an ensemble from\n",
      "Training for output #75\n",
      "[WARNING] [2024-07-03 19:37:33,518:Client-AutoML(1):edb69d33-3962-11ef-acec-374faab243a8] Capping the per_run_time_limit to 29.0 to have time for a least 2 models in each process.\n"
     ]
    },
    {
     "name": "stderr",
     "output_type": "stream",
     "text": [
      "/home/aless/progetti/ML-techniques-for-State-Estimation/venv/lib/python3.8/site-packages/distributed/node.py:182: UserWarning: Port 8787 is already in use.\n",
      "Perhaps you already have a cluster running?\n",
      "Hosting the HTTP server on port 43991 instead\n",
      "  warnings.warn(\n"
     ]
    },
    {
     "name": "stdout",
     "output_type": "stream",
     "text": [
      "[WARNING] [2024-07-03 19:37:35,328:Client-EnsembleBuilder] No runs were available to build an ensemble from\n",
      "[WARNING] [2024-07-03 19:37:36,407:Client-EnsembleBuilder] No runs were available to build an ensemble from\n",
      "[WARNING] [2024-07-03 19:37:36,563:Client-EnsembleBuilder] No runs were available to build an ensemble from\n",
      "[WARNING] [2024-07-03 19:37:36,966:Client-EnsembleBuilder] No runs were available to build an ensemble from\n",
      "[WARNING] [2024-07-03 19:37:37,219:Client-EnsembleBuilder] No runs were available to build an ensemble from\n",
      "[WARNING] [2024-07-03 19:37:37,942:Client-EnsembleBuilder] No runs were available to build an ensemble from\n",
      "[WARNING] [2024-07-03 19:37:38,157:Client-EnsembleBuilder] No runs were available to build an ensemble from\n",
      "[WARNING] [2024-07-03 19:37:38,694:Client-EnsembleBuilder] No runs were available to build an ensemble from\n",
      "[WARNING] [2024-07-03 19:37:40,046:Client-EnsembleBuilder] No runs were available to build an ensemble from\n",
      "[WARNING] [2024-07-03 19:37:41,157:Client-EnsembleBuilder] No runs were available to build an ensemble from\n",
      "[WARNING] [2024-07-03 19:37:41,668:Client-EnsembleBuilder] No runs were available to build an ensemble from\n",
      "[WARNING] [2024-07-03 19:37:43,136:Client-EnsembleBuilder] No runs were available to build an ensemble from\n",
      "[WARNING] [2024-07-03 19:37:43,365:Client-EnsembleBuilder] No runs were available to build an ensemble from\n",
      "[WARNING] [2024-07-03 19:37:43,858:Client-EnsembleBuilder] No runs were available to build an ensemble from\n",
      "[WARNING] [2024-07-03 19:37:45,407:Client-EnsembleBuilder] No runs were available to build an ensemble from\n",
      "[WARNING] [2024-07-03 19:37:46,164:Client-EnsembleBuilder] No runs were available to build an ensemble from\n",
      "[WARNING] [2024-07-03 19:37:51,424:Client-EnsembleBuilder] No runs were available to build an ensemble from\n",
      "[WARNING] [2024-07-03 19:37:52,015:Client-EnsembleBuilder] No runs were available to build an ensemble from\n",
      "[WARNING] [2024-07-03 19:37:53,713:Client-EnsembleBuilder] No runs were available to build an ensemble from\n",
      "Training for output #76\n",
      "[WARNING] [2024-07-03 19:38:32,457:Client-AutoML(1):106d5d9d-3963-11ef-acec-374faab243a8] Capping the per_run_time_limit to 29.0 to have time for a least 2 models in each process.\n"
     ]
    },
    {
     "name": "stderr",
     "output_type": "stream",
     "text": [
      "/home/aless/progetti/ML-techniques-for-State-Estimation/venv/lib/python3.8/site-packages/distributed/node.py:182: UserWarning: Port 8787 is already in use.\n",
      "Perhaps you already have a cluster running?\n",
      "Hosting the HTTP server on port 33151 instead\n",
      "  warnings.warn(\n"
     ]
    },
    {
     "name": "stdout",
     "output_type": "stream",
     "text": [
      "[WARNING] [2024-07-03 19:38:34,273:Client-EnsembleBuilder] No runs were available to build an ensemble from\n",
      "[WARNING] [2024-07-03 19:38:35,321:Client-EnsembleBuilder] No runs were available to build an ensemble from\n",
      "[WARNING] [2024-07-03 19:38:35,539:Client-EnsembleBuilder] No runs were available to build an ensemble from\n",
      "[WARNING] [2024-07-03 19:38:35,975:Client-EnsembleBuilder] No runs were available to build an ensemble from\n",
      "[WARNING] [2024-07-03 19:38:36,163:Client-EnsembleBuilder] No runs were available to build an ensemble from\n",
      "[WARNING] [2024-07-03 19:38:36,833:Client-EnsembleBuilder] No runs were available to build an ensemble from\n",
      "[WARNING] [2024-07-03 19:38:37,054:Client-EnsembleBuilder] No runs were available to build an ensemble from\n",
      "[WARNING] [2024-07-03 19:38:37,616:Client-EnsembleBuilder] No runs were available to build an ensemble from\n",
      "[WARNING] [2024-07-03 19:38:38,915:Client-EnsembleBuilder] No runs were available to build an ensemble from\n",
      "[WARNING] [2024-07-03 19:38:40,234:Client-EnsembleBuilder] No runs were available to build an ensemble from\n",
      "[WARNING] [2024-07-03 19:38:41,008:Client-EnsembleBuilder] No runs were available to build an ensemble from\n",
      "[WARNING] [2024-07-03 19:38:41,946:Client-EnsembleBuilder] No runs were available to build an ensemble from\n",
      "[WARNING] [2024-07-03 19:38:42,635:Client-EnsembleBuilder] No runs were available to build an ensemble from\n",
      "[WARNING] [2024-07-03 19:38:44,253:Client-EnsembleBuilder] No runs were available to build an ensemble from\n",
      "[WARNING] [2024-07-03 19:38:44,943:Client-EnsembleBuilder] No runs were available to build an ensemble from\n",
      "[WARNING] [2024-07-03 19:38:49,782:Client-EnsembleBuilder] No runs were available to build an ensemble from\n",
      "[WARNING] [2024-07-03 19:38:50,435:Client-EnsembleBuilder] No runs were available to build an ensemble from\n",
      "[WARNING] [2024-07-03 19:38:52,128:Client-EnsembleBuilder] No runs were available to build an ensemble from\n",
      "Training for output #77\n",
      "[WARNING] [2024-07-03 19:39:33,375:Client-AutoML(1):346413dd-3963-11ef-acec-374faab243a8] Capping the per_run_time_limit to 29.0 to have time for a least 2 models in each process.\n"
     ]
    },
    {
     "name": "stderr",
     "output_type": "stream",
     "text": [
      "/home/aless/progetti/ML-techniques-for-State-Estimation/venv/lib/python3.8/site-packages/distributed/node.py:182: UserWarning: Port 8787 is already in use.\n",
      "Perhaps you already have a cluster running?\n",
      "Hosting the HTTP server on port 38645 instead\n",
      "  warnings.warn(\n"
     ]
    },
    {
     "name": "stdout",
     "output_type": "stream",
     "text": [
      "[WARNING] [2024-07-03 19:39:35,178:Client-EnsembleBuilder] No runs were available to build an ensemble from\n",
      "[WARNING] [2024-07-03 19:39:36,147:Client-EnsembleBuilder] No runs were available to build an ensemble from\n",
      "[WARNING] [2024-07-03 19:39:36,354:Client-EnsembleBuilder] No runs were available to build an ensemble from\n",
      "[WARNING] [2024-07-03 19:39:36,854:Client-EnsembleBuilder] No runs were available to build an ensemble from\n",
      "[WARNING] [2024-07-03 19:39:37,451:Client-EnsembleBuilder] No runs were available to build an ensemble from\n",
      "[WARNING] [2024-07-03 19:39:37,856:Client-EnsembleBuilder] No runs were available to build an ensemble from\n",
      "[WARNING] [2024-07-03 19:39:38,200:Client-EnsembleBuilder] No runs were available to build an ensemble from\n",
      "[WARNING] [2024-07-03 19:39:38,755:Client-EnsembleBuilder] No runs were available to build an ensemble from\n",
      "[WARNING] [2024-07-03 19:39:39,595:Client-EnsembleBuilder] No runs were available to build an ensemble from\n",
      "[WARNING] [2024-07-03 19:39:41,306:Client-EnsembleBuilder] No runs were available to build an ensemble from\n",
      "[WARNING] [2024-07-03 19:39:41,518:Client-EnsembleBuilder] No runs were available to build an ensemble from\n",
      "[WARNING] [2024-07-03 19:39:42,668:Client-EnsembleBuilder] No runs were available to build an ensemble from\n",
      "[WARNING] [2024-07-03 19:39:43,182:Client-EnsembleBuilder] No runs were available to build an ensemble from\n",
      "[WARNING] [2024-07-03 19:39:43,485:Client-EnsembleBuilder] No runs were available to build an ensemble from\n",
      "[WARNING] [2024-07-03 19:39:45,055:Client-EnsembleBuilder] No runs were available to build an ensemble from\n",
      "[WARNING] [2024-07-03 19:39:45,784:Client-EnsembleBuilder] No runs were available to build an ensemble from\n",
      "[WARNING] [2024-07-03 19:39:50,907:Client-EnsembleBuilder] No runs were available to build an ensemble from\n",
      "[WARNING] [2024-07-03 19:39:51,455:Client-EnsembleBuilder] No runs were available to build an ensemble from\n",
      "[WARNING] [2024-07-03 19:39:53,097:Client-EnsembleBuilder] No runs were available to build an ensemble from\n",
      "Training for output #78\n",
      "[WARNING] [2024-07-03 19:40:31,751:Client-AutoML(1):571b6e6e-3963-11ef-acec-374faab243a8] Capping the per_run_time_limit to 29.0 to have time for a least 2 models in each process.\n"
     ]
    },
    {
     "name": "stderr",
     "output_type": "stream",
     "text": [
      "/home/aless/progetti/ML-techniques-for-State-Estimation/venv/lib/python3.8/site-packages/distributed/node.py:182: UserWarning: Port 8787 is already in use.\n",
      "Perhaps you already have a cluster running?\n",
      "Hosting the HTTP server on port 42919 instead\n",
      "  warnings.warn(\n"
     ]
    },
    {
     "name": "stdout",
     "output_type": "stream",
     "text": [
      "[WARNING] [2024-07-03 19:40:33,662:Client-EnsembleBuilder] No runs were available to build an ensemble from\n",
      "[WARNING] [2024-07-03 19:40:34,644:Client-EnsembleBuilder] No runs were available to build an ensemble from\n",
      "[WARNING] [2024-07-03 19:40:35,052:Client-EnsembleBuilder] No runs were available to build an ensemble from\n",
      "[WARNING] [2024-07-03 19:40:35,432:Client-EnsembleBuilder] No runs were available to build an ensemble from\n",
      "[WARNING] [2024-07-03 19:40:35,609:Client-EnsembleBuilder] No runs were available to build an ensemble from\n",
      "[WARNING] [2024-07-03 19:40:36,239:Client-EnsembleBuilder] No runs were available to build an ensemble from\n",
      "[WARNING] [2024-07-03 19:40:36,402:Client-EnsembleBuilder] No runs were available to build an ensemble from\n",
      "[WARNING] [2024-07-03 19:40:37,121:Client-EnsembleBuilder] No runs were available to build an ensemble from\n",
      "[WARNING] [2024-07-03 19:40:38,088:Client-EnsembleBuilder] No runs were available to build an ensemble from\n",
      "[WARNING] [2024-07-03 19:40:39,696:Client-EnsembleBuilder] No runs were available to build an ensemble from\n",
      "[WARNING] [2024-07-03 19:40:40,464:Client-EnsembleBuilder] No runs were available to build an ensemble from\n",
      "[WARNING] [2024-07-03 19:40:41,217:Client-EnsembleBuilder] No runs were available to build an ensemble from\n",
      "[WARNING] [2024-07-03 19:40:41,956:Client-EnsembleBuilder] No runs were available to build an ensemble from\n",
      "[WARNING] [2024-07-03 19:40:42,153:Client-EnsembleBuilder] No runs were available to build an ensemble from\n",
      "[WARNING] [2024-07-03 19:40:43,727:Client-EnsembleBuilder] No runs were available to build an ensemble from\n",
      "[WARNING] [2024-07-03 19:40:44,446:Client-EnsembleBuilder] No runs were available to build an ensemble from\n",
      "[WARNING] [2024-07-03 19:40:49,461:Client-EnsembleBuilder] No runs were available to build an ensemble from\n",
      "[WARNING] [2024-07-03 19:40:50,014:Client-EnsembleBuilder] No runs were available to build an ensemble from\n",
      "[WARNING] [2024-07-03 19:40:51,740:Client-EnsembleBuilder] No runs were available to build an ensemble from\n",
      "Training for output #79\n",
      "[WARNING] [2024-07-03 19:41:28,471:Client-AutoML(1):79d64853-3963-11ef-acec-374faab243a8] Capping the per_run_time_limit to 29.0 to have time for a least 2 models in each process.\n"
     ]
    },
    {
     "name": "stderr",
     "output_type": "stream",
     "text": [
      "/home/aless/progetti/ML-techniques-for-State-Estimation/venv/lib/python3.8/site-packages/distributed/node.py:182: UserWarning: Port 8787 is already in use.\n",
      "Perhaps you already have a cluster running?\n",
      "Hosting the HTTP server on port 32811 instead\n",
      "  warnings.warn(\n"
     ]
    },
    {
     "name": "stdout",
     "output_type": "stream",
     "text": [
      "[WARNING] [2024-07-03 19:41:30,275:Client-EnsembleBuilder] No runs were available to build an ensemble from\n",
      "[WARNING] [2024-07-03 19:41:31,325:Client-EnsembleBuilder] No runs were available to build an ensemble from\n",
      "[WARNING] [2024-07-03 19:41:31,490:Client-EnsembleBuilder] No runs were available to build an ensemble from\n",
      "[WARNING] [2024-07-03 19:41:31,961:Client-EnsembleBuilder] No runs were available to build an ensemble from\n",
      "[WARNING] [2024-07-03 19:41:32,193:Client-EnsembleBuilder] No runs were available to build an ensemble from\n",
      "[WARNING] [2024-07-03 19:41:33,024:Client-EnsembleBuilder] No runs were available to build an ensemble from\n",
      "[WARNING] [2024-07-03 19:41:33,635:Client-EnsembleBuilder] No runs were available to build an ensemble from\n",
      "[WARNING] [2024-07-03 19:41:34,717:Client-EnsembleBuilder] No runs were available to build an ensemble from\n",
      "[WARNING] [2024-07-03 19:41:36,172:Client-EnsembleBuilder] No runs were available to build an ensemble from\n",
      "[WARNING] [2024-07-03 19:41:36,687:Client-EnsembleBuilder] No runs were available to build an ensemble from\n",
      "[WARNING] [2024-07-03 19:41:37,784:Client-EnsembleBuilder] No runs were available to build an ensemble from\n",
      "[WARNING] [2024-07-03 19:41:38,312:Client-EnsembleBuilder] No runs were available to build an ensemble from\n",
      "[WARNING] [2024-07-03 19:41:38,595:Client-EnsembleBuilder] No runs were available to build an ensemble from\n",
      "[WARNING] [2024-07-03 19:41:40,144:Client-EnsembleBuilder] No runs were available to build an ensemble from\n",
      "[WARNING] [2024-07-03 19:41:40,857:Client-EnsembleBuilder] No runs were available to build an ensemble from\n",
      "[WARNING] [2024-07-03 19:41:45,844:Client-EnsembleBuilder] No runs were available to build an ensemble from\n",
      "[WARNING] [2024-07-03 19:41:46,415:Client-EnsembleBuilder] No runs were available to build an ensemble from\n",
      "[WARNING] [2024-07-03 19:41:48,093:Client-EnsembleBuilder] No runs were available to build an ensemble from\n",
      "Training for output #80\n",
      "[WARNING] [2024-07-03 19:42:26,677:Client-AutoML(1):9c87ddfd-3963-11ef-acec-374faab243a8] Capping the per_run_time_limit to 29.0 to have time for a least 2 models in each process.\n"
     ]
    },
    {
     "name": "stderr",
     "output_type": "stream",
     "text": [
      "/home/aless/progetti/ML-techniques-for-State-Estimation/venv/lib/python3.8/site-packages/distributed/node.py:182: UserWarning: Port 8787 is already in use.\n",
      "Perhaps you already have a cluster running?\n",
      "Hosting the HTTP server on port 45173 instead\n",
      "  warnings.warn(\n"
     ]
    },
    {
     "name": "stdout",
     "output_type": "stream",
     "text": [
      "[WARNING] [2024-07-03 19:42:28,434:Client-EnsembleBuilder] No runs were available to build an ensemble from\n",
      "[WARNING] [2024-07-03 19:42:29,762:Client-EnsembleBuilder] No runs were available to build an ensemble from\n",
      "[WARNING] [2024-07-03 19:42:29,870:Client-EnsembleBuilder] No runs were available to build an ensemble from\n",
      "[WARNING] [2024-07-03 19:42:30,091:Client-EnsembleBuilder] No runs were available to build an ensemble from\n",
      "[WARNING] [2024-07-03 19:42:30,666:Client-EnsembleBuilder] No runs were available to build an ensemble from\n",
      "[WARNING] [2024-07-03 19:42:31,322:Client-EnsembleBuilder] No runs were available to build an ensemble from\n",
      "[WARNING] [2024-07-03 19:42:31,540:Client-EnsembleBuilder] No runs were available to build an ensemble from\n",
      "[WARNING] [2024-07-03 19:42:32,132:Client-EnsembleBuilder] No runs were available to build an ensemble from\n",
      "[WARNING] [2024-07-03 19:42:33,025:Client-EnsembleBuilder] No runs were available to build an ensemble from\n",
      "[WARNING] [2024-07-03 19:42:34,768:Client-EnsembleBuilder] No runs were available to build an ensemble from\n",
      "[WARNING] [2024-07-03 19:42:34,902:Client-EnsembleBuilder] No runs were available to build an ensemble from\n",
      "[WARNING] [2024-07-03 19:42:36,277:Client-EnsembleBuilder] No runs were available to build an ensemble from\n",
      "[WARNING] [2024-07-03 19:42:36,582:Client-EnsembleBuilder] No runs were available to build an ensemble from\n",
      "[WARNING] [2024-07-03 19:42:37,002:Client-EnsembleBuilder] No runs were available to build an ensemble from\n",
      "[WARNING] [2024-07-03 19:42:38,550:Client-EnsembleBuilder] No runs were available to build an ensemble from\n",
      "[WARNING] [2024-07-03 19:42:39,198:Client-EnsembleBuilder] No runs were available to build an ensemble from\n",
      "[WARNING] [2024-07-03 19:42:45,033:Client-EnsembleBuilder] No runs were available to build an ensemble from\n",
      "[WARNING] [2024-07-03 19:42:45,658:Client-EnsembleBuilder] No runs were available to build an ensemble from\n",
      "[WARNING] [2024-07-03 19:42:47,366:Client-EnsembleBuilder] No runs were available to build an ensemble from\n",
      "Training for output #81\n",
      "[WARNING] [2024-07-03 19:43:27,095:Client-AutoML(1):c042e94f-3963-11ef-acec-374faab243a8] Capping the per_run_time_limit to 29.0 to have time for a least 2 models in each process.\n"
     ]
    },
    {
     "name": "stderr",
     "output_type": "stream",
     "text": [
      "/home/aless/progetti/ML-techniques-for-State-Estimation/venv/lib/python3.8/site-packages/distributed/node.py:182: UserWarning: Port 8787 is already in use.\n",
      "Perhaps you already have a cluster running?\n",
      "Hosting the HTTP server on port 32943 instead\n",
      "  warnings.warn(\n"
     ]
    },
    {
     "name": "stdout",
     "output_type": "stream",
     "text": [
      "[WARNING] [2024-07-03 19:43:28,973:Client-EnsembleBuilder] No runs were available to build an ensemble from\n",
      "[WARNING] [2024-07-03 19:43:29,914:Client-EnsembleBuilder] No runs were available to build an ensemble from\n",
      "[WARNING] [2024-07-03 19:43:30,334:Client-EnsembleBuilder] No runs were available to build an ensemble from\n",
      "[WARNING] [2024-07-03 19:43:30,535:Client-EnsembleBuilder] No runs were available to build an ensemble from\n",
      "[WARNING] [2024-07-03 19:43:30,678:Client-EnsembleBuilder] No runs were available to build an ensemble from\n",
      "[WARNING] [2024-07-03 19:43:31,190:Client-EnsembleBuilder] No runs were available to build an ensemble from\n",
      "[WARNING] [2024-07-03 19:43:31,622:Client-EnsembleBuilder] No runs were available to build an ensemble from\n",
      "[WARNING] [2024-07-03 19:43:31,914:Client-EnsembleBuilder] No runs were available to build an ensemble from\n",
      "[WARNING] [2024-07-03 19:43:32,425:Client-EnsembleBuilder] No runs were available to build an ensemble from\n",
      "[WARNING] [2024-07-03 19:43:33,354:Client-EnsembleBuilder] No runs were available to build an ensemble from\n",
      "[WARNING] [2024-07-03 19:43:34,983:Client-EnsembleBuilder] No runs were available to build an ensemble from\n",
      "[WARNING] [2024-07-03 19:43:35,570:Client-EnsembleBuilder] No runs were available to build an ensemble from\n",
      "[WARNING] [2024-07-03 19:43:36,572:Client-EnsembleBuilder] No runs were available to build an ensemble from\n",
      "[WARNING] [2024-07-03 19:43:37,269:Client-EnsembleBuilder] No runs were available to build an ensemble from\n",
      "[WARNING] [2024-07-03 19:43:38,917:Client-EnsembleBuilder] No runs were available to build an ensemble from\n",
      "[WARNING] [2024-07-03 19:43:39,575:Client-EnsembleBuilder] No runs were available to build an ensemble from\n",
      "[WARNING] [2024-07-03 19:43:44,905:Client-EnsembleBuilder] No runs were available to build an ensemble from\n",
      "[WARNING] [2024-07-03 19:43:45,467:Client-EnsembleBuilder] No runs were available to build an ensemble from\n",
      "[WARNING] [2024-07-03 19:43:47,169:Client-EnsembleBuilder] No runs were available to build an ensemble from\n",
      "Training for output #82\n",
      "[WARNING] [2024-07-03 19:44:25,331:Client-AutoML(1):e3444b02-3963-11ef-acec-374faab243a8] Capping the per_run_time_limit to 29.0 to have time for a least 2 models in each process.\n"
     ]
    },
    {
     "name": "stderr",
     "output_type": "stream",
     "text": [
      "/home/aless/progetti/ML-techniques-for-State-Estimation/venv/lib/python3.8/site-packages/distributed/node.py:182: UserWarning: Port 8787 is already in use.\n",
      "Perhaps you already have a cluster running?\n",
      "Hosting the HTTP server on port 45029 instead\n",
      "  warnings.warn(\n"
     ]
    },
    {
     "name": "stdout",
     "output_type": "stream",
     "text": [
      "[WARNING] [2024-07-03 19:44:27,190:Client-EnsembleBuilder] No runs were available to build an ensemble from\n",
      "[WARNING] [2024-07-03 19:44:28,524:Client-EnsembleBuilder] No runs were available to build an ensemble from\n",
      "[WARNING] [2024-07-03 19:44:28,730:Client-EnsembleBuilder] No runs were available to build an ensemble from\n",
      "[WARNING] [2024-07-03 19:44:28,879:Client-EnsembleBuilder] No runs were available to build an ensemble from\n",
      "[WARNING] [2024-07-03 19:44:29,493:Client-EnsembleBuilder] No runs were available to build an ensemble from\n",
      "[WARNING] [2024-07-03 19:44:30,220:Client-EnsembleBuilder] No runs were available to build an ensemble from\n",
      "[WARNING] [2024-07-03 19:44:30,352:Client-EnsembleBuilder] No runs were available to build an ensemble from\n",
      "[WARNING] [2024-07-03 19:44:30,922:Client-EnsembleBuilder] No runs were available to build an ensemble from\n",
      "[WARNING] [2024-07-03 19:44:32,131:Client-EnsembleBuilder] No runs were available to build an ensemble from\n",
      "[WARNING] [2024-07-03 19:44:33,453:Client-EnsembleBuilder] No runs were available to build an ensemble from\n",
      "[WARNING] [2024-07-03 19:44:33,686:Client-EnsembleBuilder] No runs were available to build an ensemble from\n",
      "[WARNING] [2024-07-03 19:44:35,372:Client-EnsembleBuilder] No runs were available to build an ensemble from\n",
      "[WARNING] [2024-07-03 19:44:35,477:Client-EnsembleBuilder] No runs were available to build an ensemble from\n",
      "[WARNING] [2024-07-03 19:44:36,126:Client-EnsembleBuilder] No runs were available to build an ensemble from\n",
      "[WARNING] [2024-07-03 19:44:37,711:Client-EnsembleBuilder] No runs were available to build an ensemble from\n",
      "[WARNING] [2024-07-03 19:44:38,537:Client-EnsembleBuilder] No runs were available to build an ensemble from\n",
      "[WARNING] [2024-07-03 19:44:43,377:Client-EnsembleBuilder] No runs were available to build an ensemble from\n",
      "[WARNING] [2024-07-03 19:44:44,020:Client-EnsembleBuilder] No runs were available to build an ensemble from\n",
      "[WARNING] [2024-07-03 19:44:45,686:Client-EnsembleBuilder] No runs were available to build an ensemble from\n",
      "Training for output #83\n",
      "[WARNING] [2024-07-03 19:45:21,887:Client-AutoML(1):04e3211d-3964-11ef-acec-374faab243a8] Capping the per_run_time_limit to 29.0 to have time for a least 2 models in each process.\n"
     ]
    },
    {
     "name": "stderr",
     "output_type": "stream",
     "text": [
      "/home/aless/progetti/ML-techniques-for-State-Estimation/venv/lib/python3.8/site-packages/distributed/node.py:182: UserWarning: Port 8787 is already in use.\n",
      "Perhaps you already have a cluster running?\n",
      "Hosting the HTTP server on port 44999 instead\n",
      "  warnings.warn(\n"
     ]
    },
    {
     "name": "stdout",
     "output_type": "stream",
     "text": [
      "[WARNING] [2024-07-03 19:45:23,710:Client-EnsembleBuilder] No runs were available to build an ensemble from\n",
      "[WARNING] [2024-07-03 19:45:24,701:Client-EnsembleBuilder] No runs were available to build an ensemble from\n",
      "[WARNING] [2024-07-03 19:45:24,787:Client-EnsembleBuilder] No runs were available to build an ensemble from\n",
      "[WARNING] [2024-07-03 19:45:24,916:Client-EnsembleBuilder] No runs were available to build an ensemble from\n",
      "[WARNING] [2024-07-03 19:45:25,331:Client-EnsembleBuilder] No runs were available to build an ensemble from\n",
      "[WARNING] [2024-07-03 19:45:25,936:Client-EnsembleBuilder] No runs were available to build an ensemble from\n",
      "[WARNING] [2024-07-03 19:45:26,543:Client-EnsembleBuilder] No runs were available to build an ensemble from\n",
      "[WARNING] [2024-07-03 19:45:26,606:Client-EnsembleBuilder] No runs were available to build an ensemble from\n",
      "[WARNING] [2024-07-03 19:45:27,185:Client-EnsembleBuilder] No runs were available to build an ensemble from\n",
      "[WARNING] [2024-07-03 19:45:28,269:Client-EnsembleBuilder] No runs were available to build an ensemble from\n",
      "[WARNING] [2024-07-03 19:45:29,767:Client-EnsembleBuilder] No runs were available to build an ensemble from\n",
      "[WARNING] [2024-07-03 19:45:29,974:Client-EnsembleBuilder] No runs were available to build an ensemble from\n",
      "[WARNING] [2024-07-03 19:45:31,341:Client-EnsembleBuilder] No runs were available to build an ensemble from\n",
      "[WARNING] [2024-07-03 19:45:31,601:Client-EnsembleBuilder] No runs were available to build an ensemble from\n",
      "[WARNING] [2024-07-03 19:45:32,054:Client-EnsembleBuilder] No runs were available to build an ensemble from\n",
      "[WARNING] [2024-07-03 19:45:33,703:Client-EnsembleBuilder] No runs were available to build an ensemble from\n",
      "[WARNING] [2024-07-03 19:45:34,357:Client-EnsembleBuilder] No runs were available to build an ensemble from\n",
      "[WARNING] [2024-07-03 19:45:39,369:Client-EnsembleBuilder] No runs were available to build an ensemble from\n",
      "[WARNING] [2024-07-03 19:45:39,970:Client-EnsembleBuilder] No runs were available to build an ensemble from\n",
      "[WARNING] [2024-07-03 19:45:41,680:Client-EnsembleBuilder] No runs were available to build an ensemble from\n",
      "Training for output #84\n",
      "[WARNING] [2024-07-03 19:46:18,220:Client-AutoML(1):2635e13a-3964-11ef-acec-374faab243a8] Capping the per_run_time_limit to 29.0 to have time for a least 2 models in each process.\n"
     ]
    },
    {
     "name": "stderr",
     "output_type": "stream",
     "text": [
      "/home/aless/progetti/ML-techniques-for-State-Estimation/venv/lib/python3.8/site-packages/distributed/node.py:182: UserWarning: Port 8787 is already in use.\n",
      "Perhaps you already have a cluster running?\n",
      "Hosting the HTTP server on port 41679 instead\n",
      "  warnings.warn(\n"
     ]
    },
    {
     "name": "stdout",
     "output_type": "stream",
     "text": [
      "[WARNING] [2024-07-03 19:46:20,109:Client-EnsembleBuilder] No runs were available to build an ensemble from\n",
      "[WARNING] [2024-07-03 19:46:21,120:Client-EnsembleBuilder] No runs were available to build an ensemble from\n",
      "[WARNING] [2024-07-03 19:46:21,648:Client-EnsembleBuilder] No runs were available to build an ensemble from\n",
      "[WARNING] [2024-07-03 19:46:21,763:Client-EnsembleBuilder] No runs were available to build an ensemble from\n",
      "[WARNING] [2024-07-03 19:46:22,259:Client-EnsembleBuilder] No runs were available to build an ensemble from\n",
      "[WARNING] [2024-07-03 19:46:22,916:Client-EnsembleBuilder] No runs were available to build an ensemble from\n",
      "[WARNING] [2024-07-03 19:46:23,245:Client-EnsembleBuilder] No runs were available to build an ensemble from\n",
      "[WARNING] [2024-07-03 19:46:23,773:Client-EnsembleBuilder] No runs were available to build an ensemble from\n",
      "[WARNING] [2024-07-03 19:46:24,658:Client-EnsembleBuilder] No runs were available to build an ensemble from\n",
      "[WARNING] [2024-07-03 19:46:26,386:Client-EnsembleBuilder] No runs were available to build an ensemble from\n",
      "[WARNING] [2024-07-03 19:46:26,619:Client-EnsembleBuilder] No runs were available to build an ensemble from\n",
      "[WARNING] [2024-07-03 19:46:27,754:Client-EnsembleBuilder] No runs were available to build an ensemble from\n",
      "[WARNING] [2024-07-03 19:46:28,276:Client-EnsembleBuilder] No runs were available to build an ensemble from\n",
      "[WARNING] [2024-07-03 19:46:28,450:Client-EnsembleBuilder] No runs were available to build an ensemble from\n",
      "[WARNING] [2024-07-03 19:46:30,138:Client-EnsembleBuilder] No runs were available to build an ensemble from\n",
      "[WARNING] [2024-07-03 19:46:30,897:Client-EnsembleBuilder] No runs were available to build an ensemble from\n",
      "[WARNING] [2024-07-03 19:46:36,455:Client-EnsembleBuilder] No runs were available to build an ensemble from\n",
      "[WARNING] [2024-07-03 19:46:36,997:Client-EnsembleBuilder] No runs were available to build an ensemble from\n",
      "[WARNING] [2024-07-03 19:46:38,696:Client-EnsembleBuilder] No runs were available to build an ensemble from\n",
      "Training for output #85\n",
      "[WARNING] [2024-07-03 19:47:18,608:Client-AutoML(1):4a2730f4-3964-11ef-acec-374faab243a8] Capping the per_run_time_limit to 29.0 to have time for a least 2 models in each process.\n"
     ]
    },
    {
     "name": "stderr",
     "output_type": "stream",
     "text": [
      "/home/aless/progetti/ML-techniques-for-State-Estimation/venv/lib/python3.8/site-packages/distributed/node.py:182: UserWarning: Port 8787 is already in use.\n",
      "Perhaps you already have a cluster running?\n",
      "Hosting the HTTP server on port 34771 instead\n",
      "  warnings.warn(\n"
     ]
    },
    {
     "name": "stdout",
     "output_type": "stream",
     "text": [
      "[WARNING] [2024-07-03 19:47:20,488:Client-EnsembleBuilder] No runs were available to build an ensemble from\n",
      "[WARNING] [2024-07-03 19:47:21,262:Client-EnsembleBuilder] No runs were available to build an ensemble from\n",
      "[WARNING] [2024-07-03 19:47:21,945:Client-EnsembleBuilder] No runs were available to build an ensemble from\n",
      "[WARNING] [2024-07-03 19:47:22,055:Client-EnsembleBuilder] No runs were available to build an ensemble from\n",
      "[WARNING] [2024-07-03 19:47:22,795:Client-EnsembleBuilder] No runs were available to build an ensemble from\n",
      "[WARNING] [2024-07-03 19:47:22,954:Client-EnsembleBuilder] No runs were available to build an ensemble from\n",
      "[WARNING] [2024-07-03 19:47:23,632:Client-EnsembleBuilder] No runs were available to build an ensemble from\n",
      "[WARNING] [2024-07-03 19:47:24,511:Client-EnsembleBuilder] No runs were available to build an ensemble from\n",
      "[WARNING] [2024-07-03 19:47:26,429:Client-EnsembleBuilder] No runs were available to build an ensemble from\n",
      "[WARNING] [2024-07-03 19:47:26,871:Client-EnsembleBuilder] No runs were available to build an ensemble from\n",
      "[WARNING] [2024-07-03 19:47:27,478:Client-EnsembleBuilder] No runs were available to build an ensemble from\n",
      "[WARNING] [2024-07-03 19:47:28,114:Client-EnsembleBuilder] No runs were available to build an ensemble from\n",
      "[WARNING] [2024-07-03 19:47:28,664:Client-EnsembleBuilder] No runs were available to build an ensemble from\n",
      "[WARNING] [2024-07-03 19:47:30,315:Client-EnsembleBuilder] No runs were available to build an ensemble from\n",
      "[WARNING] [2024-07-03 19:47:31,014:Client-EnsembleBuilder] No runs were available to build an ensemble from\n",
      "[WARNING] [2024-07-03 19:47:36,258:Client-EnsembleBuilder] No runs were available to build an ensemble from\n",
      "[WARNING] [2024-07-03 19:47:36,817:Client-EnsembleBuilder] No runs were available to build an ensemble from\n",
      "[WARNING] [2024-07-03 19:47:38,465:Client-EnsembleBuilder] No runs were available to build an ensemble from\n",
      "Training for output #86\n",
      "[WARNING] [2024-07-03 19:48:17,580:Client-AutoML(1):6cbe9edd-3964-11ef-acec-374faab243a8] Capping the per_run_time_limit to 29.0 to have time for a least 2 models in each process.\n"
     ]
    },
    {
     "name": "stderr",
     "output_type": "stream",
     "text": [
      "/home/aless/progetti/ML-techniques-for-State-Estimation/venv/lib/python3.8/site-packages/distributed/node.py:182: UserWarning: Port 8787 is already in use.\n",
      "Perhaps you already have a cluster running?\n",
      "Hosting the HTTP server on port 36693 instead\n",
      "  warnings.warn(\n"
     ]
    },
    {
     "name": "stdout",
     "output_type": "stream",
     "text": [
      "[WARNING] [2024-07-03 19:48:19,413:Client-EnsembleBuilder] No runs were available to build an ensemble from\n",
      "[WARNING] [2024-07-03 19:48:20,469:Client-EnsembleBuilder] No runs were available to build an ensemble from\n",
      "[WARNING] [2024-07-03 19:48:20,687:Client-EnsembleBuilder] No runs were available to build an ensemble from\n",
      "[WARNING] [2024-07-03 19:48:21,045:Client-EnsembleBuilder] No runs were available to build an ensemble from\n",
      "[WARNING] [2024-07-03 19:48:21,388:Client-EnsembleBuilder] No runs were available to build an ensemble from\n",
      "[WARNING] [2024-07-03 19:48:22,075:Client-EnsembleBuilder] No runs were available to build an ensemble from\n",
      "[WARNING] [2024-07-03 19:48:22,334:Client-EnsembleBuilder] No runs were available to build an ensemble from\n",
      "[WARNING] [2024-07-03 19:48:22,907:Client-EnsembleBuilder] No runs were available to build an ensemble from\n",
      "[WARNING] [2024-07-03 19:48:23,976:Client-EnsembleBuilder] No runs were available to build an ensemble from\n",
      "[WARNING] [2024-07-03 19:48:25,436:Client-EnsembleBuilder] No runs were available to build an ensemble from\n",
      "[WARNING] [2024-07-03 19:48:25,856:Client-EnsembleBuilder] No runs were available to build an ensemble from\n",
      "[WARNING] [2024-07-03 19:48:27,322:Client-EnsembleBuilder] No runs were available to build an ensemble from\n",
      "[WARNING] [2024-07-03 19:48:27,530:Client-EnsembleBuilder] No runs were available to build an ensemble from\n",
      "[WARNING] [2024-07-03 19:48:28,112:Client-EnsembleBuilder] No runs were available to build an ensemble from\n",
      "[WARNING] [2024-07-03 19:48:29,689:Client-EnsembleBuilder] No runs were available to build an ensemble from\n",
      "[WARNING] [2024-07-03 19:48:30,379:Client-EnsembleBuilder] No runs were available to build an ensemble from\n",
      "[WARNING] [2024-07-03 19:48:34,938:Client-EnsembleBuilder] No runs were available to build an ensemble from\n",
      "[WARNING] [2024-07-03 19:48:35,530:Client-EnsembleBuilder] No runs were available to build an ensemble from\n",
      "[WARNING] [2024-07-03 19:48:37,174:Client-EnsembleBuilder] No runs were available to build an ensemble from\n",
      "Training for output #87\n",
      "[WARNING] [2024-07-03 19:49:13,402:Client-AutoML(1):8ef87b65-3964-11ef-acec-374faab243a8] Capping the per_run_time_limit to 29.0 to have time for a least 2 models in each process.\n"
     ]
    },
    {
     "name": "stderr",
     "output_type": "stream",
     "text": [
      "/home/aless/progetti/ML-techniques-for-State-Estimation/venv/lib/python3.8/site-packages/distributed/node.py:182: UserWarning: Port 8787 is already in use.\n",
      "Perhaps you already have a cluster running?\n",
      "Hosting the HTTP server on port 42877 instead\n",
      "  warnings.warn(\n"
     ]
    },
    {
     "name": "stdout",
     "output_type": "stream",
     "text": [
      "[WARNING] [2024-07-03 19:49:15,254:Client-EnsembleBuilder] No runs were available to build an ensemble from\n",
      "[WARNING] [2024-07-03 19:49:16,318:Client-EnsembleBuilder] No runs were available to build an ensemble from\n",
      "[WARNING] [2024-07-03 19:49:16,552:Client-EnsembleBuilder] No runs were available to build an ensemble from\n",
      "[WARNING] [2024-07-03 19:49:16,922:Client-EnsembleBuilder] No runs were available to build an ensemble from\n",
      "[WARNING] [2024-07-03 19:49:17,255:Client-EnsembleBuilder] No runs were available to build an ensemble from\n",
      "[WARNING] [2024-07-03 19:49:17,932:Client-EnsembleBuilder] No runs were available to build an ensemble from\n",
      "[WARNING] [2024-07-03 19:49:18,179:Client-EnsembleBuilder] No runs were available to build an ensemble from\n",
      "[WARNING] [2024-07-03 19:49:18,765:Client-EnsembleBuilder] No runs were available to build an ensemble from\n",
      "[WARNING] [2024-07-03 19:49:19,782:Client-EnsembleBuilder] No runs were available to build an ensemble from\n",
      "[WARNING] [2024-07-03 19:49:21,370:Client-EnsembleBuilder] No runs were available to build an ensemble from\n",
      "[WARNING] [2024-07-03 19:49:21,964:Client-EnsembleBuilder] No runs were available to build an ensemble from\n",
      "[WARNING] [2024-07-03 19:49:22,916:Client-EnsembleBuilder] No runs were available to build an ensemble from\n",
      "[WARNING] [2024-07-03 19:49:23,601:Client-EnsembleBuilder] No runs were available to build an ensemble from\n",
      "[WARNING] [2024-07-03 19:49:23,753:Client-EnsembleBuilder] No runs were available to build an ensemble from\n",
      "[WARNING] [2024-07-03 19:49:25,452:Client-EnsembleBuilder] No runs were available to build an ensemble from\n",
      "[WARNING] [2024-07-03 19:49:26,273:Client-EnsembleBuilder] No runs were available to build an ensemble from\n",
      "[WARNING] [2024-07-03 19:49:32,013:Client-EnsembleBuilder] No runs were available to build an ensemble from\n",
      "[WARNING] [2024-07-03 19:49:32,605:Client-EnsembleBuilder] No runs were available to build an ensemble from\n",
      "[WARNING] [2024-07-03 19:49:34,295:Client-EnsembleBuilder] No runs were available to build an ensemble from\n",
      "Training for output #88\n",
      "[WARNING] [2024-07-03 19:50:09,985:Client-AutoML(1):b071e3e4-3964-11ef-acec-374faab243a8] Capping the per_run_time_limit to 29.0 to have time for a least 2 models in each process.\n"
     ]
    },
    {
     "name": "stderr",
     "output_type": "stream",
     "text": [
      "/home/aless/progetti/ML-techniques-for-State-Estimation/venv/lib/python3.8/site-packages/distributed/node.py:182: UserWarning: Port 8787 is already in use.\n",
      "Perhaps you already have a cluster running?\n",
      "Hosting the HTTP server on port 41331 instead\n",
      "  warnings.warn(\n"
     ]
    },
    {
     "name": "stdout",
     "output_type": "stream",
     "text": [
      "[WARNING] [2024-07-03 19:50:11,806:Client-EnsembleBuilder] No runs were available to build an ensemble from\n",
      "[WARNING] [2024-07-03 19:50:12,872:Client-EnsembleBuilder] No runs were available to build an ensemble from\n",
      "[WARNING] [2024-07-03 19:50:13,087:Client-EnsembleBuilder] No runs were available to build an ensemble from\n",
      "[WARNING] [2024-07-03 19:50:13,444:Client-EnsembleBuilder] No runs were available to build an ensemble from\n",
      "[WARNING] [2024-07-03 19:50:13,807:Client-EnsembleBuilder] No runs were available to build an ensemble from\n",
      "[WARNING] [2024-07-03 19:50:14,570:Client-EnsembleBuilder] No runs were available to build an ensemble from\n",
      "[WARNING] [2024-07-03 19:50:14,753:Client-EnsembleBuilder] No runs were available to build an ensemble from\n",
      "[WARNING] [2024-07-03 19:50:15,332:Client-EnsembleBuilder] No runs were available to build an ensemble from\n",
      "[WARNING] [2024-07-03 19:50:16,385:Client-EnsembleBuilder] No runs were available to build an ensemble from\n",
      "[WARNING] [2024-07-03 19:50:17,886:Client-EnsembleBuilder] No runs were available to build an ensemble from\n",
      "[WARNING] [2024-07-03 19:50:18,209:Client-EnsembleBuilder] No runs were available to build an ensemble from\n",
      "[WARNING] [2024-07-03 19:50:19,613:Client-EnsembleBuilder] No runs were available to build an ensemble from\n",
      "[WARNING] [2024-07-03 19:50:20,124:Client-EnsembleBuilder] No runs were available to build an ensemble from\n",
      "[WARNING] [2024-07-03 19:50:20,782:Client-EnsembleBuilder] No runs were available to build an ensemble from\n",
      "[WARNING] [2024-07-03 19:50:22,346:Client-EnsembleBuilder] No runs were available to build an ensemble from\n",
      "[WARNING] [2024-07-03 19:50:23,084:Client-EnsembleBuilder] No runs were available to build an ensemble from\n",
      "[WARNING] [2024-07-03 19:50:27,349:Client-EnsembleBuilder] No runs were available to build an ensemble from\n",
      "[WARNING] [2024-07-03 19:50:27,890:Client-EnsembleBuilder] No runs were available to build an ensemble from\n",
      "[WARNING] [2024-07-03 19:50:29,605:Client-EnsembleBuilder] No runs were available to build an ensemble from\n",
      "Training for output #89\n",
      "[WARNING] [2024-07-03 19:51:06,193:Client-AutoML(1):d1f94295-3964-11ef-acec-374faab243a8] Capping the per_run_time_limit to 29.0 to have time for a least 2 models in each process.\n"
     ]
    },
    {
     "name": "stderr",
     "output_type": "stream",
     "text": [
      "/home/aless/progetti/ML-techniques-for-State-Estimation/venv/lib/python3.8/site-packages/distributed/node.py:182: UserWarning: Port 8787 is already in use.\n",
      "Perhaps you already have a cluster running?\n",
      "Hosting the HTTP server on port 43809 instead\n",
      "  warnings.warn(\n"
     ]
    },
    {
     "name": "stdout",
     "output_type": "stream",
     "text": [
      "[WARNING] [2024-07-03 19:51:08,052:Client-EnsembleBuilder] No runs were available to build an ensemble from\n",
      "[WARNING] [2024-07-03 19:51:09,115:Client-EnsembleBuilder] No runs were available to build an ensemble from\n",
      "[WARNING] [2024-07-03 19:51:09,345:Client-EnsembleBuilder] No runs were available to build an ensemble from\n",
      "[WARNING] [2024-07-03 19:51:09,694:Client-EnsembleBuilder] No runs were available to build an ensemble from\n",
      "[WARNING] [2024-07-03 19:51:09,977:Client-EnsembleBuilder] No runs were available to build an ensemble from\n",
      "[WARNING] [2024-07-03 19:51:10,600:Client-EnsembleBuilder] No runs were available to build an ensemble from\n",
      "[WARNING] [2024-07-03 19:51:10,910:Client-EnsembleBuilder] No runs were available to build an ensemble from\n",
      "[WARNING] [2024-07-03 19:51:11,464:Client-EnsembleBuilder] No runs were available to build an ensemble from\n",
      "[WARNING] [2024-07-03 19:51:12,295:Client-EnsembleBuilder] No runs were available to build an ensemble from\n",
      "[WARNING] [2024-07-03 19:51:14,054:Client-EnsembleBuilder] No runs were available to build an ensemble from\n",
      "[WARNING] [2024-07-03 19:51:14,400:Client-EnsembleBuilder] No runs were available to build an ensemble from\n",
      "[WARNING] [2024-07-03 19:51:15,382:Client-EnsembleBuilder] No runs were available to build an ensemble from\n",
      "[WARNING] [2024-07-03 19:51:16,065:Client-EnsembleBuilder] No runs were available to build an ensemble from\n",
      "[WARNING] [2024-07-03 19:51:17,741:Client-EnsembleBuilder] No runs were available to build an ensemble from\n",
      "[WARNING] [2024-07-03 19:51:18,507:Client-EnsembleBuilder] No runs were available to build an ensemble from\n",
      "[WARNING] [2024-07-03 19:51:24,214:Client-EnsembleBuilder] No runs were available to build an ensemble from\n",
      "[WARNING] [2024-07-03 19:51:24,826:Client-EnsembleBuilder] No runs were available to build an ensemble from\n",
      "[WARNING] [2024-07-03 19:51:26,496:Client-EnsembleBuilder] No runs were available to build an ensemble from\n",
      "Training for output #90\n",
      "[WARNING] [2024-07-03 19:52:04,100:Client-AutoML(1):f46760e7-3964-11ef-acec-374faab243a8] Capping the per_run_time_limit to 29.0 to have time for a least 2 models in each process.\n"
     ]
    },
    {
     "name": "stderr",
     "output_type": "stream",
     "text": [
      "/home/aless/progetti/ML-techniques-for-State-Estimation/venv/lib/python3.8/site-packages/distributed/node.py:182: UserWarning: Port 8787 is already in use.\n",
      "Perhaps you already have a cluster running?\n",
      "Hosting the HTTP server on port 42011 instead\n",
      "  warnings.warn(\n"
     ]
    },
    {
     "name": "stdout",
     "output_type": "stream",
     "text": [
      "[WARNING] [2024-07-03 19:52:05,970:Client-EnsembleBuilder] No runs were available to build an ensemble from\n",
      "[WARNING] [2024-07-03 19:52:07,038:Client-EnsembleBuilder] No runs were available to build an ensemble from\n",
      "[WARNING] [2024-07-03 19:52:07,225:Client-EnsembleBuilder] No runs were available to build an ensemble from\n",
      "[WARNING] [2024-07-03 19:52:07,608:Client-EnsembleBuilder] No runs were available to build an ensemble from\n",
      "[WARNING] [2024-07-03 19:52:07,908:Client-EnsembleBuilder] No runs were available to build an ensemble from\n",
      "[WARNING] [2024-07-03 19:52:08,542:Client-EnsembleBuilder] No runs were available to build an ensemble from\n",
      "[WARNING] [2024-07-03 19:52:08,826:Client-EnsembleBuilder] No runs were available to build an ensemble from\n",
      "[WARNING] [2024-07-03 19:52:09,373:Client-EnsembleBuilder] No runs were available to build an ensemble from\n",
      "[WARNING] [2024-07-03 19:52:10,272:Client-EnsembleBuilder] No runs were available to build an ensemble from\n",
      "[WARNING] [2024-07-03 19:52:12,055:Client-EnsembleBuilder] No runs were available to build an ensemble from\n",
      "[WARNING] [2024-07-03 19:52:12,433:Client-EnsembleBuilder] No runs were available to build an ensemble from\n",
      "[WARNING] [2024-07-03 19:52:13,351:Client-EnsembleBuilder] No runs were available to build an ensemble from\n",
      "[WARNING] [2024-07-03 19:52:13,977:Client-EnsembleBuilder] No runs were available to build an ensemble from\n",
      "[WARNING] [2024-07-03 19:52:14,073:Client-EnsembleBuilder] No runs were available to build an ensemble from\n",
      "[WARNING] [2024-07-03 19:52:15,814:Client-EnsembleBuilder] No runs were available to build an ensemble from\n",
      "[WARNING] [2024-07-03 19:52:16,481:Client-EnsembleBuilder] No runs were available to build an ensemble from\n",
      "[WARNING] [2024-07-03 19:52:22,030:Client-EnsembleBuilder] No runs were available to build an ensemble from\n",
      "[WARNING] [2024-07-03 19:52:22,614:Client-EnsembleBuilder] No runs were available to build an ensemble from\n",
      "[WARNING] [2024-07-03 19:52:24,346:Client-EnsembleBuilder] No runs were available to build an ensemble from\n",
      "Training for output #91\n",
      "[WARNING] [2024-07-03 19:53:01,471:Client-AutoML(1):167bf84f-3965-11ef-acec-374faab243a8] Capping the per_run_time_limit to 29.0 to have time for a least 2 models in each process.\n"
     ]
    },
    {
     "name": "stderr",
     "output_type": "stream",
     "text": [
      "/home/aless/progetti/ML-techniques-for-State-Estimation/venv/lib/python3.8/site-packages/distributed/node.py:182: UserWarning: Port 8787 is already in use.\n",
      "Perhaps you already have a cluster running?\n",
      "Hosting the HTTP server on port 34425 instead\n",
      "  warnings.warn(\n"
     ]
    },
    {
     "name": "stdout",
     "output_type": "stream",
     "text": [
      "[WARNING] [2024-07-03 19:53:03,419:Client-EnsembleBuilder] No runs were available to build an ensemble from\n",
      "[WARNING] [2024-07-03 19:53:04,421:Client-EnsembleBuilder] No runs were available to build an ensemble from\n",
      "[WARNING] [2024-07-03 19:53:04,655:Client-EnsembleBuilder] No runs were available to build an ensemble from\n",
      "[WARNING] [2024-07-03 19:53:05,030:Client-EnsembleBuilder] No runs were available to build an ensemble from\n",
      "[WARNING] [2024-07-03 19:53:05,321:Client-EnsembleBuilder] No runs were available to build an ensemble from\n",
      "[WARNING] [2024-07-03 19:53:05,961:Client-EnsembleBuilder] No runs were available to build an ensemble from\n",
      "[WARNING] [2024-07-03 19:53:06,202:Client-EnsembleBuilder] No runs were available to build an ensemble from\n",
      "[WARNING] [2024-07-03 19:53:06,808:Client-EnsembleBuilder] No runs were available to build an ensemble from\n",
      "[WARNING] [2024-07-03 19:53:07,885:Client-EnsembleBuilder] No runs were available to build an ensemble from\n",
      "[WARNING] [2024-07-03 19:53:09,244:Client-EnsembleBuilder] No runs were available to build an ensemble from\n",
      "[WARNING] [2024-07-03 19:53:09,911:Client-EnsembleBuilder] No runs were available to build an ensemble from\n",
      "[WARNING] [2024-07-03 19:53:10,903:Client-EnsembleBuilder] No runs were available to build an ensemble from\n",
      "[WARNING] [2024-07-03 19:53:11,534:Client-EnsembleBuilder] No runs were available to build an ensemble from\n",
      "[WARNING] [2024-07-03 19:53:11,710:Client-EnsembleBuilder] No runs were available to build an ensemble from\n",
      "[WARNING] [2024-07-03 19:53:13,267:Client-EnsembleBuilder] No runs were available to build an ensemble from\n",
      "[WARNING] [2024-07-03 19:53:13,915:Client-EnsembleBuilder] No runs were available to build an ensemble from\n",
      "[WARNING] [2024-07-03 19:53:19,319:Client-EnsembleBuilder] No runs were available to build an ensemble from\n",
      "[WARNING] [2024-07-03 19:53:19,946:Client-EnsembleBuilder] No runs were available to build an ensemble from\n",
      "[WARNING] [2024-07-03 19:53:21,701:Client-EnsembleBuilder] No runs were available to build an ensemble from\n",
      "Training for output #92\n",
      "[WARNING] [2024-07-03 19:54:00,047:Client-AutoML(1):39a2dffd-3965-11ef-acec-374faab243a8] Capping the per_run_time_limit to 29.0 to have time for a least 2 models in each process.\n"
     ]
    },
    {
     "name": "stderr",
     "output_type": "stream",
     "text": [
      "/home/aless/progetti/ML-techniques-for-State-Estimation/venv/lib/python3.8/site-packages/distributed/node.py:182: UserWarning: Port 8787 is already in use.\n",
      "Perhaps you already have a cluster running?\n",
      "Hosting the HTTP server on port 33263 instead\n",
      "  warnings.warn(\n"
     ]
    },
    {
     "name": "stdout",
     "output_type": "stream",
     "text": [
      "[WARNING] [2024-07-03 19:54:02,196:Client-EnsembleBuilder] No runs were available to build an ensemble from\n",
      "[WARNING] [2024-07-03 19:54:03,293:Client-EnsembleBuilder] No runs were available to build an ensemble from\n",
      "[WARNING] [2024-07-03 19:54:03,516:Client-EnsembleBuilder] No runs were available to build an ensemble from\n",
      "[WARNING] [2024-07-03 19:54:03,830:Client-EnsembleBuilder] No runs were available to build an ensemble from\n",
      "[WARNING] [2024-07-03 19:54:04,125:Client-EnsembleBuilder] No runs were available to build an ensemble from\n",
      "[WARNING] [2024-07-03 19:54:04,855:Client-EnsembleBuilder] No runs were available to build an ensemble from\n",
      "[WARNING] [2024-07-03 19:54:05,030:Client-EnsembleBuilder] No runs were available to build an ensemble from\n",
      "[WARNING] [2024-07-03 19:54:05,600:Client-EnsembleBuilder] No runs were available to build an ensemble from\n",
      "[WARNING] [2024-07-03 19:54:06,600:Client-EnsembleBuilder] No runs were available to build an ensemble from\n",
      "[WARNING] [2024-07-03 19:54:08,199:Client-EnsembleBuilder] No runs were available to build an ensemble from\n",
      "[WARNING] [2024-07-03 19:54:08,586:Client-EnsembleBuilder] No runs were available to build an ensemble from\n",
      "[WARNING] [2024-07-03 19:54:09,717:Client-EnsembleBuilder] No runs were available to build an ensemble from\n",
      "[WARNING] [2024-07-03 19:54:10,216:Client-EnsembleBuilder] No runs were available to build an ensemble from\n",
      "[WARNING] [2024-07-03 19:54:10,502:Client-EnsembleBuilder] No runs were available to build an ensemble from\n",
      "[WARNING] [2024-07-03 19:54:12,103:Client-EnsembleBuilder] No runs were available to build an ensemble from\n",
      "[WARNING] [2024-07-03 19:54:12,861:Client-EnsembleBuilder] No runs were available to build an ensemble from\n",
      "[WARNING] [2024-07-03 19:54:18,441:Client-EnsembleBuilder] No runs were available to build an ensemble from\n",
      "[WARNING] [2024-07-03 19:54:19,158:Client-EnsembleBuilder] No runs were available to build an ensemble from\n",
      "[WARNING] [2024-07-03 19:54:20,859:Client-EnsembleBuilder] No runs were available to build an ensemble from\n",
      "Training for output #93\n",
      "[WARNING] [2024-07-03 19:55:03,341:Client-AutoML(1):5e7b6528-3965-11ef-acec-374faab243a8] Capping the per_run_time_limit to 29.0 to have time for a least 2 models in each process.\n"
     ]
    },
    {
     "name": "stderr",
     "output_type": "stream",
     "text": [
      "/home/aless/progetti/ML-techniques-for-State-Estimation/venv/lib/python3.8/site-packages/distributed/node.py:182: UserWarning: Port 8787 is already in use.\n",
      "Perhaps you already have a cluster running?\n",
      "Hosting the HTTP server on port 33587 instead\n",
      "  warnings.warn(\n"
     ]
    },
    {
     "name": "stdout",
     "output_type": "stream",
     "text": [
      "[WARNING] [2024-07-03 19:55:05,277:Client-EnsembleBuilder] No runs were available to build an ensemble from\n",
      "[WARNING] [2024-07-03 19:55:06,284:Client-EnsembleBuilder] No runs were available to build an ensemble from\n",
      "[WARNING] [2024-07-03 19:55:06,499:Client-EnsembleBuilder] No runs were available to build an ensemble from\n",
      "[WARNING] [2024-07-03 19:55:06,925:Client-EnsembleBuilder] No runs were available to build an ensemble from\n",
      "[WARNING] [2024-07-03 19:55:07,084:Client-EnsembleBuilder] No runs were available to build an ensemble from\n",
      "[WARNING] [2024-07-03 19:55:07,758:Client-EnsembleBuilder] No runs were available to build an ensemble from\n",
      "[WARNING] [2024-07-03 19:55:08,015:Client-EnsembleBuilder] No runs were available to build an ensemble from\n",
      "[WARNING] [2024-07-03 19:55:08,551:Client-EnsembleBuilder] No runs were available to build an ensemble from\n",
      "[WARNING] [2024-07-03 19:55:09,451:Client-EnsembleBuilder] No runs were available to build an ensemble from\n",
      "[WARNING] [2024-07-03 19:55:11,103:Client-EnsembleBuilder] No runs were available to build an ensemble from\n",
      "[WARNING] [2024-07-03 19:55:11,790:Client-EnsembleBuilder] No runs were available to build an ensemble from\n",
      "[WARNING] [2024-07-03 19:55:12,506:Client-EnsembleBuilder] No runs were available to build an ensemble from\n",
      "[WARNING] [2024-07-03 19:55:13,205:Client-EnsembleBuilder] No runs were available to build an ensemble from\n",
      "[WARNING] [2024-07-03 19:55:13,397:Client-EnsembleBuilder] No runs were available to build an ensemble from\n",
      "[WARNING] [2024-07-03 19:55:15,056:Client-EnsembleBuilder] No runs were available to build an ensemble from\n",
      "[WARNING] [2024-07-03 19:55:15,726:Client-EnsembleBuilder] No runs were available to build an ensemble from\n",
      "[WARNING] [2024-07-03 19:55:20,729:Client-EnsembleBuilder] No runs were available to build an ensemble from\n",
      "[WARNING] [2024-07-03 19:55:21,371:Client-EnsembleBuilder] No runs were available to build an ensemble from\n",
      "[WARNING] [2024-07-03 19:55:23,077:Client-EnsembleBuilder] No runs were available to build an ensemble from\n",
      "Training for output #94\n",
      "[WARNING] [2024-07-03 19:56:00,656:Client-AutoML(1):80c442d5-3965-11ef-acec-374faab243a8] Capping the per_run_time_limit to 29.0 to have time for a least 2 models in each process.\n"
     ]
    },
    {
     "name": "stderr",
     "output_type": "stream",
     "text": [
      "/home/aless/progetti/ML-techniques-for-State-Estimation/venv/lib/python3.8/site-packages/distributed/node.py:182: UserWarning: Port 8787 is already in use.\n",
      "Perhaps you already have a cluster running?\n",
      "Hosting the HTTP server on port 41881 instead\n",
      "  warnings.warn(\n"
     ]
    },
    {
     "name": "stdout",
     "output_type": "stream",
     "text": [
      "[WARNING] [2024-07-03 19:56:02,654:Client-EnsembleBuilder] No runs were available to build an ensemble from\n",
      "[WARNING] [2024-07-03 19:56:03,586:Client-EnsembleBuilder] No runs were available to build an ensemble from\n",
      "[WARNING] [2024-07-03 19:56:04,131:Client-EnsembleBuilder] No runs were available to build an ensemble from\n",
      "[WARNING] [2024-07-03 19:56:04,293:Client-EnsembleBuilder] No runs were available to build an ensemble from\n",
      "[WARNING] [2024-07-03 19:56:04,405:Client-EnsembleBuilder] No runs were available to build an ensemble from\n",
      "[WARNING] [2024-07-03 19:56:05,210:Client-EnsembleBuilder] No runs were available to build an ensemble from\n",
      "[WARNING] [2024-07-03 19:56:05,825:Client-EnsembleBuilder] No runs were available to build an ensemble from\n",
      "[WARNING] [2024-07-03 19:56:06,943:Client-EnsembleBuilder] No runs were available to build an ensemble from\n",
      "[WARNING] [2024-07-03 19:56:08,395:Client-EnsembleBuilder] No runs were available to build an ensemble from\n",
      "[WARNING] [2024-07-03 19:56:09,044:Client-EnsembleBuilder] No runs were available to build an ensemble from\n",
      "[WARNING] [2024-07-03 19:56:10,065:Client-EnsembleBuilder] No runs were available to build an ensemble from\n",
      "[WARNING] [2024-07-03 19:56:10,821:Client-EnsembleBuilder] No runs were available to build an ensemble from\n",
      "[WARNING] [2024-07-03 19:56:12,487:Client-EnsembleBuilder] No runs were available to build an ensemble from\n",
      "[WARNING] [2024-07-03 19:56:13,242:Client-EnsembleBuilder] No runs were available to build an ensemble from\n",
      "[WARNING] [2024-07-03 19:56:18,092:Client-EnsembleBuilder] No runs were available to build an ensemble from\n",
      "[WARNING] [2024-07-03 19:56:18,644:Client-EnsembleBuilder] No runs were available to build an ensemble from\n",
      "[WARNING] [2024-07-03 19:56:20,350:Client-EnsembleBuilder] No runs were available to build an ensemble from\n",
      "CPU times: user 46min 39s, sys: 15min 52s, total: 1h 2min 32s\n",
      "Wall time: 1h 31min 3s\n"
     ]
    }
   ],
   "source": [
    "%%time\n",
    "\n",
    "train_models = True\n",
    "if train_models:\n",
    "    for i in range(num_output):\n",
    "        print(f'Training for output #{i}')\n",
    "        train = np.hstack((train_x, train_y[:, i].reshape(-1, 1)))\n",
    "        columns_names = in_columns + [out_columns[i]]\n",
    "        train = pd.DataFrame(train, columns=columns_names)\n",
    "        \n",
    "        x = in_columns\n",
    "        y = out_columns[i]\n",
    "        label = y\n",
    "        \n",
    "        train_x = train_x\n",
    "        train_yi = train_y[:, i].reshape(-1, 1)\n",
    "        \n",
    "        model_path = f'./autosklearn_models_net95v1_60/model_{i}'\n",
    "        automl = autosklearn.regression.AutoSklearnRegressor(time_left_for_this_task=60,n_jobs=5)\n",
    "        automl.fit(train_x, train_yi)\n",
    "        \n",
    "        with open(f'{model_path}.pkl', 'wb') as f:\n",
    "            pickle.dump(automl, f)"
   ]
  },
  {
   "cell_type": "code",
   "execution_count": null,
   "id": "9685735c5423a2d7",
   "metadata": {
    "ExecuteTime": {
     "end_time": "2024-02-23T16:05:19.379751500Z",
     "start_time": "2024-02-23T16:05:19.343186800Z"
    },
    "collapsed": false,
    "jupyter": {
     "outputs_hidden": false
    }
   },
   "outputs": [
    {
     "name": "stdout",
     "output_type": "stream",
     "text": [
      "Model 0 loaded\n",
      "Model 1 loaded\n",
      "Model 2 loaded\n",
      "Model 3 loaded\n",
      "Model 4 loaded\n",
      "Model 5 loaded\n",
      "Model 6 loaded\n",
      "Model 7 loaded\n",
      "Model 8 loaded\n",
      "Model 9 loaded\n",
      "Model 10 loaded\n",
      "Model 11 loaded\n",
      "Model 12 loaded\n",
      "Model 13 loaded\n",
      "Model 14 loaded\n",
      "Model 15 loaded\n",
      "Model 16 loaded\n",
      "Model 17 loaded\n",
      "Model 18 loaded\n",
      "Model 19 loaded\n",
      "Model 20 loaded\n",
      "Model 21 loaded\n",
      "Model 22 loaded\n",
      "Model 23 loaded\n",
      "Model 24 loaded\n",
      "Model 25 loaded\n",
      "Model 26 loaded\n",
      "Model 27 loaded\n",
      "Model 28 loaded\n",
      "Model 29 loaded\n",
      "Model 30 loaded\n",
      "Model 31 loaded\n",
      "Model 32 loaded\n",
      "Model 33 loaded\n",
      "Model 34 loaded\n",
      "Model 35 loaded\n"
     ]
    }
   ],
   "source": [
    "models = []\n",
    "for i in range(num_output):\n",
    "    model_path = f'./autosklearn_models_net95v1_60/model_{i}'\n",
    "    label = out_columns[i]\n",
    "\n",
    "    with open(f'{model_path}.pkl', 'rb') as f:\n",
    "        automl = pickle.load(f)\n",
    "        \n",
    "    models.append(automl)\n",
    "    print(f'Model {i} loaded')"
   ]
  },
  {
   "cell_type": "code",
   "execution_count": null,
   "id": "c91c44008cd32294",
   "metadata": {
    "ExecuteTime": {
     "end_time": "2024-02-23T16:09:14.938395Z",
     "start_time": "2024-02-23T16:08:39.688458300Z"
    },
    "collapsed": false,
    "jupyter": {
     "outputs_hidden": false
    }
   },
   "outputs": [],
   "source": [
    "from net95.scenarios2 import get_data_by_scenario_and_case\n",
    "\n",
    "std_results = []\n",
    "for scenario in range(1, 6):\n",
    "    for case in range(1, 4):\n",
    "        print(f'SCENARIO {scenario}, CASE {case} VALIDATION')\n",
    "        s1_c1_data = get_data_by_scenario_and_case(scenario, case, net_name='net95v1')\n",
    "        x = s1_c1_data[0]\n",
    "        x_hat = s1_c1_data[1]\n",
    "        y_all = s1_c1_data[2]\n",
    "        y_hat_all = s1_c1_data[3]\n",
    "        \n",
    "        estim = []\n",
    "        for i in range(num_output):\n",
    "            columns_names = in_columns + [\n",
    "                out_columns[i]]\n",
    "            x = in_columns\n",
    "            y = out_columns[i]\n",
    "            \n",
    "            predictor = models[i]\n",
    "            test_x = x_hat\n",
    "            test_y = np.asarray(y_all[0][i]).reshape(-1, 1)\n",
    "            test = pd.DataFrame(np.hstack((test_x, test_y)), columns=columns_names)\n",
    "            \n",
    "            \n",
    "            preds = predictor.predict(test_x)\n",
    "            \n",
    "            estim.append(preds[0])\n",
    "            \n",
    "        pred = np.asarray(estim)\n",
    "        if case == 1:\n",
    "            std_results.append(f'std: {np.sqrt(np.mean(np.square(y_all - pred)))}')\n",
    "print(std_results)\n"
   ]
  },
  {
   "cell_type": "code",
   "execution_count": null,
   "id": "6c332fa7-ccf0-49e3-a7ef-d46acd477495",
   "metadata": {},
   "outputs": [],
   "source": [
    "net_name='net_95_v2'\n",
    "alt_x = np.load(f'./simulations_net95/{net_name}/measured_data_x_alt.npy')\n",
    "alt_y = np.load(f'./simulations_net95/{net_name}/data_y_alt.npy')\n",
    "data_x = alt_x\n",
    "data_y = alt_y\n",
    "\n",
    "split_train = int(0.8 * data_x.shape[0])\n",
    "train_x = data_x[:split_train, :]\n",
    "train_y = data_y[:split_train, :]\n",
    "\n",
    "train_x, val_x, train_y, val_y = train_test_split(train_x, train_y, test_size=0.2, shuffle=True, random_state=42)\n",
    "\n",
    "train_x, test_x, train_y, test_y = train_test_split(train_x, train_y, test_size=0.3, shuffle=True, random_state=42)\n",
    "\n",
    "\n",
    "num_input = 206\n",
    "num_output = 95\n",
    "\n",
    "in_columns = [str(i) for i in range(num_input)]\n",
    "out_columns = [str(i) for i in range(num_input, num_input + num_output)]"
   ]
  },
  {
   "cell_type": "code",
   "execution_count": null,
   "id": "c8d595d8-f86e-4db2-b76f-9f72dbdeb0c5",
   "metadata": {},
   "outputs": [],
   "source": [
    "%%time\n",
    "\n",
    "train_models = True\n",
    "if train_models:\n",
    "    for i in range(num_output):\n",
    "        print(f'Training for output #{i}')\n",
    "        train = np.hstack((train_x, train_y[:, i].reshape(-1, 1)))\n",
    "        columns_names = in_columns + [out_columns[i]]\n",
    "        train = pd.DataFrame(train, columns=columns_names)\n",
    "        \n",
    "        x = in_columns\n",
    "        y = out_columns[i]\n",
    "        label = y\n",
    "        \n",
    "        train_x = train_x\n",
    "        train_yi = train_y[:, i].reshape(-1, 1)\n",
    "        \n",
    "        model_path = f'./autosklearn_models_net95v2_60/model_{i}'\n",
    "        automl = autosklearn.regression.AutoSklearnRegressor(time_left_for_this_task=20,n_jobs=5)\n",
    "        automl.fit(train_x, train_yi)\n",
    "        \n",
    "        with open(f'{model_path}.pkl', 'wb') as f:\n",
    "            pickle.dump(automl, f)"
   ]
  },
  {
   "cell_type": "code",
   "execution_count": null,
   "id": "4a94b508-cf72-4e2b-ab20-95fb6019c185",
   "metadata": {},
   "outputs": [],
   "source": [
    "models = []\n",
    "for i in range(num_output):\n",
    "    model_path = f'./autosklearn_models_net95v2_60/model_{i}'\n",
    "    label = out_columns[i]\n",
    "\n",
    "    with open(f'{model_path}.pkl', 'rb') as f:\n",
    "        automl = pickle.load(f)\n",
    "        \n",
    "    models.append(automl)\n",
    "    print(f'Model {i} loaded')\n",
    "\n",
    "from net95.scenarios2 import get_data_by_scenario_and_case\n",
    "\n",
    "std_results = []\n",
    "for scenario in range(1, 6):\n",
    "    for case in range(1, 4):\n",
    "        print(f'SCENARIO {scenario}, CASE {case} VALIDATION')\n",
    "        s1_c1_data = get_data_by_scenario_and_case(scenario, case, net_name='net95v2')\n",
    "        x = s1_c1_data[0]\n",
    "        x_hat = s1_c1_data[1]\n",
    "        y_all = s1_c1_data[2]\n",
    "        y_hat_all = s1_c1_data[3]\n",
    "        \n",
    "        estim = []\n",
    "        for i in range(num_output):\n",
    "            columns_names = in_columns + [\n",
    "                out_columns[i]]\n",
    "            x = in_columns\n",
    "            y = out_columns[i]\n",
    "            \n",
    "            predictor = models[i]\n",
    "            test_x = x_hat\n",
    "            test_y = np.asarray(y_all[0][i]).reshape(-1, 1)\n",
    "            test = pd.DataFrame(np.hstack((test_x, test_y)), columns=columns_names)\n",
    "            \n",
    "            \n",
    "            preds = predictor.predict(test_x)\n",
    "            \n",
    "            estim.append(preds[0])\n",
    "            \n",
    "        pred = np.asarray(estim)\n",
    "        if case == 1:\n",
    "            std_results.append(f'std: {np.sqrt(np.mean(np.square(y_all - pred)))}')\n",
    "print(std_results)\n"
   ]
  },
  {
   "cell_type": "code",
   "execution_count": null,
   "id": "22f65b01-3499-4475-90a0-baf5fcc1ee0f",
   "metadata": {},
   "outputs": [],
   "source": [
    "net_name='net_95_v3'\n",
    "alt_x = np.load(f'./simulations_net95/{net_name}/measured_data_x_alt.npy')\n",
    "alt_y = np.load(f'./simulations_net95/{net_name}/data_y_alt.npy')\n",
    "data_x = alt_x\n",
    "data_y = alt_y\n",
    "\n",
    "split_train = int(0.8 * data_x.shape[0])\n",
    "train_x = data_x[:split_train, :]\n",
    "train_y = data_y[:split_train, :]\n",
    "\n",
    "train_x, val_x, train_y, val_y = train_test_split(train_x, train_y, test_size=0.2, shuffle=True, random_state=42)\n",
    "\n",
    "train_x, test_x, train_y, test_y = train_test_split(train_x, train_y, test_size=0.3, shuffle=True, random_state=42)\n",
    "\n",
    "\n",
    "num_input = 206\n",
    "num_output = 95\n",
    "\n",
    "in_columns = [str(i) for i in range(num_input)]\n",
    "out_columns = [str(i) for i in range(num_input, num_input + num_output)]"
   ]
  },
  {
   "cell_type": "code",
   "execution_count": null,
   "id": "2d1a14bd-4af2-4946-9082-1dff49d95de9",
   "metadata": {},
   "outputs": [],
   "source": [
    "%%time\n",
    "\n",
    "train_models = True\n",
    "if train_models:\n",
    "    for i in range(num_output):\n",
    "        print(f'Training for output #{i}')\n",
    "        train = np.hstack((train_x, train_y[:, i].reshape(-1, 1)))\n",
    "        columns_names = in_columns + [out_columns[i]]\n",
    "        train = pd.DataFrame(train, columns=columns_names)\n",
    "        \n",
    "        x = in_columns\n",
    "        y = out_columns[i]\n",
    "        label = y\n",
    "        \n",
    "        train_x = train_x\n",
    "        train_yi = train_y[:, i].reshape(-1, 1)\n",
    "        \n",
    "        model_path = f'./autosklearn_models_net95v3_60/model_{i}'\n",
    "        automl = autosklearn.regression.AutoSklearnRegressor(time_left_for_this_task=20,n_jobs=5)\n",
    "        automl.fit(train_x, train_yi)\n",
    "        \n",
    "        with open(f'{model_path}.pkl', 'wb') as f:\n",
    "            pickle.dump(automl, f)"
   ]
  },
  {
   "cell_type": "code",
   "execution_count": null,
   "id": "67f4a505-2fe2-4fee-8a59-0f9c64ddf93c",
   "metadata": {},
   "outputs": [],
   "source": [
    "models = []\n",
    "for i in range(num_output):\n",
    "    model_path = f'./autosklearn_models_net95v3_60/model_{i}'\n",
    "    label = out_columns[i]\n",
    "\n",
    "    with open(f'{model_path}.pkl', 'rb') as f:\n",
    "        automl = pickle.load(f)\n",
    "        \n",
    "    models.append(automl)\n",
    "    print(f'Model {i} loaded')\n",
    "\n",
    "from net95.scenarios2 import get_data_by_scenario_and_case\n",
    "\n",
    "std_results = []\n",
    "for scenario in range(1, 6):\n",
    "    for case in range(1, 4):\n",
    "        print(f'SCENARIO {scenario}, CASE {case} VALIDATION')\n",
    "        s1_c1_data = get_data_by_scenario_and_case(scenario, case, net_name='net95v3')\n",
    "        x = s1_c1_data[0]\n",
    "        x_hat = s1_c1_data[1]\n",
    "        y_all = s1_c1_data[2]\n",
    "        y_hat_all = s1_c1_data[3]\n",
    "        \n",
    "        estim = []\n",
    "        for i in range(num_output):\n",
    "            columns_names = in_columns + [\n",
    "                out_columns[i]]\n",
    "            x = in_columns\n",
    "            y = out_columns[i]\n",
    "            \n",
    "            predictor = models[i]\n",
    "            test_x = x_hat\n",
    "            test_y = np.asarray(y_all[0][i]).reshape(-1, 1)\n",
    "            test = pd.DataFrame(np.hstack((test_x, test_y)), columns=columns_names)\n",
    "            \n",
    "            \n",
    "            preds = predictor.predict(test_x)\n",
    "            \n",
    "            estim.append(preds[0])\n",
    "            \n",
    "        pred = np.asarray(estim)\n",
    "        if case == 1:\n",
    "            std_results.append(f'std: {np.sqrt(np.mean(np.square(y_all - pred)))}')\n",
    "print(std_results)\n"
   ]
  },
  {
   "cell_type": "code",
   "execution_count": null,
   "id": "918030cb-6c5b-4cbe-92d3-0f44fc573145",
   "metadata": {},
   "outputs": [],
   "source": [
    "net_name='net_95_v4'\n",
    "alt_x = np.load(f'./simulations_net95/{net_name}/measured_data_x_alt.npy')\n",
    "alt_y = np.load(f'./simulations_net95/{net_name}/data_y_alt.npy')\n",
    "data_x = alt_x\n",
    "data_y = alt_y\n",
    "\n",
    "split_train = int(0.8 * data_x.shape[0])\n",
    "train_x = data_x[:split_train, :]\n",
    "train_y = data_y[:split_train, :]\n",
    "\n",
    "train_x, val_x, train_y, val_y = train_test_split(train_x, train_y, test_size=0.2, shuffle=True, random_state=42)\n",
    "\n",
    "train_x, test_x, train_y, test_y = train_test_split(train_x, train_y, test_size=0.3, shuffle=True, random_state=42)\n",
    "\n",
    "\n",
    "num_input = 206\n",
    "num_output = 95\n",
    "\n",
    "in_columns = [str(i) for i in range(num_input)]\n",
    "out_columns = [str(i) for i in range(num_input, num_input + num_output)]"
   ]
  },
  {
   "cell_type": "code",
   "execution_count": null,
   "id": "73878545-56ad-46b0-b442-86ca835f7ce1",
   "metadata": {},
   "outputs": [],
   "source": [
    "%%time\n",
    "\n",
    "train_models = True\n",
    "if train_models:\n",
    "    for i in range(num_output):\n",
    "        print(f'Training for output #{i}')\n",
    "        train = np.hstack((train_x, train_y[:, i].reshape(-1, 1)))\n",
    "        columns_names = in_columns + [out_columns[i]]\n",
    "        train = pd.DataFrame(train, columns=columns_names)\n",
    "        \n",
    "        x = in_columns\n",
    "        y = out_columns[i]\n",
    "        label = y\n",
    "        \n",
    "        train_x = train_x\n",
    "        train_yi = train_y[:, i].reshape(-1, 1)\n",
    "        \n",
    "        model_path = f'./autosklearn_models_net95v4_60/model_{i}'\n",
    "        automl = autosklearn.regression.AutoSklearnRegressor(time_left_for_this_task=20,n_jobs=5)\n",
    "        automl.fit(train_x, train_yi)\n",
    "        \n",
    "        with open(f'{model_path}.pkl', 'wb') as f:\n",
    "            pickle.dump(automl, f)"
   ]
  },
  {
   "cell_type": "code",
   "execution_count": null,
   "id": "20f62c96-6f7d-4e76-9db3-270f83ca76e7",
   "metadata": {},
   "outputs": [],
   "source": [
    "models = []\n",
    "for i in range(num_output):\n",
    "    model_path = f'./autosklearn_models_net95v4_60/model_{i}'\n",
    "    label = out_columns[i]\n",
    "\n",
    "    with open(f'{model_path}.pkl', 'rb') as f:\n",
    "        automl = pickle.load(f)\n",
    "        \n",
    "    models.append(automl)\n",
    "    print(f'Model {i} loaded')\n",
    "\n",
    "from net95.scenarios2 import get_data_by_scenario_and_case\n",
    "\n",
    "std_results = []\n",
    "for scenario in range(1, 6):\n",
    "    for case in range(1, 4):\n",
    "        print(f'SCENARIO {scenario}, CASE {case} VALIDATION')\n",
    "        s1_c1_data = get_data_by_scenario_and_case(scenario, case, net_name='net95v4')\n",
    "        x = s1_c1_data[0]\n",
    "        x_hat = s1_c1_data[1]\n",
    "        y_all = s1_c1_data[2]\n",
    "        y_hat_all = s1_c1_data[3]\n",
    "        \n",
    "        estim = []\n",
    "        for i in range(num_output):\n",
    "            columns_names = in_columns + [\n",
    "                out_columns[i]]\n",
    "            x = in_columns\n",
    "            y = out_columns[i]\n",
    "            \n",
    "            predictor = models[i]\n",
    "            test_x = x_hat\n",
    "            test_y = np.asarray(y_all[0][i]).reshape(-1, 1)\n",
    "            test = pd.DataFrame(np.hstack((test_x, test_y)), columns=columns_names)\n",
    "            \n",
    "            \n",
    "            preds = predictor.predict(test_x)\n",
    "            \n",
    "            estim.append(preds[0])\n",
    "            \n",
    "        pred = np.asarray(estim)\n",
    "        if case == 1:\n",
    "            std_results.append(f'std: {np.sqrt(np.mean(np.square(y_all - pred)))}')\n",
    "print(std_results)\n"
   ]
  }
 ],
 "metadata": {
  "kernelspec": {
   "display_name": "Python 3 (ipykernel)",
   "language": "python",
   "name": "python3"
  },
  "language_info": {
   "codemirror_mode": {
    "name": "ipython",
    "version": 3
   },
   "file_extension": ".py",
   "mimetype": "text/x-python",
   "name": "python",
   "nbconvert_exporter": "python",
   "pygments_lexer": "ipython3",
   "version": "3.8.18"
  }
 },
 "nbformat": 4,
 "nbformat_minor": 5
}
