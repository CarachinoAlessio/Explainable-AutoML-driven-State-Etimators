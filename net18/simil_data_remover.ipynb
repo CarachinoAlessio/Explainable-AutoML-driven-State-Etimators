{
 "cells": [
  {
   "cell_type": "raw",
   "source": [],
   "metadata": {
    "collapsed": false
   },
   "id": "34775c472581e75e"
  },
  {
   "cell_type": "code",
   "execution_count": 1,
   "id": "33e0449e77a51d2c",
   "metadata": {
    "collapsed": true,
    "ExecuteTime": {
     "end_time": "2024-09-04T19:52:53.983170100Z",
     "start_time": "2024-09-04T19:52:50.754061Z"
    }
   },
   "outputs": [],
   "source": [
    "from net18.scenarios2 import get_data_by_scenario_and_case\n",
    "import numpy as np"
   ]
  },
  {
   "cell_type": "code",
   "execution_count": 2,
   "outputs": [],
   "source": [
    "def mse(array1, array2):\n",
    "    \"\"\"Calculates the Mean Squared Error between two arrays.\"\"\"\n",
    "    return np.mean((array1 - array2) ** 2)\n",
    "\n",
    "def filter_similar_entries(data, target_array, threshold, metric='mse'):\n",
    "    \"\"\"\n",
    "    Filters out entries from `data` that are too similar to `target_array`.\n",
    "\n",
    "    Parameters:\n",
    "        data (np.ndarray): The array to filter from.\n",
    "        target_array (np.ndarray): The array to compare against.\n",
    "        threshold (float): The similarity threshold. Entries with similarity below this are filtered out.\n",
    "        metric (str): The similarity metric to use ('mse', 'euclidean', or 'cosine').\n",
    "\n",
    "    Returns:\n",
    "        np.ndarray: A filtered array with dissimilar entries.\n",
    "    \"\"\"\n",
    "    if metric == 'mse':\n",
    "        dist_func = mse\n",
    "    elif metric == 'euclidean':\n",
    "        from scipy.spatial.distance import euclidean\n",
    "        dist_func = euclidean\n",
    "    elif metric == 'cosine':\n",
    "        from scipy.spatial.distance import cosine\n",
    "        dist_func = cosine\n",
    "    else:\n",
    "        raise ValueError(\"Unsupported metric. Use 'mse', 'euclidean', or 'cosine'.\")\n",
    "\n",
    "    filtered_data_x = []\n",
    "    filtered_data_y = []\n",
    "    for i, entry in enumerate(data):\n",
    "        if dist_func(entry, target_array) >= threshold:\n",
    "            filtered_data_x.append(entry)\n",
    "            filtered_data_y.append(alt_y[i])\n",
    "\n",
    "    return np.array(filtered_data_x), np.array(filtered_data_y)"
   ],
   "metadata": {
    "collapsed": false,
    "ExecuteTime": {
     "end_time": "2024-09-04T19:52:53.997717800Z",
     "start_time": "2024-09-04T19:52:53.986701Z"
    }
   },
   "id": "ea9b68481f5546c7"
  },
  {
   "cell_type": "code",
   "execution_count": 3,
   "outputs": [],
   "source": [
    "s1_c1_data = get_data_by_scenario_and_case(1, 1, net_name='net18v1')"
   ],
   "metadata": {
    "collapsed": false,
    "ExecuteTime": {
     "end_time": "2024-09-04T19:52:54.090702100Z",
     "start_time": "2024-09-04T19:52:53.999717700Z"
    }
   },
   "id": "initial_id"
  },
  {
   "cell_type": "code",
   "execution_count": 4,
   "outputs": [
    {
     "data": {
      "text/plain": "array([[ 0.01      ,  0.03      , -0.        ,  0.04      , -0.        ,\n        -0.2       , -0.        ,  0.08      ,  0.08      , -0.        ,\n         0.04      , -0.        , -0.5       , -0.        , -0.        ,\n         0.01      ,  0.05      ,  0.01      ,  0.01      , -0.        ,\n         0.02      , -0.        , -0.06      , -0.        ,  0.04      ,\n         0.04      , -0.        ,  0.02      , -0.        , -0.2       ,\n        -0.        , -0.        ,  0.01      ,  0.03      ,  1.01      ,\n         1.02371975,  1.02655259,  1.02871535,  1.0234696 , -0.34755082,\n        -0.44986314, -0.29107685,  0.04000132, -0.49179786,  0.06002274,\n         0.01000065, -0.0631883 , -0.13655364, -0.09723596,  0.02000057,\n        -0.19758448,  0.04000644,  0.01000017]])"
     },
     "execution_count": 4,
     "metadata": {},
     "output_type": "execute_result"
    }
   ],
   "source": [
    "x = s1_c1_data[0]\n",
    "x_hat = s1_c1_data[1]\n",
    "y = s1_c1_data[2]\n",
    "y_hat = s1_c1_data[3]\n",
    "\n",
    "x"
   ],
   "metadata": {
    "collapsed": false,
    "ExecuteTime": {
     "end_time": "2024-09-04T19:52:54.114742900Z",
     "start_time": "2024-09-04T19:52:54.092701400Z"
    }
   },
   "id": "244f15ff6a46b294"
  },
  {
   "cell_type": "code",
   "execution_count": 5,
   "outputs": [],
   "source": [
    "alt_x = np.load('../net18/simulations_net18/net_18_v1/measured_data_x_alt.npy')\n",
    "alt_y = np.load('../net18/simulations_net18/net_18_v1/data_y_alt.npy')"
   ],
   "metadata": {
    "collapsed": false,
    "ExecuteTime": {
     "end_time": "2024-09-04T19:52:58.448640900Z",
     "start_time": "2024-09-04T19:52:58.408943300Z"
    }
   },
   "id": "f66e536810ff27b8"
  },
  {
   "cell_type": "code",
   "execution_count": 6,
   "outputs": [
    {
     "data": {
      "text/plain": "(30001, 53)"
     },
     "execution_count": 6,
     "metadata": {},
     "output_type": "execute_result"
    }
   ],
   "source": [
    "alt_x.shape"
   ],
   "metadata": {
    "collapsed": false,
    "ExecuteTime": {
     "end_time": "2024-09-04T19:52:58.726472400Z",
     "start_time": "2024-09-04T19:52:58.710940300Z"
    }
   },
   "id": "9f967936b670fa1c"
  },
  {
   "cell_type": "code",
   "execution_count": 7,
   "outputs": [
    {
     "data": {
      "text/plain": "(1, 53)"
     },
     "execution_count": 7,
     "metadata": {},
     "output_type": "execute_result"
    }
   ],
   "source": [
    "x.shape"
   ],
   "metadata": {
    "collapsed": false,
    "ExecuteTime": {
     "end_time": "2024-09-04T19:52:59.423685400Z",
     "start_time": "2024-09-04T19:52:59.408638500Z"
    }
   },
   "id": "75c11e9321c6be63"
  },
  {
   "cell_type": "code",
   "execution_count": 13,
   "outputs": [
    {
     "name": "stdout",
     "output_type": "stream",
     "text": [
      "Original data size: (30001, 53)\n",
      "Filtered data size: (9513, 53)\n",
      "Filtered data size: (9513, 18)\n"
     ]
    }
   ],
   "source": [
    "# Define the threshold and metric\n",
    "threshold = 0.8  # Adjust as needed\n",
    "metric = 'mse'  # Use MSE as the similarity metric\n",
    "\n",
    "'''\n",
    "threshold = 6.5  # Adjust as needed\n",
    "metric = 'euclidean'  # Use MSE as the similarity metric\n",
    "'''\n",
    "\n",
    "# Filter the data\n",
    "filtered_measured_alt_x, filtered_alt_y = filter_similar_entries(alt_x, x.ravel(), threshold, metric)\n",
    "\n",
    "# Save the filtered data back to a file (optional)\n",
    "np.save('../net18/simulations_net18/net_18_v1_filtered/filtered_measured_alt_x.npy', filtered_measured_alt_x)\n",
    "np.save('../net18/simulations_net18/net_18_v1_filtered/filtered_alt_y.npy', filtered_alt_y)\n",
    "\n",
    "\n",
    "print(f\"Original data size: {alt_x.shape}\")\n",
    "print(f\"Filtered data size: {filtered_measured_alt_x.shape}\")\n",
    "print(f\"Filtered data size: {filtered_alt_y.shape}\")\n"
   ],
   "metadata": {
    "collapsed": false,
    "ExecuteTime": {
     "end_time": "2024-09-04T19:58:52.650164800Z",
     "start_time": "2024-09-04T19:58:52.531346300Z"
    }
   },
   "id": "f06f430802f0d1bb"
  },
  {
   "cell_type": "code",
   "execution_count": null,
   "outputs": [],
   "source": [],
   "metadata": {
    "collapsed": false
   },
   "id": "77e761e1357123cd"
  }
 ],
 "metadata": {
  "kernelspec": {
   "display_name": "Python 3",
   "language": "python",
   "name": "python3"
  },
  "language_info": {
   "codemirror_mode": {
    "name": "ipython",
    "version": 2
   },
   "file_extension": ".py",
   "mimetype": "text/x-python",
   "name": "python",
   "nbconvert_exporter": "python",
   "pygments_lexer": "ipython2",
   "version": "2.7.6"
  }
 },
 "nbformat": 4,
 "nbformat_minor": 5
}
