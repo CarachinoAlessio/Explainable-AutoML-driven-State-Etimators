{
 "cells": [
  {
   "cell_type": "code",
   "execution_count": 1,
   "id": "initial_id",
   "metadata": {
    "collapsed": true,
    "ExecuteTime": {
     "end_time": "2024-03-01T14:38:58.402034700Z",
     "start_time": "2024-03-01T14:38:56.319851300Z"
    }
   },
   "outputs": [],
   "source": [
    "import pandas as pd\n",
    "import numpy as np\n",
    "from sklearn.model_selection import train_test_split\n",
    "import os\n",
    "import time\n",
    "from autogluon.tabular import TabularDataset, TabularPredictor"
   ]
  },
  {
   "cell_type": "code",
   "execution_count": 2,
   "outputs": [],
   "source": [
    "alt_x = np.load('../nets/net_18_data/measured_data_x_alt.npy')\n",
    "alt_y = np.load('../nets/net_18_data/data_y_alt.npy')\n",
    "data_x = alt_x\n",
    "data_y = alt_y\n",
    "\n",
    "split_train = int(0.8 * data_x.shape[0])\n",
    "train_x = data_x[:split_train, :]\n",
    "train_y = data_y[:split_train, :]\n",
    "\n",
    "train_x, val_x, train_y, val_y = train_test_split(train_x, train_y, test_size=0.2, shuffle=True, random_state=42)\n",
    "\n",
    "train_x, test_x, train_y, test_y = train_test_split(train_x, train_y, test_size=0.3, shuffle=True, random_state=42)\n"
   ],
   "metadata": {
    "collapsed": false,
    "ExecuteTime": {
     "end_time": "2024-03-01T14:38:58.448035200Z",
     "start_time": "2024-03-01T14:38:58.406535400Z"
    }
   },
   "id": "8003b9514dd6505b"
  },
  {
   "cell_type": "code",
   "execution_count": 3,
   "outputs": [],
   "source": [
    "num_input = 53\n",
    "num_output = 18\n",
    "\n",
    "in_columns = [str(i) for i in range(num_input)]\n",
    "out_columns = [str(i) for i in range(num_input, num_input + num_output)]"
   ],
   "metadata": {
    "collapsed": false,
    "ExecuteTime": {
     "end_time": "2024-03-01T14:38:58.448534900Z",
     "start_time": "2024-03-01T14:38:58.434535300Z"
    }
   },
   "id": "815b96bd2fa485ea"
  },
  {
   "cell_type": "code",
   "execution_count": null,
   "outputs": [],
   "source": [
    "train_models = True\n",
    "if train_models:\n",
    "    for i in range(num_output):\n",
    "        print(f'Training for output #{i}')\n",
    "        train = np.hstack((train_x, train_y[:, i].reshape(-1, 1)))\n",
    "        columns_names = in_columns + [out_columns[i]]\n",
    "        train = pd.DataFrame(train, columns=columns_names)\n",
    "        \n",
    "        x = in_columns\n",
    "        y = out_columns[i]\n",
    "        label = y\n",
    "        model_path = f'./autogluon_models/model_{i}'\n",
    "        \n",
    "        predictor = TabularPredictor(label=label, problem_type='regression', eval_metric='mean_squared_error', path=model_path).fit(train, time_limit=540)\n"
   ],
   "metadata": {
    "collapsed": false
   },
   "id": "d1e1333565ba3f6b"
  },
  {
   "cell_type": "code",
   "execution_count": null,
   "outputs": [],
   "source": [
    "'''\n",
    "test_predictions = []\n",
    "for i in range(num_output):\n",
    "    columns_names = in_columns + [out_columns[i]]\n",
    "    x = in_columns\n",
    "    y = out_columns[i]\n",
    "    \n",
    "    test = np.hstack((test_x, test_y[:, i].reshape(-1, 1)))\n",
    "    test = h2o.H2OFrame(test, column_names=columns_names)\n",
    "    \n",
    "    model_path = f'./autogluon_models/model_{i}/'\n",
    "    files = os.listdir(model_path)\n",
    "    model_filename = [f for f in files if os.path.isfile(os.path.join(model_path, f))][0]\n",
    "    \n",
    "    aml = h2o.load_model(f'{model_path}/{model_filename}')\n",
    "    try:\n",
    "        preds = aml.leader.predict(test)\n",
    "    except:\n",
    "        preds = aml.predict(test)\n",
    "    test_predictions.append(preds['predict'])\n",
    "    perf = aml.model_performance(test)\n",
    "    print(f\"MSE for model {i}: {perf._metric_json['MSE']}\")\n",
    "    print('---------------------------------')\n",
    "'''\n"
   ],
   "metadata": {
    "collapsed": false
   },
   "id": "bc57d235ae0144b6"
  },
  {
   "cell_type": "code",
   "execution_count": 4,
   "outputs": [
    {
     "name": "stderr",
     "output_type": "stream",
     "text": [
      "Warning: path already exists! This predictor may overwrite an existing predictor! path=\"./autogluon_models/model_0/\"\n",
      "Warning: path already exists! This predictor may overwrite an existing predictor! path=\"./autogluon_models/model_1/\"\n",
      "Warning: path already exists! This predictor may overwrite an existing predictor! path=\"./autogluon_models/model_2/\"\n",
      "Warning: path already exists! This predictor may overwrite an existing predictor! path=\"./autogluon_models/model_3/\"\n",
      "Warning: path already exists! This predictor may overwrite an existing predictor! path=\"./autogluon_models/model_4/\"\n",
      "Warning: path already exists! This predictor may overwrite an existing predictor! path=\"./autogluon_models/model_5/\"\n",
      "Warning: path already exists! This predictor may overwrite an existing predictor! path=\"./autogluon_models/model_6/\"\n",
      "Warning: path already exists! This predictor may overwrite an existing predictor! path=\"./autogluon_models/model_7/\"\n",
      "Warning: path already exists! This predictor may overwrite an existing predictor! path=\"./autogluon_models/model_8/\"\n",
      "Warning: path already exists! This predictor may overwrite an existing predictor! path=\"./autogluon_models/model_9/\"\n",
      "Warning: path already exists! This predictor may overwrite an existing predictor! path=\"./autogluon_models/model_10/\"\n",
      "Warning: path already exists! This predictor may overwrite an existing predictor! path=\"./autogluon_models/model_11/\"\n",
      "Warning: path already exists! This predictor may overwrite an existing predictor! path=\"./autogluon_models/model_12/\"\n",
      "Warning: path already exists! This predictor may overwrite an existing predictor! path=\"./autogluon_models/model_13/\"\n",
      "Warning: path already exists! This predictor may overwrite an existing predictor! path=\"./autogluon_models/model_14/\"\n",
      "Warning: path already exists! This predictor may overwrite an existing predictor! path=\"./autogluon_models/model_15/\"\n",
      "Warning: path already exists! This predictor may overwrite an existing predictor! path=\"./autogluon_models/model_16/\"\n",
      "Warning: path already exists! This predictor may overwrite an existing predictor! path=\"./autogluon_models/model_17/\"\n"
     ]
    },
    {
     "name": "stdout",
     "output_type": "stream",
     "text": [
      "Model 0 loaded\n",
      "Model 1 loaded\n",
      "Model 2 loaded\n",
      "Model 3 loaded\n",
      "Model 4 loaded\n",
      "Model 5 loaded\n",
      "Model 6 loaded\n",
      "Model 7 loaded\n",
      "Model 8 loaded\n",
      "Model 9 loaded\n",
      "Model 10 loaded\n",
      "Model 11 loaded\n",
      "Model 12 loaded\n",
      "Model 13 loaded\n",
      "Model 14 loaded\n",
      "Model 15 loaded\n",
      "Model 16 loaded\n",
      "Model 17 loaded\n"
     ]
    }
   ],
   "source": [
    "models = []\n",
    "for i in range(num_output):\n",
    "    model_path = f'./autogluon_models/model_{i}/'\n",
    "    files = os.listdir(model_path)\n",
    "    #model_filename = [f for f in files if os.path.isfile(os.path.join(model_path, f))][0]\n",
    "    label = out_columns[i]\n",
    "    \n",
    "    predictor = TabularPredictor(label=label, problem_type='regression', eval_metric='mean_squared_error', path=model_path).load(f'{model_path}')\n",
    "    models.append(predictor)\n",
    "    print(f'Model {i} loaded')"
   ],
   "metadata": {
    "collapsed": false,
    "ExecuteTime": {
     "end_time": "2024-03-01T14:39:14.617712500Z",
     "start_time": "2024-03-01T14:39:14.503975300Z"
    }
   },
   "id": "9685735c5423a2d7"
  },
  {
   "cell_type": "code",
   "execution_count": 5,
   "outputs": [
    {
     "name": "stdout",
     "output_type": "stream",
     "text": [
      "SCENARIO 1, CASE 1 VALIDATION\n",
      "SCENARIO 1, CASE 2 VALIDATION\n",
      "SCENARIO 1, CASE 3 VALIDATION\n",
      "SCENARIO 2, CASE 1 VALIDATION\n",
      "SCENARIO 2, CASE 2 VALIDATION\n",
      "SCENARIO 2, CASE 3 VALIDATION\n",
      "SCENARIO 3, CASE 1 VALIDATION\n",
      "SCENARIO 3, CASE 2 VALIDATION\n",
      "SCENARIO 3, CASE 3 VALIDATION\n",
      "SCENARIO 4, CASE 1 VALIDATION\n",
      "SCENARIO 4, CASE 2 VALIDATION\n",
      "SCENARIO 4, CASE 3 VALIDATION\n",
      "SCENARIO 5, CASE 1 VALIDATION\n",
      "SCENARIO 5, CASE 2 VALIDATION\n",
      "SCENARIO 5, CASE 3 VALIDATION\n",
      "['std: 0.007678616614487961', 'std: 0.005597705108611525', 'std: 0.0037181661130499546', 'std: 0.0036518991148935284', 'std: 0.0016187131741629084']\n"
     ]
    }
   ],
   "source": [
    "from net18.scenarios2 import get_data_by_scenario_and_case, report_preds_on_validation_files\n",
    "\n",
    "std_results = []\n",
    "for scenario in range(1, 6):\n",
    "    for case in range(1, 4):\n",
    "        print(f'SCENARIO {scenario}, CASE {case} VALIDATION')\n",
    "        s1_c1_data = get_data_by_scenario_and_case(scenario, case)\n",
    "        x = s1_c1_data[0]\n",
    "        x_hat = s1_c1_data[1]\n",
    "        y_all = s1_c1_data[2]\n",
    "        y_hat_all = s1_c1_data[3]\n",
    "        \n",
    "        estim = []\n",
    "        for i in range(num_output):\n",
    "            columns_names = in_columns + [out_columns[i]]\n",
    "            x = in_columns\n",
    "            y = out_columns[i]\n",
    "            \n",
    "            predictor = models[i]\n",
    "            test_x = x_hat\n",
    "            test_y = np.asarray(y_all[0][i]).reshape(-1, 1)\n",
    "            test = pd.DataFrame(np.hstack((test_x, test_y)), columns=columns_names)\n",
    "            \n",
    "            \n",
    "            preds = predictor.predict(test)\n",
    "            \n",
    "            estim.append(preds[0])\n",
    "            \n",
    "        pred = np.asarray(estim)\n",
    "        # report_preds_on_validation_files(pred, 8, 'autogloun', scenario, case=case)\n",
    "        if case == 1:\n",
    "            std_results.append(f'std: {np.sqrt(np.mean(np.square(y_all - pred)))}')\n",
    "print(std_results)\n"
   ],
   "metadata": {
    "collapsed": false,
    "ExecuteTime": {
     "end_time": "2024-02-26T11:53:28.784817800Z",
     "start_time": "2024-02-26T11:51:29.879241200Z"
    }
   },
   "id": "c91c44008cd32294"
  },
  {
   "cell_type": "code",
   "execution_count": 6,
   "outputs": [
    {
     "data": {
      "text/plain": "<Figure size 1500x600 with 1 Axes>",
      "image/png": "[encoded data removed]"
     },
     "metadata": {},
     "output_type": "display_data"
    },
    {
     "data": {
      "text/plain": "'\\nnorm_relevance = ((relevance-abs(relevance)) / (max(relevance) - min(relevance)))\\n\\nprint(relevance)\\nplt.imshow(norm_relevance.reshape((53, 1)))\\nplt.colorbar()\\n'"
     },
     "execution_count": 6,
     "metadata": {},
     "output_type": "execute_result"
    }
   ],
   "source": [
    "import shap\n",
    "\n",
    "import matplotlib.pyplot as plt\n",
    "\n",
    "np.random.seed(42)\n",
    "\n",
    "node_index = 0\n",
    "predictor = models[node_index] # I want to explain state estimation for node at index 0\n",
    "columns_names = in_columns + [out_columns[node_index]]\n",
    "\n",
    "def wrapped_model(x):\n",
    "    x = pd.DataFrame(x, columns=columns_names[:-1])\n",
    "    preds = predictor.predict(x)\n",
    "    return preds\n",
    "\n",
    "\n",
    "to_be_explained = test_x[0]\n",
    "random_indices = np.random.choice(test_x.shape[0], size=100, replace=False)\n",
    "explainer = shap.KernelExplainer(wrapped_model, train_x[random_indices])\n",
    "shap_values = explainer.shap_values(to_be_explained)\n",
    "relevance = abs(shap_values.ravel())\n",
    "\n",
    "x_positions = np.arange(len(relevance))\n",
    "plt.figure(figsize=(15,6))\n",
    "plt.bar(x_positions, relevance, color='green')\n",
    "plt.xlabel('Model input index')\n",
    "plt.ylabel('Contributions')\n",
    "plt.title(f'SHAP Values for AutoGluon - output index {node_index}')\n",
    "#plt.xticks(x_positions, ['A', 'B', 'C', 'D', 'E'])\n",
    "\n",
    "plt.show()\n",
    "\n",
    "'''\n",
    "norm_relevance = ((relevance-abs(relevance)) / (max(relevance) - min(relevance)))\n",
    "\n",
    "print(relevance)\n",
    "plt.imshow(norm_relevance.reshape((53, 1)))\n",
    "plt.colorbar()\n",
    "'''"
   ],
   "metadata": {
    "collapsed": false,
    "ExecuteTime": {
     "end_time": "2024-03-01T11:44:26.563966Z",
     "start_time": "2024-03-01T11:44:20.869327900Z"
    }
   },
   "id": "621a0939a1bd162f"
  },
  {
   "cell_type": "code",
   "execution_count": 8,
   "outputs": [
    {
     "name": "stdout",
     "output_type": "stream",
     "text": [
      "Intercept 0.987845049620775\n",
      "Prediction_local [1.03321065]\n",
      "Right: 1.0377387\n"
     ]
    },
    {
     "data": {
      "text/plain": "<Figure size 1500x600 with 1 Axes>",
      "image/png": "[encoded data removed]"
     },
     "metadata": {},
     "output_type": "display_data"
    }
   ],
   "source": [
    "import lime.lime_tabular\n",
    "import pandas as pd\n",
    "import matplotlib.pyplot as plt\n",
    "\n",
    "np.random.seed(42)\n",
    "\n",
    "node_index = 0\n",
    "predictor = models[node_index] # I want to explain state estimation for node at index 0\n",
    "columns_names = in_columns + [out_columns[node_index]]\n",
    "\n",
    "def wrapped_model(x):\n",
    "    x = pd.DataFrame(x, columns=columns_names[:-1])\n",
    "    preds = predictor.predict(x).to_numpy()\n",
    "    return preds\n",
    "\n",
    "to_be_explained = test_x[0]\n",
    "random_indices = np.random.choice(test_x.shape[0], size=100, replace=False)\n",
    "background = train_x[random_indices]\n",
    "explainer = lime.lime_tabular.LimeTabularExplainer(\n",
    "    background,\n",
    "    feature_names=columns_names[:-1],\n",
    "    verbose=True,\n",
    "    mode='regression'\n",
    ")\n",
    "\n",
    "exp = explainer.explain_instance(to_be_explained, wrapped_model, num_features=53)\n",
    "relevance = abs(np.asarray([j for i,j in sorted(exp.local_exp[1], key=lambda i: i[0])]))\n",
    "\n",
    "x_positions = np.arange(len(relevance))\n",
    "plt.figure(figsize=(15,6))\n",
    "plt.bar(x_positions, relevance, color='green')\n",
    "plt.xlabel('Model input index')\n",
    "plt.ylabel('Contributions')\n",
    "plt.title(f'LIME for AutoGluon - output index {node_index}')\n",
    "#plt.xticks(x_positions, ['A', 'B', 'C', 'D', 'E'])\n",
    "\n",
    "plt.show()"
   ],
   "metadata": {
    "collapsed": false,
    "ExecuteTime": {
     "end_time": "2024-03-01T14:40:49.617106300Z",
     "start_time": "2024-03-01T14:40:48.950661500Z"
    }
   },
   "id": "2a15177f58616e2"
  },
  {
   "cell_type": "code",
   "execution_count": null,
   "outputs": [],
   "source": [
    " "
   ],
   "metadata": {
    "collapsed": false
   },
   "id": "757143a7eff7d5f9"
  }
 ],
 "metadata": {
  "kernelspec": {
   "display_name": "Python 3",
   "language": "python",
   "name": "python3"
  },
  "language_info": {
   "codemirror_mode": {
    "name": "ipython",
    "version": 2
   },
   "file_extension": ".py",
   "mimetype": "text/x-python",
   "name": "python",
   "nbconvert_exporter": "python",
   "pygments_lexer": "ipython2",
   "version": "2.7.6"
  }
 },
 "nbformat": 4,
 "nbformat_minor": 5
}
